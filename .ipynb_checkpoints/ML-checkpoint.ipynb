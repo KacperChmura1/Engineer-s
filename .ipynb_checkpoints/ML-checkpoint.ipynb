{
 "cells": [
  {
   "cell_type": "code",
   "execution_count": 1,
   "id": "a87aba29",
   "metadata": {},
   "outputs": [],
   "source": [
    "import pandas as pd\n",
    "import numpy as np\n",
    "from datetime import datetime\n",
    "from sklearn.model_selection import train_test_split\n",
    "from sklearn.preprocessing import StandardScaler\n",
    "from sklearn.preprocessing import MinMaxScaler\n",
    "from sklearn.linear_model import LinearRegression\n",
    "import matplotlib.pyplot as plt\n",
    "from sklearn.metrics import mean_absolute_error\n",
    "from sklearn.ensemble import AdaBoostRegressor"
   ]
  },
  {
   "cell_type": "markdown",
   "id": "3ea2ae4b",
   "metadata": {},
   "source": [
    "## Data frame with all data"
   ]
  },
  {
   "cell_type": "code",
   "execution_count": 3,
   "id": "bb4e4261",
   "metadata": {},
   "outputs": [],
   "source": [
    "int_df2_df3_with_province_and_city = pd.read_csv(r'C:\\Users\\Kacper\\Desktop\\uczelnia\\sem6\\Praca\\data\\int_df2_df3_with_city_and_province.csv', index_col=0)"
   ]
  },
  {
   "cell_type": "code",
   "execution_count": 4,
   "id": "985148da",
   "metadata": {},
   "outputs": [],
   "source": [
    "int_df2_df3_with_province_and_city_dum = pd.get_dummies(int_df2_df3_with_province_and_city,drop_first=True)"
   ]
  },
  {
   "cell_type": "code",
   "execution_count": 5,
   "id": "b635e565",
   "metadata": {},
   "outputs": [
    {
     "data": {
      "text/html": [
       "<div>\n",
       "<style scoped>\n",
       "    .dataframe tbody tr th:only-of-type {\n",
       "        vertical-align: middle;\n",
       "    }\n",
       "\n",
       "    .dataframe tbody tr th {\n",
       "        vertical-align: top;\n",
       "    }\n",
       "\n",
       "    .dataframe thead th {\n",
       "        text-align: right;\n",
       "    }\n",
       "</style>\n",
       "<table border=\"1\" class=\"dataframe\">\n",
       "  <thead>\n",
       "    <tr style=\"text-align: right;\">\n",
       "      <th></th>\n",
       "      <th>Price</th>\n",
       "      <th>Production_year</th>\n",
       "      <th>Mileage_km</th>\n",
       "      <th>Power_HP</th>\n",
       "      <th>Displacement_cm3</th>\n",
       "      <th>Doors_number</th>\n",
       "      <th>Month</th>\n",
       "      <th>Day</th>\n",
       "      <th>Year</th>\n",
       "      <th>Vehicle_brand_Acura</th>\n",
       "      <th>...</th>\n",
       "      <th>City_Żelechów</th>\n",
       "      <th>City_Żerków</th>\n",
       "      <th>City_Żmigród</th>\n",
       "      <th>City_Żnin</th>\n",
       "      <th>City_Żory</th>\n",
       "      <th>City_Żukowo</th>\n",
       "      <th>City_Żuromin</th>\n",
       "      <th>City_Żychlin</th>\n",
       "      <th>City_Żyrardów</th>\n",
       "      <th>City_Żywiec</th>\n",
       "    </tr>\n",
       "  </thead>\n",
       "  <tbody>\n",
       "    <tr>\n",
       "      <th>0</th>\n",
       "      <td>105900.0</td>\n",
       "      <td>2021.0</td>\n",
       "      <td>12015.0</td>\n",
       "      <td>165.0</td>\n",
       "      <td>1368.0</td>\n",
       "      <td>3.0</td>\n",
       "      <td>8</td>\n",
       "      <td>30</td>\n",
       "      <td>2023</td>\n",
       "      <td>0</td>\n",
       "      <td>...</td>\n",
       "      <td>0</td>\n",
       "      <td>0</td>\n",
       "      <td>0</td>\n",
       "      <td>0</td>\n",
       "      <td>0</td>\n",
       "      <td>0</td>\n",
       "      <td>0</td>\n",
       "      <td>0</td>\n",
       "      <td>0</td>\n",
       "      <td>0</td>\n",
       "    </tr>\n",
       "    <tr>\n",
       "      <th>1</th>\n",
       "      <td>112000.0</td>\n",
       "      <td>2023.0</td>\n",
       "      <td>7.0</td>\n",
       "      <td>165.0</td>\n",
       "      <td>1368.0</td>\n",
       "      <td>3.0</td>\n",
       "      <td>8</td>\n",
       "      <td>30</td>\n",
       "      <td>2023</td>\n",
       "      <td>0</td>\n",
       "      <td>...</td>\n",
       "      <td>0</td>\n",
       "      <td>0</td>\n",
       "      <td>0</td>\n",
       "      <td>0</td>\n",
       "      <td>0</td>\n",
       "      <td>0</td>\n",
       "      <td>0</td>\n",
       "      <td>0</td>\n",
       "      <td>0</td>\n",
       "      <td>0</td>\n",
       "    </tr>\n",
       "    <tr>\n",
       "      <th>2</th>\n",
       "      <td>39999.0</td>\n",
       "      <td>2011.0</td>\n",
       "      <td>151255.0</td>\n",
       "      <td>135.0</td>\n",
       "      <td>1400.0</td>\n",
       "      <td>3.0</td>\n",
       "      <td>8</td>\n",
       "      <td>30</td>\n",
       "      <td>2023</td>\n",
       "      <td>0</td>\n",
       "      <td>...</td>\n",
       "      <td>0</td>\n",
       "      <td>0</td>\n",
       "      <td>0</td>\n",
       "      <td>0</td>\n",
       "      <td>0</td>\n",
       "      <td>0</td>\n",
       "      <td>0</td>\n",
       "      <td>0</td>\n",
       "      <td>0</td>\n",
       "      <td>0</td>\n",
       "    </tr>\n",
       "    <tr>\n",
       "      <th>3</th>\n",
       "      <td>22800.0</td>\n",
       "      <td>2009.0</td>\n",
       "      <td>299500.0</td>\n",
       "      <td>155.0</td>\n",
       "      <td>1368.0</td>\n",
       "      <td>3.0</td>\n",
       "      <td>8</td>\n",
       "      <td>25</td>\n",
       "      <td>2023</td>\n",
       "      <td>0</td>\n",
       "      <td>...</td>\n",
       "      <td>0</td>\n",
       "      <td>0</td>\n",
       "      <td>0</td>\n",
       "      <td>0</td>\n",
       "      <td>0</td>\n",
       "      <td>0</td>\n",
       "      <td>0</td>\n",
       "      <td>0</td>\n",
       "      <td>0</td>\n",
       "      <td>0</td>\n",
       "    </tr>\n",
       "    <tr>\n",
       "      <th>4</th>\n",
       "      <td>29000.0</td>\n",
       "      <td>2009.0</td>\n",
       "      <td>222463.0</td>\n",
       "      <td>150.0</td>\n",
       "      <td>1368.0</td>\n",
       "      <td>3.0</td>\n",
       "      <td>8</td>\n",
       "      <td>30</td>\n",
       "      <td>2023</td>\n",
       "      <td>0</td>\n",
       "      <td>...</td>\n",
       "      <td>0</td>\n",
       "      <td>0</td>\n",
       "      <td>0</td>\n",
       "      <td>0</td>\n",
       "      <td>0</td>\n",
       "      <td>0</td>\n",
       "      <td>0</td>\n",
       "      <td>0</td>\n",
       "      <td>0</td>\n",
       "      <td>0</td>\n",
       "    </tr>\n",
       "  </tbody>\n",
       "</table>\n",
       "<p>5 rows × 3041 columns</p>\n",
       "</div>"
      ],
      "text/plain": [
       "      Price  Production_year  Mileage_km  Power_HP  Displacement_cm3  \\\n",
       "0  105900.0           2021.0     12015.0     165.0            1368.0   \n",
       "1  112000.0           2023.0         7.0     165.0            1368.0   \n",
       "2   39999.0           2011.0    151255.0     135.0            1400.0   \n",
       "3   22800.0           2009.0    299500.0     155.0            1368.0   \n",
       "4   29000.0           2009.0    222463.0     150.0            1368.0   \n",
       "\n",
       "   Doors_number  Month  Day  Year  Vehicle_brand_Acura  ...  City_Żelechów  \\\n",
       "0           3.0      8   30  2023                    0  ...              0   \n",
       "1           3.0      8   30  2023                    0  ...              0   \n",
       "2           3.0      8   30  2023                    0  ...              0   \n",
       "3           3.0      8   25  2023                    0  ...              0   \n",
       "4           3.0      8   30  2023                    0  ...              0   \n",
       "\n",
       "   City_Żerków  City_Żmigród  City_Żnin  City_Żory  City_Żukowo  City_Żuromin  \\\n",
       "0            0             0          0          0            0             0   \n",
       "1            0             0          0          0            0             0   \n",
       "2            0             0          0          0            0             0   \n",
       "3            0             0          0          0            0             0   \n",
       "4            0             0          0          0            0             0   \n",
       "\n",
       "   City_Żychlin  City_Żyrardów  City_Żywiec  \n",
       "0             0              0            0  \n",
       "1             0              0            0  \n",
       "2             0              0            0  \n",
       "3             0              0            0  \n",
       "4             0              0            0  \n",
       "\n",
       "[5 rows x 3041 columns]"
      ]
     },
     "execution_count": 5,
     "metadata": {},
     "output_type": "execute_result"
    }
   ],
   "source": [
    "int_df2_df3_with_province_and_city_dum.head()"
   ]
  },
  {
   "cell_type": "code",
   "execution_count": 6,
   "id": "0e17c07c",
   "metadata": {},
   "outputs": [],
   "source": [
    "X = int_df2_df3_with_province_and_city_dum.drop([\"Price\"], axis=1)"
   ]
  },
  {
   "cell_type": "code",
   "execution_count": 7,
   "id": "fc3123c3",
   "metadata": {},
   "outputs": [],
   "source": [
    "y = int_df2_df3_with_province_and_city_dum[\"Price\"]"
   ]
  },
  {
   "cell_type": "code",
   "execution_count": 8,
   "id": "bf07f969",
   "metadata": {},
   "outputs": [],
   "source": [
    "X_train, X_test, y_train, y_test = train_test_split(X, y, test_size=0.2, random_state=110)"
   ]
  },
  {
   "cell_type": "markdown",
   "id": "d690d866",
   "metadata": {},
   "source": [
    "### RandomForest"
   ]
  },
  {
   "cell_type": "code",
   "execution_count": 30,
   "id": "7d9a897f",
   "metadata": {},
   "outputs": [
    {
     "name": "stdout",
     "output_type": "stream",
     "text": [
      "Średni błąd bezwzględny (MAE) dla lasu losowego: 9241.628305360298\n"
     ]
    }
   ],
   "source": [
    "from sklearn.ensemble import RandomForestRegressor\n",
    "from sklearn.model_selection import GridSearchCV\n",
    "from sklearn.metrics import mean_absolute_error\n",
    "\n",
    "rf = RandomForestRegressor(random_state=42, n_estimators = 25)\n",
    "rf .fit(X_train, y_train)\n",
    "y_pred_rf = rf.predict(X_test)\n",
    "mae_rf = mean_absolute_error(y_test, y_pred_rf)\n",
    "print(\"Średni błąd bezwzględny (MAE) dla lasu losowego:\", mae_rf)\n"
   ]
  },
  {
   "cell_type": "markdown",
   "id": "5c274a2b",
   "metadata": {},
   "source": [
    "### Model Save"
   ]
  },
  {
   "cell_type": "code",
   "execution_count": 43,
   "id": "72095380",
   "metadata": {},
   "outputs": [],
   "source": [
    "import pickle\n",
    "# Zapisanie modelu do pliku za pomocą pickle\n",
    "#with open(r'C:\\Users\\Kacper\\Desktop\\uczelnia\\sem6\\Praca\\models\\random_forest_model_with_city_and_province.pkl', 'wb') as file:\n",
    "#    pickle.dump(rf, file)\n"
   ]
  },
  {
   "cell_type": "code",
   "execution_count": 42,
   "id": "49f5355f",
   "metadata": {},
   "outputs": [
    {
     "data": {
      "text/plain": [
       "Index(['Production_year', 'Mileage_km', 'Power_HP', 'Displacement_cm3',\n",
       "       'Doors_number', 'Month', 'Day', 'Year', 'Vehicle_brand_Acura',\n",
       "       'Vehicle_brand_Aixam',\n",
       "       ...\n",
       "       'City_Żelechów', 'City_Żerków', 'City_Żmigród', 'City_Żnin',\n",
       "       'City_Żory', 'City_Żukowo', 'City_Żuromin', 'City_Żychlin',\n",
       "       'City_Żyrardów', 'City_Żywiec'],\n",
       "      dtype='object', length=3040)"
      ]
     },
     "execution_count": 42,
     "metadata": {},
     "output_type": "execute_result"
    }
   ],
   "source": [
    "X_test.columns"
   ]
  },
  {
   "cell_type": "code",
   "execution_count": 39,
   "id": "e962a072",
   "metadata": {},
   "outputs": [
    {
     "data": {
      "text/plain": [
       "3040"
      ]
     },
     "execution_count": 39,
     "metadata": {},
     "output_type": "execute_result"
    }
   ],
   "source": [
    "len(rf.feature_importances_)"
   ]
  },
  {
   "cell_type": "markdown",
   "id": "2d308af0",
   "metadata": {},
   "source": [
    "### AdaptiveBoost"
   ]
  },
  {
   "cell_type": "code",
   "execution_count": 84,
   "id": "13f9a53c",
   "metadata": {},
   "outputs": [],
   "source": [
    "ada = AdaBoostRegressor(rf, n_estimators=1)\n",
    "ada.fit(X_train, y_train)\n",
    "y_pred_ada = rf.predict(X_test)\n",
    "mae_ada = mean_absolute_error(y_test, y_pred_ada)\n",
    "print(\"Średni błąd bezwzględny (MAE) dla adaptiveboost:\", mae_ada)"
   ]
  },
  {
   "cell_type": "markdown",
   "id": "7dd74a78",
   "metadata": {},
   "source": [
    "## Data frame with all data except the city column"
   ]
  },
  {
   "cell_type": "code",
   "execution_count": 54,
   "id": "e1d92d0f",
   "metadata": {},
   "outputs": [],
   "source": [
    "int_df2_df3_with_province = pd.read_csv(r'C:\\Users\\Kacper\\Desktop\\uczelnia\\sem6\\Praca\\data\\int_df2_df3_with_province.csv', index_col=0)"
   ]
  },
  {
   "cell_type": "code",
   "execution_count": 55,
   "id": "bf6c076c",
   "metadata": {},
   "outputs": [],
   "source": [
    "int_df2_df3_with_province_dum = pd.get_dummies(int_df2_df3_with_province,drop_first=True)"
   ]
  },
  {
   "cell_type": "code",
   "execution_count": 56,
   "id": "2da04996",
   "metadata": {
    "scrolled": true
   },
   "outputs": [
    {
     "data": {
      "text/html": [
       "<div>\n",
       "<style scoped>\n",
       "    .dataframe tbody tr th:only-of-type {\n",
       "        vertical-align: middle;\n",
       "    }\n",
       "\n",
       "    .dataframe tbody tr th {\n",
       "        vertical-align: top;\n",
       "    }\n",
       "\n",
       "    .dataframe thead th {\n",
       "        text-align: right;\n",
       "    }\n",
       "</style>\n",
       "<table border=\"1\" class=\"dataframe\">\n",
       "  <thead>\n",
       "    <tr style=\"text-align: right;\">\n",
       "      <th></th>\n",
       "      <th>Price</th>\n",
       "      <th>Production_year</th>\n",
       "      <th>Mileage_km</th>\n",
       "      <th>Power_HP</th>\n",
       "      <th>Displacement_cm3</th>\n",
       "      <th>Doors_number</th>\n",
       "      <th>Month</th>\n",
       "      <th>Day</th>\n",
       "      <th>Year</th>\n",
       "      <th>Vehicle_brand_Acura</th>\n",
       "      <th>...</th>\n",
       "      <th>Province_Opolskie</th>\n",
       "      <th>Province_Podkarpackie</th>\n",
       "      <th>Province_Podlaskie</th>\n",
       "      <th>Province_Pomorskie</th>\n",
       "      <th>Province_Warmińsko-mazurskie</th>\n",
       "      <th>Province_Wielkopolskie</th>\n",
       "      <th>Province_Zachodniopomorskie</th>\n",
       "      <th>Province_Łódzkie</th>\n",
       "      <th>Province_Śląskie</th>\n",
       "      <th>Province_Świętokrzyskie</th>\n",
       "    </tr>\n",
       "  </thead>\n",
       "  <tbody>\n",
       "    <tr>\n",
       "      <th>0</th>\n",
       "      <td>105900.0</td>\n",
       "      <td>2021.0</td>\n",
       "      <td>12015.0</td>\n",
       "      <td>165.0</td>\n",
       "      <td>1368.0</td>\n",
       "      <td>3.0</td>\n",
       "      <td>8</td>\n",
       "      <td>30</td>\n",
       "      <td>2023</td>\n",
       "      <td>0</td>\n",
       "      <td>...</td>\n",
       "      <td>0</td>\n",
       "      <td>0</td>\n",
       "      <td>0</td>\n",
       "      <td>0</td>\n",
       "      <td>0</td>\n",
       "      <td>0</td>\n",
       "      <td>0</td>\n",
       "      <td>1</td>\n",
       "      <td>0</td>\n",
       "      <td>0</td>\n",
       "    </tr>\n",
       "    <tr>\n",
       "      <th>1</th>\n",
       "      <td>112000.0</td>\n",
       "      <td>2023.0</td>\n",
       "      <td>7.0</td>\n",
       "      <td>165.0</td>\n",
       "      <td>1368.0</td>\n",
       "      <td>3.0</td>\n",
       "      <td>8</td>\n",
       "      <td>30</td>\n",
       "      <td>2023</td>\n",
       "      <td>0</td>\n",
       "      <td>...</td>\n",
       "      <td>0</td>\n",
       "      <td>0</td>\n",
       "      <td>0</td>\n",
       "      <td>0</td>\n",
       "      <td>0</td>\n",
       "      <td>0</td>\n",
       "      <td>0</td>\n",
       "      <td>0</td>\n",
       "      <td>1</td>\n",
       "      <td>0</td>\n",
       "    </tr>\n",
       "    <tr>\n",
       "      <th>2</th>\n",
       "      <td>39999.0</td>\n",
       "      <td>2011.0</td>\n",
       "      <td>151255.0</td>\n",
       "      <td>135.0</td>\n",
       "      <td>1400.0</td>\n",
       "      <td>3.0</td>\n",
       "      <td>8</td>\n",
       "      <td>30</td>\n",
       "      <td>2023</td>\n",
       "      <td>0</td>\n",
       "      <td>...</td>\n",
       "      <td>0</td>\n",
       "      <td>0</td>\n",
       "      <td>0</td>\n",
       "      <td>1</td>\n",
       "      <td>0</td>\n",
       "      <td>0</td>\n",
       "      <td>0</td>\n",
       "      <td>0</td>\n",
       "      <td>0</td>\n",
       "      <td>0</td>\n",
       "    </tr>\n",
       "    <tr>\n",
       "      <th>3</th>\n",
       "      <td>22800.0</td>\n",
       "      <td>2009.0</td>\n",
       "      <td>299500.0</td>\n",
       "      <td>155.0</td>\n",
       "      <td>1368.0</td>\n",
       "      <td>3.0</td>\n",
       "      <td>8</td>\n",
       "      <td>25</td>\n",
       "      <td>2023</td>\n",
       "      <td>0</td>\n",
       "      <td>...</td>\n",
       "      <td>0</td>\n",
       "      <td>0</td>\n",
       "      <td>0</td>\n",
       "      <td>0</td>\n",
       "      <td>0</td>\n",
       "      <td>0</td>\n",
       "      <td>0</td>\n",
       "      <td>0</td>\n",
       "      <td>0</td>\n",
       "      <td>0</td>\n",
       "    </tr>\n",
       "    <tr>\n",
       "      <th>4</th>\n",
       "      <td>29000.0</td>\n",
       "      <td>2009.0</td>\n",
       "      <td>222463.0</td>\n",
       "      <td>150.0</td>\n",
       "      <td>1368.0</td>\n",
       "      <td>3.0</td>\n",
       "      <td>8</td>\n",
       "      <td>30</td>\n",
       "      <td>2023</td>\n",
       "      <td>0</td>\n",
       "      <td>...</td>\n",
       "      <td>0</td>\n",
       "      <td>0</td>\n",
       "      <td>0</td>\n",
       "      <td>0</td>\n",
       "      <td>0</td>\n",
       "      <td>0</td>\n",
       "      <td>0</td>\n",
       "      <td>0</td>\n",
       "      <td>0</td>\n",
       "      <td>0</td>\n",
       "    </tr>\n",
       "  </tbody>\n",
       "</table>\n",
       "<p>5 rows × 2198 columns</p>\n",
       "</div>"
      ],
      "text/plain": [
       "      Price  Production_year  Mileage_km  Power_HP  Displacement_cm3  \\\n",
       "0  105900.0           2021.0     12015.0     165.0            1368.0   \n",
       "1  112000.0           2023.0         7.0     165.0            1368.0   \n",
       "2   39999.0           2011.0    151255.0     135.0            1400.0   \n",
       "3   22800.0           2009.0    299500.0     155.0            1368.0   \n",
       "4   29000.0           2009.0    222463.0     150.0            1368.0   \n",
       "\n",
       "   Doors_number  Month  Day  Year  Vehicle_brand_Acura  ...  \\\n",
       "0           3.0      8   30  2023                    0  ...   \n",
       "1           3.0      8   30  2023                    0  ...   \n",
       "2           3.0      8   30  2023                    0  ...   \n",
       "3           3.0      8   25  2023                    0  ...   \n",
       "4           3.0      8   30  2023                    0  ...   \n",
       "\n",
       "   Province_Opolskie  Province_Podkarpackie  Province_Podlaskie  \\\n",
       "0                  0                      0                   0   \n",
       "1                  0                      0                   0   \n",
       "2                  0                      0                   0   \n",
       "3                  0                      0                   0   \n",
       "4                  0                      0                   0   \n",
       "\n",
       "   Province_Pomorskie  Province_Warmińsko-mazurskie  Province_Wielkopolskie  \\\n",
       "0                   0                             0                       0   \n",
       "1                   0                             0                       0   \n",
       "2                   1                             0                       0   \n",
       "3                   0                             0                       0   \n",
       "4                   0                             0                       0   \n",
       "\n",
       "   Province_Zachodniopomorskie  Province_Łódzkie  Province_Śląskie  \\\n",
       "0                            0                 1                 0   \n",
       "1                            0                 0                 1   \n",
       "2                            0                 0                 0   \n",
       "3                            0                 0                 0   \n",
       "4                            0                 0                 0   \n",
       "\n",
       "   Province_Świętokrzyskie  \n",
       "0                        0  \n",
       "1                        0  \n",
       "2                        0  \n",
       "3                        0  \n",
       "4                        0  \n",
       "\n",
       "[5 rows x 2198 columns]"
      ]
     },
     "execution_count": 56,
     "metadata": {},
     "output_type": "execute_result"
    }
   ],
   "source": [
    "int_df2_df3_with_province_dum.head()"
   ]
  },
  {
   "cell_type": "code",
   "execution_count": 57,
   "id": "e375fb9e",
   "metadata": {},
   "outputs": [],
   "source": [
    "X = int_df2_df3_with_province_dum.drop([\"Price\"], axis=1)"
   ]
  },
  {
   "cell_type": "code",
   "execution_count": 58,
   "id": "6e2182c3",
   "metadata": {},
   "outputs": [],
   "source": [
    "y = int_df2_df3_with_province_and_city_dum[\"Price\"]"
   ]
  },
  {
   "cell_type": "code",
   "execution_count": 59,
   "id": "562e2871",
   "metadata": {},
   "outputs": [],
   "source": [
    "X_train, X_test, y_train, y_test = train_test_split(X, y, test_size=0.2, random_state=110)"
   ]
  },
  {
   "cell_type": "code",
   "execution_count": 60,
   "id": "68c0db57",
   "metadata": {},
   "outputs": [
    {
     "name": "stdout",
     "output_type": "stream",
     "text": [
      "Średni błąd bezwzględny (MAE) dla lasu losowego: 9377.78823530232\n"
     ]
    }
   ],
   "source": [
    "from sklearn.ensemble import RandomForestRegressor\n",
    "from sklearn.model_selection import GridSearchCV\n",
    "from sklearn.metrics import mean_absolute_error\n",
    "\n",
    "rf = RandomForestRegressor(random_state=42, n_estimators = 25)\n",
    "rf .fit(X_train, y_train)\n",
    "y_pred_rf = rf.predict(X_test)\n",
    "mae_rf = mean_absolute_error(y_test, y_pred_rf)\n",
    "print(\"Średni błąd bezwzględny (MAE) dla lasu losowego:\", mae_rf)\n"
   ]
  },
  {
   "cell_type": "markdown",
   "id": "b75c9215",
   "metadata": {},
   "source": [
    "## Data frame without city and province"
   ]
  },
  {
   "cell_type": "code",
   "execution_count": 87,
   "id": "b944b46d",
   "metadata": {},
   "outputs": [],
   "source": [
    "int_df2_df3 = pd.read_csv(r'C:\\Users\\Kacper\\Desktop\\uczelnia\\sem6\\Praca\\data\\int_df2_df3.csv', index_col=0)"
   ]
  },
  {
   "cell_type": "code",
   "execution_count": 88,
   "id": "1f42bf51",
   "metadata": {},
   "outputs": [],
   "source": [
    "int_df2_df3_dum = pd.get_dummies(int_df2_df3,drop_first=True)"
   ]
  },
  {
   "cell_type": "code",
   "execution_count": 89,
   "id": "8fb5b2f5",
   "metadata": {
    "scrolled": true
   },
   "outputs": [
    {
     "data": {
      "text/html": [
       "<div>\n",
       "<style scoped>\n",
       "    .dataframe tbody tr th:only-of-type {\n",
       "        vertical-align: middle;\n",
       "    }\n",
       "\n",
       "    .dataframe tbody tr th {\n",
       "        vertical-align: top;\n",
       "    }\n",
       "\n",
       "    .dataframe thead th {\n",
       "        text-align: right;\n",
       "    }\n",
       "</style>\n",
       "<table border=\"1\" class=\"dataframe\">\n",
       "  <thead>\n",
       "    <tr style=\"text-align: right;\">\n",
       "      <th></th>\n",
       "      <th>Price</th>\n",
       "      <th>Production_year</th>\n",
       "      <th>Mileage_km</th>\n",
       "      <th>Power_HP</th>\n",
       "      <th>Displacement_cm3</th>\n",
       "      <th>Doors_number</th>\n",
       "      <th>Month</th>\n",
       "      <th>Day</th>\n",
       "      <th>Year</th>\n",
       "      <th>Vehicle_brand_Acura</th>\n",
       "      <th>...</th>\n",
       "      <th>Origin_country_Slovakia</th>\n",
       "      <th>Origin_country_Slovenia</th>\n",
       "      <th>Origin_country_South Korea</th>\n",
       "      <th>Origin_country_Spain</th>\n",
       "      <th>Origin_country_Sweden</th>\n",
       "      <th>Origin_country_Switzerland</th>\n",
       "      <th>Origin_country_Turkey</th>\n",
       "      <th>Origin_country_Ukraine</th>\n",
       "      <th>Origin_country_United States</th>\n",
       "      <th>First_owner_Yes</th>\n",
       "    </tr>\n",
       "  </thead>\n",
       "  <tbody>\n",
       "    <tr>\n",
       "      <th>0</th>\n",
       "      <td>105900.0</td>\n",
       "      <td>2021.0</td>\n",
       "      <td>12015.0</td>\n",
       "      <td>165.0</td>\n",
       "      <td>1368.0</td>\n",
       "      <td>3.0</td>\n",
       "      <td>8</td>\n",
       "      <td>30</td>\n",
       "      <td>2023</td>\n",
       "      <td>0</td>\n",
       "      <td>...</td>\n",
       "      <td>0</td>\n",
       "      <td>0</td>\n",
       "      <td>0</td>\n",
       "      <td>0</td>\n",
       "      <td>0</td>\n",
       "      <td>0</td>\n",
       "      <td>0</td>\n",
       "      <td>0</td>\n",
       "      <td>0</td>\n",
       "      <td>0</td>\n",
       "    </tr>\n",
       "    <tr>\n",
       "      <th>1</th>\n",
       "      <td>112000.0</td>\n",
       "      <td>2023.0</td>\n",
       "      <td>7.0</td>\n",
       "      <td>165.0</td>\n",
       "      <td>1368.0</td>\n",
       "      <td>3.0</td>\n",
       "      <td>8</td>\n",
       "      <td>30</td>\n",
       "      <td>2023</td>\n",
       "      <td>0</td>\n",
       "      <td>...</td>\n",
       "      <td>0</td>\n",
       "      <td>0</td>\n",
       "      <td>0</td>\n",
       "      <td>0</td>\n",
       "      <td>0</td>\n",
       "      <td>0</td>\n",
       "      <td>0</td>\n",
       "      <td>0</td>\n",
       "      <td>0</td>\n",
       "      <td>0</td>\n",
       "    </tr>\n",
       "    <tr>\n",
       "      <th>2</th>\n",
       "      <td>39999.0</td>\n",
       "      <td>2011.0</td>\n",
       "      <td>151255.0</td>\n",
       "      <td>135.0</td>\n",
       "      <td>1400.0</td>\n",
       "      <td>3.0</td>\n",
       "      <td>8</td>\n",
       "      <td>30</td>\n",
       "      <td>2023</td>\n",
       "      <td>0</td>\n",
       "      <td>...</td>\n",
       "      <td>0</td>\n",
       "      <td>0</td>\n",
       "      <td>0</td>\n",
       "      <td>0</td>\n",
       "      <td>0</td>\n",
       "      <td>0</td>\n",
       "      <td>0</td>\n",
       "      <td>0</td>\n",
       "      <td>0</td>\n",
       "      <td>0</td>\n",
       "    </tr>\n",
       "    <tr>\n",
       "      <th>3</th>\n",
       "      <td>22800.0</td>\n",
       "      <td>2009.0</td>\n",
       "      <td>299500.0</td>\n",
       "      <td>155.0</td>\n",
       "      <td>1368.0</td>\n",
       "      <td>3.0</td>\n",
       "      <td>8</td>\n",
       "      <td>25</td>\n",
       "      <td>2023</td>\n",
       "      <td>0</td>\n",
       "      <td>...</td>\n",
       "      <td>0</td>\n",
       "      <td>0</td>\n",
       "      <td>0</td>\n",
       "      <td>0</td>\n",
       "      <td>0</td>\n",
       "      <td>0</td>\n",
       "      <td>0</td>\n",
       "      <td>0</td>\n",
       "      <td>0</td>\n",
       "      <td>0</td>\n",
       "    </tr>\n",
       "    <tr>\n",
       "      <th>4</th>\n",
       "      <td>29000.0</td>\n",
       "      <td>2009.0</td>\n",
       "      <td>222463.0</td>\n",
       "      <td>150.0</td>\n",
       "      <td>1368.0</td>\n",
       "      <td>3.0</td>\n",
       "      <td>8</td>\n",
       "      <td>30</td>\n",
       "      <td>2023</td>\n",
       "      <td>0</td>\n",
       "      <td>...</td>\n",
       "      <td>0</td>\n",
       "      <td>0</td>\n",
       "      <td>0</td>\n",
       "      <td>0</td>\n",
       "      <td>0</td>\n",
       "      <td>0</td>\n",
       "      <td>0</td>\n",
       "      <td>0</td>\n",
       "      <td>0</td>\n",
       "      <td>0</td>\n",
       "    </tr>\n",
       "  </tbody>\n",
       "</table>\n",
       "<p>5 rows × 2182 columns</p>\n",
       "</div>"
      ],
      "text/plain": [
       "      Price  Production_year  Mileage_km  Power_HP  Displacement_cm3  \\\n",
       "0  105900.0           2021.0     12015.0     165.0            1368.0   \n",
       "1  112000.0           2023.0         7.0     165.0            1368.0   \n",
       "2   39999.0           2011.0    151255.0     135.0            1400.0   \n",
       "3   22800.0           2009.0    299500.0     155.0            1368.0   \n",
       "4   29000.0           2009.0    222463.0     150.0            1368.0   \n",
       "\n",
       "   Doors_number  Month  Day  Year  Vehicle_brand_Acura  ...  \\\n",
       "0           3.0      8   30  2023                    0  ...   \n",
       "1           3.0      8   30  2023                    0  ...   \n",
       "2           3.0      8   30  2023                    0  ...   \n",
       "3           3.0      8   25  2023                    0  ...   \n",
       "4           3.0      8   30  2023                    0  ...   \n",
       "\n",
       "   Origin_country_Slovakia  Origin_country_Slovenia  \\\n",
       "0                        0                        0   \n",
       "1                        0                        0   \n",
       "2                        0                        0   \n",
       "3                        0                        0   \n",
       "4                        0                        0   \n",
       "\n",
       "   Origin_country_South Korea  Origin_country_Spain  Origin_country_Sweden  \\\n",
       "0                           0                     0                      0   \n",
       "1                           0                     0                      0   \n",
       "2                           0                     0                      0   \n",
       "3                           0                     0                      0   \n",
       "4                           0                     0                      0   \n",
       "\n",
       "   Origin_country_Switzerland  Origin_country_Turkey  Origin_country_Ukraine  \\\n",
       "0                           0                      0                       0   \n",
       "1                           0                      0                       0   \n",
       "2                           0                      0                       0   \n",
       "3                           0                      0                       0   \n",
       "4                           0                      0                       0   \n",
       "\n",
       "   Origin_country_United States  First_owner_Yes  \n",
       "0                             0                0  \n",
       "1                             0                0  \n",
       "2                             0                0  \n",
       "3                             0                0  \n",
       "4                             0                0  \n",
       "\n",
       "[5 rows x 2182 columns]"
      ]
     },
     "execution_count": 89,
     "metadata": {},
     "output_type": "execute_result"
    }
   ],
   "source": [
    "int_df2_df3_dum.head()"
   ]
  },
  {
   "cell_type": "code",
   "execution_count": 90,
   "id": "352887c6",
   "metadata": {},
   "outputs": [],
   "source": [
    "X = int_df2_df3_dum.drop([\"Price\"], axis=1)"
   ]
  },
  {
   "cell_type": "code",
   "execution_count": 91,
   "id": "f209fd81",
   "metadata": {},
   "outputs": [],
   "source": [
    "y = int_df2_df3_dum[\"Price\"]"
   ]
  },
  {
   "cell_type": "code",
   "execution_count": 92,
   "id": "fec6a924",
   "metadata": {},
   "outputs": [],
   "source": [
    "X_train, X_test, y_train, y_test = train_test_split(X, y, test_size=0.2, random_state=110)"
   ]
  },
  {
   "cell_type": "code",
   "execution_count": 67,
   "id": "f05a17cf",
   "metadata": {},
   "outputs": [
    {
     "name": "stdout",
     "output_type": "stream",
     "text": [
      "Średni błąd bezwzględny (MAE) dla lasu losowego: 9377.630179984231\n"
     ]
    }
   ],
   "source": [
    "from sklearn.ensemble import RandomForestRegressor\n",
    "from sklearn.model_selection import GridSearchCV\n",
    "from sklearn.metrics import mean_absolute_error\n",
    "\n",
    "rf = RandomForestRegressor(random_state=42, n_estimators = 25)\n",
    "rf .fit(X_train, y_train)\n",
    "y_pred_rf = rf.predict(X_test)\n",
    "mae_rf = mean_absolute_error(y_test, y_pred_rf)\n",
    "print(\"Średni błąd bezwzględny (MAE) dla lasu losowego:\", mae_rf)\n"
   ]
  },
  {
   "cell_type": "markdown",
   "id": "93b5179d",
   "metadata": {},
   "source": [
    "### AdaptiveBoost"
   ]
  },
  {
   "cell_type": "code",
   "execution_count": 93,
   "id": "a17d620d",
   "metadata": {
    "collapsed": true
   },
   "outputs": [
    {
     "ename": "KeyboardInterrupt",
     "evalue": "",
     "output_type": "error",
     "traceback": [
      "\u001b[1;31m---------------------------------------------------------------------------\u001b[0m",
      "\u001b[1;31mKeyboardInterrupt\u001b[0m                         Traceback (most recent call last)",
      "Cell \u001b[1;32mIn[93], line 2\u001b[0m\n\u001b[0;32m      1\u001b[0m ada \u001b[38;5;241m=\u001b[39m AdaBoostRegressor(rf, n_estimators\u001b[38;5;241m=\u001b[39m\u001b[38;5;241m1\u001b[39m)\n\u001b[1;32m----> 2\u001b[0m ada\u001b[38;5;241m.\u001b[39mfit(X_train, y_train)\n\u001b[0;32m      3\u001b[0m y_pred_ada \u001b[38;5;241m=\u001b[39m rf\u001b[38;5;241m.\u001b[39mpredict(X_test)\n\u001b[0;32m      4\u001b[0m mae_ada \u001b[38;5;241m=\u001b[39m mean_absolute_error(y_test, y_pred_ada)\n",
      "File \u001b[1;32m~\\anaconda3\\Lib\\site-packages\\sklearn\\ensemble\\_weight_boosting.py:162\u001b[0m, in \u001b[0;36mBaseWeightBoosting.fit\u001b[1;34m(self, X, y, sample_weight)\u001b[0m\n\u001b[0;32m    159\u001b[0m sample_weight[zero_weight_mask] \u001b[38;5;241m=\u001b[39m \u001b[38;5;241m0.0\u001b[39m\n\u001b[0;32m    161\u001b[0m \u001b[38;5;66;03m# Boosting step\u001b[39;00m\n\u001b[1;32m--> 162\u001b[0m sample_weight, estimator_weight, estimator_error \u001b[38;5;241m=\u001b[39m \u001b[38;5;28mself\u001b[39m\u001b[38;5;241m.\u001b[39m_boost(\n\u001b[0;32m    163\u001b[0m     iboost, X, y, sample_weight, random_state\n\u001b[0;32m    164\u001b[0m )\n\u001b[0;32m    166\u001b[0m \u001b[38;5;66;03m# Early termination\u001b[39;00m\n\u001b[0;32m    167\u001b[0m \u001b[38;5;28;01mif\u001b[39;00m sample_weight \u001b[38;5;129;01mis\u001b[39;00m \u001b[38;5;28;01mNone\u001b[39;00m:\n",
      "File \u001b[1;32m~\\anaconda3\\Lib\\site-packages\\sklearn\\ensemble\\_weight_boosting.py:1152\u001b[0m, in \u001b[0;36mAdaBoostRegressor._boost\u001b[1;34m(self, iboost, X, y, sample_weight, random_state)\u001b[0m\n\u001b[0;32m   1150\u001b[0m X_ \u001b[38;5;241m=\u001b[39m _safe_indexing(X, bootstrap_idx)\n\u001b[0;32m   1151\u001b[0m y_ \u001b[38;5;241m=\u001b[39m _safe_indexing(y, bootstrap_idx)\n\u001b[1;32m-> 1152\u001b[0m estimator\u001b[38;5;241m.\u001b[39mfit(X_, y_)\n\u001b[0;32m   1153\u001b[0m y_predict \u001b[38;5;241m=\u001b[39m estimator\u001b[38;5;241m.\u001b[39mpredict(X)\n\u001b[0;32m   1155\u001b[0m error_vect \u001b[38;5;241m=\u001b[39m np\u001b[38;5;241m.\u001b[39mabs(y_predict \u001b[38;5;241m-\u001b[39m y)\n",
      "File \u001b[1;32m~\\anaconda3\\Lib\\site-packages\\sklearn\\ensemble\\_forest.py:473\u001b[0m, in \u001b[0;36mBaseForest.fit\u001b[1;34m(self, X, y, sample_weight)\u001b[0m\n\u001b[0;32m    462\u001b[0m trees \u001b[38;5;241m=\u001b[39m [\n\u001b[0;32m    463\u001b[0m     \u001b[38;5;28mself\u001b[39m\u001b[38;5;241m.\u001b[39m_make_estimator(append\u001b[38;5;241m=\u001b[39m\u001b[38;5;28;01mFalse\u001b[39;00m, random_state\u001b[38;5;241m=\u001b[39mrandom_state)\n\u001b[0;32m    464\u001b[0m     \u001b[38;5;28;01mfor\u001b[39;00m i \u001b[38;5;129;01min\u001b[39;00m \u001b[38;5;28mrange\u001b[39m(n_more_estimators)\n\u001b[0;32m    465\u001b[0m ]\n\u001b[0;32m    467\u001b[0m \u001b[38;5;66;03m# Parallel loop: we prefer the threading backend as the Cython code\u001b[39;00m\n\u001b[0;32m    468\u001b[0m \u001b[38;5;66;03m# for fitting the trees is internally releasing the Python GIL\u001b[39;00m\n\u001b[0;32m    469\u001b[0m \u001b[38;5;66;03m# making threading more efficient than multiprocessing in\u001b[39;00m\n\u001b[0;32m    470\u001b[0m \u001b[38;5;66;03m# that case. However, for joblib 0.12+ we respect any\u001b[39;00m\n\u001b[0;32m    471\u001b[0m \u001b[38;5;66;03m# parallel_backend contexts set at a higher level,\u001b[39;00m\n\u001b[0;32m    472\u001b[0m \u001b[38;5;66;03m# since correctness does not rely on using threads.\u001b[39;00m\n\u001b[1;32m--> 473\u001b[0m trees \u001b[38;5;241m=\u001b[39m Parallel(\n\u001b[0;32m    474\u001b[0m     n_jobs\u001b[38;5;241m=\u001b[39m\u001b[38;5;28mself\u001b[39m\u001b[38;5;241m.\u001b[39mn_jobs,\n\u001b[0;32m    475\u001b[0m     verbose\u001b[38;5;241m=\u001b[39m\u001b[38;5;28mself\u001b[39m\u001b[38;5;241m.\u001b[39mverbose,\n\u001b[0;32m    476\u001b[0m     prefer\u001b[38;5;241m=\u001b[39m\u001b[38;5;124m\"\u001b[39m\u001b[38;5;124mthreads\u001b[39m\u001b[38;5;124m\"\u001b[39m,\n\u001b[0;32m    477\u001b[0m )(\n\u001b[0;32m    478\u001b[0m     delayed(_parallel_build_trees)(\n\u001b[0;32m    479\u001b[0m         t,\n\u001b[0;32m    480\u001b[0m         \u001b[38;5;28mself\u001b[39m\u001b[38;5;241m.\u001b[39mbootstrap,\n\u001b[0;32m    481\u001b[0m         X,\n\u001b[0;32m    482\u001b[0m         y,\n\u001b[0;32m    483\u001b[0m         sample_weight,\n\u001b[0;32m    484\u001b[0m         i,\n\u001b[0;32m    485\u001b[0m         \u001b[38;5;28mlen\u001b[39m(trees),\n\u001b[0;32m    486\u001b[0m         verbose\u001b[38;5;241m=\u001b[39m\u001b[38;5;28mself\u001b[39m\u001b[38;5;241m.\u001b[39mverbose,\n\u001b[0;32m    487\u001b[0m         class_weight\u001b[38;5;241m=\u001b[39m\u001b[38;5;28mself\u001b[39m\u001b[38;5;241m.\u001b[39mclass_weight,\n\u001b[0;32m    488\u001b[0m         n_samples_bootstrap\u001b[38;5;241m=\u001b[39mn_samples_bootstrap,\n\u001b[0;32m    489\u001b[0m     )\n\u001b[0;32m    490\u001b[0m     \u001b[38;5;28;01mfor\u001b[39;00m i, t \u001b[38;5;129;01min\u001b[39;00m \u001b[38;5;28menumerate\u001b[39m(trees)\n\u001b[0;32m    491\u001b[0m )\n\u001b[0;32m    493\u001b[0m \u001b[38;5;66;03m# Collect newly grown trees\u001b[39;00m\n\u001b[0;32m    494\u001b[0m \u001b[38;5;28mself\u001b[39m\u001b[38;5;241m.\u001b[39mestimators_\u001b[38;5;241m.\u001b[39mextend(trees)\n",
      "File \u001b[1;32m~\\anaconda3\\Lib\\site-packages\\sklearn\\utils\\parallel.py:63\u001b[0m, in \u001b[0;36mParallel.__call__\u001b[1;34m(self, iterable)\u001b[0m\n\u001b[0;32m     58\u001b[0m config \u001b[38;5;241m=\u001b[39m get_config()\n\u001b[0;32m     59\u001b[0m iterable_with_config \u001b[38;5;241m=\u001b[39m (\n\u001b[0;32m     60\u001b[0m     (_with_config(delayed_func, config), args, kwargs)\n\u001b[0;32m     61\u001b[0m     \u001b[38;5;28;01mfor\u001b[39;00m delayed_func, args, kwargs \u001b[38;5;129;01min\u001b[39;00m iterable\n\u001b[0;32m     62\u001b[0m )\n\u001b[1;32m---> 63\u001b[0m \u001b[38;5;28;01mreturn\u001b[39;00m \u001b[38;5;28msuper\u001b[39m()\u001b[38;5;241m.\u001b[39m\u001b[38;5;21m__call__\u001b[39m(iterable_with_config)\n",
      "File \u001b[1;32m~\\anaconda3\\Lib\\site-packages\\joblib\\parallel.py:1088\u001b[0m, in \u001b[0;36mParallel.__call__\u001b[1;34m(self, iterable)\u001b[0m\n\u001b[0;32m   1085\u001b[0m \u001b[38;5;28;01mif\u001b[39;00m \u001b[38;5;28mself\u001b[39m\u001b[38;5;241m.\u001b[39mdispatch_one_batch(iterator):\n\u001b[0;32m   1086\u001b[0m     \u001b[38;5;28mself\u001b[39m\u001b[38;5;241m.\u001b[39m_iterating \u001b[38;5;241m=\u001b[39m \u001b[38;5;28mself\u001b[39m\u001b[38;5;241m.\u001b[39m_original_iterator \u001b[38;5;129;01mis\u001b[39;00m \u001b[38;5;129;01mnot\u001b[39;00m \u001b[38;5;28;01mNone\u001b[39;00m\n\u001b[1;32m-> 1088\u001b[0m \u001b[38;5;28;01mwhile\u001b[39;00m \u001b[38;5;28mself\u001b[39m\u001b[38;5;241m.\u001b[39mdispatch_one_batch(iterator):\n\u001b[0;32m   1089\u001b[0m     \u001b[38;5;28;01mpass\u001b[39;00m\n\u001b[0;32m   1091\u001b[0m \u001b[38;5;28;01mif\u001b[39;00m pre_dispatch \u001b[38;5;241m==\u001b[39m \u001b[38;5;124m\"\u001b[39m\u001b[38;5;124mall\u001b[39m\u001b[38;5;124m\"\u001b[39m \u001b[38;5;129;01mor\u001b[39;00m n_jobs \u001b[38;5;241m==\u001b[39m \u001b[38;5;241m1\u001b[39m:\n\u001b[0;32m   1092\u001b[0m     \u001b[38;5;66;03m# The iterable was consumed all at once by the above for loop.\u001b[39;00m\n\u001b[0;32m   1093\u001b[0m     \u001b[38;5;66;03m# No need to wait for async callbacks to trigger to\u001b[39;00m\n\u001b[0;32m   1094\u001b[0m     \u001b[38;5;66;03m# consumption.\u001b[39;00m\n",
      "File \u001b[1;32m~\\anaconda3\\Lib\\site-packages\\joblib\\parallel.py:901\u001b[0m, in \u001b[0;36mParallel.dispatch_one_batch\u001b[1;34m(self, iterator)\u001b[0m\n\u001b[0;32m    899\u001b[0m     \u001b[38;5;28;01mreturn\u001b[39;00m \u001b[38;5;28;01mFalse\u001b[39;00m\n\u001b[0;32m    900\u001b[0m \u001b[38;5;28;01melse\u001b[39;00m:\n\u001b[1;32m--> 901\u001b[0m     \u001b[38;5;28mself\u001b[39m\u001b[38;5;241m.\u001b[39m_dispatch(tasks)\n\u001b[0;32m    902\u001b[0m     \u001b[38;5;28;01mreturn\u001b[39;00m \u001b[38;5;28;01mTrue\u001b[39;00m\n",
      "File \u001b[1;32m~\\anaconda3\\Lib\\site-packages\\joblib\\parallel.py:819\u001b[0m, in \u001b[0;36mParallel._dispatch\u001b[1;34m(self, batch)\u001b[0m\n\u001b[0;32m    817\u001b[0m \u001b[38;5;28;01mwith\u001b[39;00m \u001b[38;5;28mself\u001b[39m\u001b[38;5;241m.\u001b[39m_lock:\n\u001b[0;32m    818\u001b[0m     job_idx \u001b[38;5;241m=\u001b[39m \u001b[38;5;28mlen\u001b[39m(\u001b[38;5;28mself\u001b[39m\u001b[38;5;241m.\u001b[39m_jobs)\n\u001b[1;32m--> 819\u001b[0m     job \u001b[38;5;241m=\u001b[39m \u001b[38;5;28mself\u001b[39m\u001b[38;5;241m.\u001b[39m_backend\u001b[38;5;241m.\u001b[39mapply_async(batch, callback\u001b[38;5;241m=\u001b[39mcb)\n\u001b[0;32m    820\u001b[0m     \u001b[38;5;66;03m# A job can complete so quickly than its callback is\u001b[39;00m\n\u001b[0;32m    821\u001b[0m     \u001b[38;5;66;03m# called before we get here, causing self._jobs to\u001b[39;00m\n\u001b[0;32m    822\u001b[0m     \u001b[38;5;66;03m# grow. To ensure correct results ordering, .insert is\u001b[39;00m\n\u001b[0;32m    823\u001b[0m     \u001b[38;5;66;03m# used (rather than .append) in the following line\u001b[39;00m\n\u001b[0;32m    824\u001b[0m     \u001b[38;5;28mself\u001b[39m\u001b[38;5;241m.\u001b[39m_jobs\u001b[38;5;241m.\u001b[39minsert(job_idx, job)\n",
      "File \u001b[1;32m~\\anaconda3\\Lib\\site-packages\\joblib\\_parallel_backends.py:208\u001b[0m, in \u001b[0;36mSequentialBackend.apply_async\u001b[1;34m(self, func, callback)\u001b[0m\n\u001b[0;32m    206\u001b[0m \u001b[38;5;28;01mdef\u001b[39;00m \u001b[38;5;21mapply_async\u001b[39m(\u001b[38;5;28mself\u001b[39m, func, callback\u001b[38;5;241m=\u001b[39m\u001b[38;5;28;01mNone\u001b[39;00m):\n\u001b[0;32m    207\u001b[0m \u001b[38;5;250m    \u001b[39m\u001b[38;5;124;03m\"\"\"Schedule a func to be run\"\"\"\u001b[39;00m\n\u001b[1;32m--> 208\u001b[0m     result \u001b[38;5;241m=\u001b[39m ImmediateResult(func)\n\u001b[0;32m    209\u001b[0m     \u001b[38;5;28;01mif\u001b[39;00m callback:\n\u001b[0;32m    210\u001b[0m         callback(result)\n",
      "File \u001b[1;32m~\\anaconda3\\Lib\\site-packages\\joblib\\_parallel_backends.py:597\u001b[0m, in \u001b[0;36mImmediateResult.__init__\u001b[1;34m(self, batch)\u001b[0m\n\u001b[0;32m    594\u001b[0m \u001b[38;5;28;01mdef\u001b[39;00m \u001b[38;5;21m__init__\u001b[39m(\u001b[38;5;28mself\u001b[39m, batch):\n\u001b[0;32m    595\u001b[0m     \u001b[38;5;66;03m# Don't delay the application, to avoid keeping the input\u001b[39;00m\n\u001b[0;32m    596\u001b[0m     \u001b[38;5;66;03m# arguments in memory\u001b[39;00m\n\u001b[1;32m--> 597\u001b[0m     \u001b[38;5;28mself\u001b[39m\u001b[38;5;241m.\u001b[39mresults \u001b[38;5;241m=\u001b[39m batch()\n",
      "File \u001b[1;32m~\\anaconda3\\Lib\\site-packages\\joblib\\parallel.py:288\u001b[0m, in \u001b[0;36mBatchedCalls.__call__\u001b[1;34m(self)\u001b[0m\n\u001b[0;32m    284\u001b[0m \u001b[38;5;28;01mdef\u001b[39;00m \u001b[38;5;21m__call__\u001b[39m(\u001b[38;5;28mself\u001b[39m):\n\u001b[0;32m    285\u001b[0m     \u001b[38;5;66;03m# Set the default nested backend to self._backend but do not set the\u001b[39;00m\n\u001b[0;32m    286\u001b[0m     \u001b[38;5;66;03m# change the default number of processes to -1\u001b[39;00m\n\u001b[0;32m    287\u001b[0m     \u001b[38;5;28;01mwith\u001b[39;00m parallel_backend(\u001b[38;5;28mself\u001b[39m\u001b[38;5;241m.\u001b[39m_backend, n_jobs\u001b[38;5;241m=\u001b[39m\u001b[38;5;28mself\u001b[39m\u001b[38;5;241m.\u001b[39m_n_jobs):\n\u001b[1;32m--> 288\u001b[0m         \u001b[38;5;28;01mreturn\u001b[39;00m [func(\u001b[38;5;241m*\u001b[39margs, \u001b[38;5;241m*\u001b[39m\u001b[38;5;241m*\u001b[39mkwargs)\n\u001b[0;32m    289\u001b[0m                 \u001b[38;5;28;01mfor\u001b[39;00m func, args, kwargs \u001b[38;5;129;01min\u001b[39;00m \u001b[38;5;28mself\u001b[39m\u001b[38;5;241m.\u001b[39mitems]\n",
      "File \u001b[1;32m~\\anaconda3\\Lib\\site-packages\\joblib\\parallel.py:288\u001b[0m, in \u001b[0;36m<listcomp>\u001b[1;34m(.0)\u001b[0m\n\u001b[0;32m    284\u001b[0m \u001b[38;5;28;01mdef\u001b[39;00m \u001b[38;5;21m__call__\u001b[39m(\u001b[38;5;28mself\u001b[39m):\n\u001b[0;32m    285\u001b[0m     \u001b[38;5;66;03m# Set the default nested backend to self._backend but do not set the\u001b[39;00m\n\u001b[0;32m    286\u001b[0m     \u001b[38;5;66;03m# change the default number of processes to -1\u001b[39;00m\n\u001b[0;32m    287\u001b[0m     \u001b[38;5;28;01mwith\u001b[39;00m parallel_backend(\u001b[38;5;28mself\u001b[39m\u001b[38;5;241m.\u001b[39m_backend, n_jobs\u001b[38;5;241m=\u001b[39m\u001b[38;5;28mself\u001b[39m\u001b[38;5;241m.\u001b[39m_n_jobs):\n\u001b[1;32m--> 288\u001b[0m         \u001b[38;5;28;01mreturn\u001b[39;00m [func(\u001b[38;5;241m*\u001b[39margs, \u001b[38;5;241m*\u001b[39m\u001b[38;5;241m*\u001b[39mkwargs)\n\u001b[0;32m    289\u001b[0m                 \u001b[38;5;28;01mfor\u001b[39;00m func, args, kwargs \u001b[38;5;129;01min\u001b[39;00m \u001b[38;5;28mself\u001b[39m\u001b[38;5;241m.\u001b[39mitems]\n",
      "File \u001b[1;32m~\\anaconda3\\Lib\\site-packages\\sklearn\\utils\\parallel.py:123\u001b[0m, in \u001b[0;36m_FuncWrapper.__call__\u001b[1;34m(self, *args, **kwargs)\u001b[0m\n\u001b[0;32m    121\u001b[0m     config \u001b[38;5;241m=\u001b[39m {}\n\u001b[0;32m    122\u001b[0m \u001b[38;5;28;01mwith\u001b[39;00m config_context(\u001b[38;5;241m*\u001b[39m\u001b[38;5;241m*\u001b[39mconfig):\n\u001b[1;32m--> 123\u001b[0m     \u001b[38;5;28;01mreturn\u001b[39;00m \u001b[38;5;28mself\u001b[39m\u001b[38;5;241m.\u001b[39mfunction(\u001b[38;5;241m*\u001b[39margs, \u001b[38;5;241m*\u001b[39m\u001b[38;5;241m*\u001b[39mkwargs)\n",
      "File \u001b[1;32m~\\anaconda3\\Lib\\site-packages\\sklearn\\ensemble\\_forest.py:184\u001b[0m, in \u001b[0;36m_parallel_build_trees\u001b[1;34m(tree, bootstrap, X, y, sample_weight, tree_idx, n_trees, verbose, class_weight, n_samples_bootstrap)\u001b[0m\n\u001b[0;32m    181\u001b[0m     \u001b[38;5;28;01melif\u001b[39;00m class_weight \u001b[38;5;241m==\u001b[39m \u001b[38;5;124m\"\u001b[39m\u001b[38;5;124mbalanced_subsample\u001b[39m\u001b[38;5;124m\"\u001b[39m:\n\u001b[0;32m    182\u001b[0m         curr_sample_weight \u001b[38;5;241m*\u001b[39m\u001b[38;5;241m=\u001b[39m compute_sample_weight(\u001b[38;5;124m\"\u001b[39m\u001b[38;5;124mbalanced\u001b[39m\u001b[38;5;124m\"\u001b[39m, y, indices\u001b[38;5;241m=\u001b[39mindices)\n\u001b[1;32m--> 184\u001b[0m     tree\u001b[38;5;241m.\u001b[39mfit(X, y, sample_weight\u001b[38;5;241m=\u001b[39mcurr_sample_weight, check_input\u001b[38;5;241m=\u001b[39m\u001b[38;5;28;01mFalse\u001b[39;00m)\n\u001b[0;32m    185\u001b[0m \u001b[38;5;28;01melse\u001b[39;00m:\n\u001b[0;32m    186\u001b[0m     tree\u001b[38;5;241m.\u001b[39mfit(X, y, sample_weight\u001b[38;5;241m=\u001b[39msample_weight, check_input\u001b[38;5;241m=\u001b[39m\u001b[38;5;28;01mFalse\u001b[39;00m)\n",
      "File \u001b[1;32m~\\anaconda3\\Lib\\site-packages\\sklearn\\tree\\_classes.py:1247\u001b[0m, in \u001b[0;36mDecisionTreeRegressor.fit\u001b[1;34m(self, X, y, sample_weight, check_input)\u001b[0m\n\u001b[0;32m   1218\u001b[0m \u001b[38;5;28;01mdef\u001b[39;00m \u001b[38;5;21mfit\u001b[39m(\u001b[38;5;28mself\u001b[39m, X, y, sample_weight\u001b[38;5;241m=\u001b[39m\u001b[38;5;28;01mNone\u001b[39;00m, check_input\u001b[38;5;241m=\u001b[39m\u001b[38;5;28;01mTrue\u001b[39;00m):\n\u001b[0;32m   1219\u001b[0m \u001b[38;5;250m    \u001b[39m\u001b[38;5;124;03m\"\"\"Build a decision tree regressor from the training set (X, y).\u001b[39;00m\n\u001b[0;32m   1220\u001b[0m \n\u001b[0;32m   1221\u001b[0m \u001b[38;5;124;03m    Parameters\u001b[39;00m\n\u001b[1;32m   (...)\u001b[0m\n\u001b[0;32m   1244\u001b[0m \u001b[38;5;124;03m        Fitted estimator.\u001b[39;00m\n\u001b[0;32m   1245\u001b[0m \u001b[38;5;124;03m    \"\"\"\u001b[39;00m\n\u001b[1;32m-> 1247\u001b[0m     \u001b[38;5;28msuper\u001b[39m()\u001b[38;5;241m.\u001b[39mfit(\n\u001b[0;32m   1248\u001b[0m         X,\n\u001b[0;32m   1249\u001b[0m         y,\n\u001b[0;32m   1250\u001b[0m         sample_weight\u001b[38;5;241m=\u001b[39msample_weight,\n\u001b[0;32m   1251\u001b[0m         check_input\u001b[38;5;241m=\u001b[39mcheck_input,\n\u001b[0;32m   1252\u001b[0m     )\n\u001b[0;32m   1253\u001b[0m     \u001b[38;5;28;01mreturn\u001b[39;00m \u001b[38;5;28mself\u001b[39m\n",
      "File \u001b[1;32m~\\anaconda3\\Lib\\site-packages\\sklearn\\tree\\_classes.py:379\u001b[0m, in \u001b[0;36mBaseDecisionTree.fit\u001b[1;34m(self, X, y, sample_weight, check_input)\u001b[0m\n\u001b[0;32m    368\u001b[0m \u001b[38;5;28;01melse\u001b[39;00m:\n\u001b[0;32m    369\u001b[0m     builder \u001b[38;5;241m=\u001b[39m BestFirstTreeBuilder(\n\u001b[0;32m    370\u001b[0m         splitter,\n\u001b[0;32m    371\u001b[0m         min_samples_split,\n\u001b[1;32m   (...)\u001b[0m\n\u001b[0;32m    376\u001b[0m         \u001b[38;5;28mself\u001b[39m\u001b[38;5;241m.\u001b[39mmin_impurity_decrease,\n\u001b[0;32m    377\u001b[0m     )\n\u001b[1;32m--> 379\u001b[0m builder\u001b[38;5;241m.\u001b[39mbuild(\u001b[38;5;28mself\u001b[39m\u001b[38;5;241m.\u001b[39mtree_, X, y, sample_weight)\n\u001b[0;32m    381\u001b[0m \u001b[38;5;28;01mif\u001b[39;00m \u001b[38;5;28mself\u001b[39m\u001b[38;5;241m.\u001b[39mn_outputs_ \u001b[38;5;241m==\u001b[39m \u001b[38;5;241m1\u001b[39m \u001b[38;5;129;01mand\u001b[39;00m is_classifier(\u001b[38;5;28mself\u001b[39m):\n\u001b[0;32m    382\u001b[0m     \u001b[38;5;28mself\u001b[39m\u001b[38;5;241m.\u001b[39mn_classes_ \u001b[38;5;241m=\u001b[39m \u001b[38;5;28mself\u001b[39m\u001b[38;5;241m.\u001b[39mn_classes_[\u001b[38;5;241m0\u001b[39m]\n",
      "\u001b[1;31mKeyboardInterrupt\u001b[0m: "
     ]
    }
   ],
   "source": [
    "ada = AdaBoostRegressor(rf, n_estimators=1)\n",
    "ada.fit(X_train, y_train)\n",
    "y_pred_ada = rf.predict(X_test)\n",
    "mae_ada = mean_absolute_error(y_test, y_pred_ada)\n",
    "print(\"Średni błąd bezwzględny (MAE) dla adaptiveboost:\", mae_ada)"
   ]
  },
  {
   "cell_type": "markdown",
   "id": "a9b770da",
   "metadata": {},
   "source": [
    "## Data frame without city, province and generation"
   ]
  },
  {
   "cell_type": "code",
   "execution_count": 2,
   "id": "b6629bd8",
   "metadata": {},
   "outputs": [],
   "source": [
    "int_df2_df3_without_generation = pd.read_csv(r'C:\\Users\\Kacper\\Desktop\\uczelnia\\sem6\\Praca\\data\\int_df2_df3_without_generation.csv', index_col=0)"
   ]
  },
  {
   "cell_type": "code",
   "execution_count": 3,
   "id": "0e54e6fa",
   "metadata": {},
   "outputs": [],
   "source": [
    "int_df2_df3_without_generation_dum = pd.get_dummies(int_df2_df3_without_generation,drop_first=True)"
   ]
  },
  {
   "cell_type": "markdown",
   "id": "88661a17",
   "metadata": {},
   "source": [
    "### Limit data size to 50,000, for faster testing"
   ]
  },
  {
   "cell_type": "code",
   "execution_count": 15,
   "id": "be722d80",
   "metadata": {},
   "outputs": [],
   "source": [
    "int_df2_df3_without_generation_dum = int_df2_df3_without_generation_dum.sample(n=50000, random_state=42)"
   ]
  },
  {
   "cell_type": "code",
   "execution_count": 16,
   "id": "7fcfd877",
   "metadata": {
    "scrolled": false
   },
   "outputs": [
    {
     "data": {
      "text/html": [
       "<div>\n",
       "<style scoped>\n",
       "    .dataframe tbody tr th:only-of-type {\n",
       "        vertical-align: middle;\n",
       "    }\n",
       "\n",
       "    .dataframe tbody tr th {\n",
       "        vertical-align: top;\n",
       "    }\n",
       "\n",
       "    .dataframe thead th {\n",
       "        text-align: right;\n",
       "    }\n",
       "</style>\n",
       "<table border=\"1\" class=\"dataframe\">\n",
       "  <thead>\n",
       "    <tr style=\"text-align: right;\">\n",
       "      <th></th>\n",
       "      <th>Price</th>\n",
       "      <th>Production_year</th>\n",
       "      <th>Mileage_km</th>\n",
       "      <th>Power_HP</th>\n",
       "      <th>Displacement_cm3</th>\n",
       "      <th>Doors_number</th>\n",
       "      <th>Month</th>\n",
       "      <th>Day</th>\n",
       "      <th>Year</th>\n",
       "      <th>Vehicle_brand_Acura</th>\n",
       "      <th>...</th>\n",
       "      <th>Origin_country_Slovakia</th>\n",
       "      <th>Origin_country_Slovenia</th>\n",
       "      <th>Origin_country_South Korea</th>\n",
       "      <th>Origin_country_Spain</th>\n",
       "      <th>Origin_country_Sweden</th>\n",
       "      <th>Origin_country_Switzerland</th>\n",
       "      <th>Origin_country_Turkey</th>\n",
       "      <th>Origin_country_Ukraine</th>\n",
       "      <th>Origin_country_United States</th>\n",
       "      <th>First_owner_Yes</th>\n",
       "    </tr>\n",
       "  </thead>\n",
       "  <tbody>\n",
       "    <tr>\n",
       "      <th>36527</th>\n",
       "      <td>33500.0</td>\n",
       "      <td>2021.0</td>\n",
       "      <td>16000.0</td>\n",
       "      <td>83.0</td>\n",
       "      <td>1199.0</td>\n",
       "      <td>5.0</td>\n",
       "      <td>8</td>\n",
       "      <td>21</td>\n",
       "      <td>2023</td>\n",
       "      <td>0</td>\n",
       "      <td>...</td>\n",
       "      <td>0</td>\n",
       "      <td>0</td>\n",
       "      <td>0</td>\n",
       "      <td>0</td>\n",
       "      <td>0</td>\n",
       "      <td>0</td>\n",
       "      <td>0</td>\n",
       "      <td>0</td>\n",
       "      <td>0</td>\n",
       "      <td>0</td>\n",
       "    </tr>\n",
       "    <tr>\n",
       "      <th>33603</th>\n",
       "      <td>24900.0</td>\n",
       "      <td>2011.0</td>\n",
       "      <td>97000.0</td>\n",
       "      <td>120.0</td>\n",
       "      <td>1598.0</td>\n",
       "      <td>5.0</td>\n",
       "      <td>8</td>\n",
       "      <td>28</td>\n",
       "      <td>2023</td>\n",
       "      <td>0</td>\n",
       "      <td>...</td>\n",
       "      <td>0</td>\n",
       "      <td>0</td>\n",
       "      <td>0</td>\n",
       "      <td>0</td>\n",
       "      <td>0</td>\n",
       "      <td>0</td>\n",
       "      <td>0</td>\n",
       "      <td>0</td>\n",
       "      <td>0</td>\n",
       "      <td>0</td>\n",
       "    </tr>\n",
       "    <tr>\n",
       "      <th>42126</th>\n",
       "      <td>21900.0</td>\n",
       "      <td>2011.0</td>\n",
       "      <td>141000.0</td>\n",
       "      <td>73.0</td>\n",
       "      <td>1360.0</td>\n",
       "      <td>5.0</td>\n",
       "      <td>8</td>\n",
       "      <td>28</td>\n",
       "      <td>2023</td>\n",
       "      <td>0</td>\n",
       "      <td>...</td>\n",
       "      <td>0</td>\n",
       "      <td>0</td>\n",
       "      <td>0</td>\n",
       "      <td>0</td>\n",
       "      <td>0</td>\n",
       "      <td>0</td>\n",
       "      <td>0</td>\n",
       "      <td>0</td>\n",
       "      <td>0</td>\n",
       "      <td>0</td>\n",
       "    </tr>\n",
       "    <tr>\n",
       "      <th>21699</th>\n",
       "      <td>59500.0</td>\n",
       "      <td>2015.0</td>\n",
       "      <td>288000.0</td>\n",
       "      <td>184.0</td>\n",
       "      <td>1995.0</td>\n",
       "      <td>4.0</td>\n",
       "      <td>8</td>\n",
       "      <td>23</td>\n",
       "      <td>2023</td>\n",
       "      <td>0</td>\n",
       "      <td>...</td>\n",
       "      <td>0</td>\n",
       "      <td>0</td>\n",
       "      <td>0</td>\n",
       "      <td>0</td>\n",
       "      <td>0</td>\n",
       "      <td>0</td>\n",
       "      <td>0</td>\n",
       "      <td>0</td>\n",
       "      <td>0</td>\n",
       "      <td>0</td>\n",
       "    </tr>\n",
       "    <tr>\n",
       "      <th>6715</th>\n",
       "      <td>62700.0</td>\n",
       "      <td>2015.0</td>\n",
       "      <td>161782.0</td>\n",
       "      <td>150.0</td>\n",
       "      <td>1968.0</td>\n",
       "      <td>4.0</td>\n",
       "      <td>8</td>\n",
       "      <td>22</td>\n",
       "      <td>2023</td>\n",
       "      <td>0</td>\n",
       "      <td>...</td>\n",
       "      <td>0</td>\n",
       "      <td>0</td>\n",
       "      <td>0</td>\n",
       "      <td>0</td>\n",
       "      <td>0</td>\n",
       "      <td>0</td>\n",
       "      <td>0</td>\n",
       "      <td>0</td>\n",
       "      <td>0</td>\n",
       "      <td>0</td>\n",
       "    </tr>\n",
       "  </tbody>\n",
       "</table>\n",
       "<p>5 rows × 1503 columns</p>\n",
       "</div>"
      ],
      "text/plain": [
       "         Price  Production_year  Mileage_km  Power_HP  Displacement_cm3  \\\n",
       "36527  33500.0           2021.0     16000.0      83.0            1199.0   \n",
       "33603  24900.0           2011.0     97000.0     120.0            1598.0   \n",
       "42126  21900.0           2011.0    141000.0      73.0            1360.0   \n",
       "21699  59500.0           2015.0    288000.0     184.0            1995.0   \n",
       "6715   62700.0           2015.0    161782.0     150.0            1968.0   \n",
       "\n",
       "       Doors_number  Month  Day  Year  Vehicle_brand_Acura  ...  \\\n",
       "36527           5.0      8   21  2023                    0  ...   \n",
       "33603           5.0      8   28  2023                    0  ...   \n",
       "42126           5.0      8   28  2023                    0  ...   \n",
       "21699           4.0      8   23  2023                    0  ...   \n",
       "6715            4.0      8   22  2023                    0  ...   \n",
       "\n",
       "       Origin_country_Slovakia  Origin_country_Slovenia  \\\n",
       "36527                        0                        0   \n",
       "33603                        0                        0   \n",
       "42126                        0                        0   \n",
       "21699                        0                        0   \n",
       "6715                         0                        0   \n",
       "\n",
       "       Origin_country_South Korea  Origin_country_Spain  \\\n",
       "36527                           0                     0   \n",
       "33603                           0                     0   \n",
       "42126                           0                     0   \n",
       "21699                           0                     0   \n",
       "6715                            0                     0   \n",
       "\n",
       "       Origin_country_Sweden  Origin_country_Switzerland  \\\n",
       "36527                      0                           0   \n",
       "33603                      0                           0   \n",
       "42126                      0                           0   \n",
       "21699                      0                           0   \n",
       "6715                       0                           0   \n",
       "\n",
       "       Origin_country_Turkey  Origin_country_Ukraine  \\\n",
       "36527                      0                       0   \n",
       "33603                      0                       0   \n",
       "42126                      0                       0   \n",
       "21699                      0                       0   \n",
       "6715                       0                       0   \n",
       "\n",
       "       Origin_country_United States  First_owner_Yes  \n",
       "36527                             0                0  \n",
       "33603                             0                0  \n",
       "42126                             0                0  \n",
       "21699                             0                0  \n",
       "6715                              0                0  \n",
       "\n",
       "[5 rows x 1503 columns]"
      ]
     },
     "execution_count": 16,
     "metadata": {},
     "output_type": "execute_result"
    }
   ],
   "source": [
    "int_df2_df3_without_generation_dum.head()"
   ]
  },
  {
   "cell_type": "code",
   "execution_count": 17,
   "id": "1bd74091",
   "metadata": {},
   "outputs": [],
   "source": [
    "X = int_df2_df3_without_generation_dum.drop([\"Price\"], axis=1)"
   ]
  },
  {
   "cell_type": "code",
   "execution_count": 18,
   "id": "a5968059",
   "metadata": {},
   "outputs": [],
   "source": [
    "y = int_df2_df3_without_generation_dum[\"Price\"]"
   ]
  },
  {
   "cell_type": "code",
   "execution_count": 19,
   "id": "06394d22",
   "metadata": {},
   "outputs": [],
   "source": [
    "X_train, X_test, y_train, y_test = train_test_split(X, y, test_size=0.2, random_state=110)"
   ]
  },
  {
   "cell_type": "code",
   "execution_count": 11,
   "id": "75f65ba1",
   "metadata": {
    "scrolled": true
   },
   "outputs": [
    {
     "name": "stdout",
     "output_type": "stream",
     "text": [
      "Średni błąd bezwzględny (MAE) dla lasu losowego: 13110.412372380952\n"
     ]
    }
   ],
   "source": [
    "from sklearn.ensemble import RandomForestRegressor\n",
    "from sklearn.model_selection import GridSearchCV\n",
    "from sklearn.metrics import mean_absolute_error\n",
    "\n",
    "rf = RandomForestRegressor(random_state=42, n_estimators = 25)\n",
    "rf .fit(X_train, y_train)\n",
    "y_pred_rf = rf.predict(X_test)\n",
    "mae_rf = mean_absolute_error(y_test, y_pred_rf)\n",
    "print(\"Średni błąd bezwzględny (MAE) dla lasu losowego:\", mae_rf)\n"
   ]
  },
  {
   "cell_type": "markdown",
   "id": "b8ec3576",
   "metadata": {},
   "source": [
    "### AdaptiveBoost"
   ]
  },
  {
   "cell_type": "code",
   "execution_count": null,
   "id": "21f7f48a",
   "metadata": {
    "scrolled": true
   },
   "outputs": [],
   "source": [
    "# Inicjalizacja estymatora bazowego DecisionTreeRegressor\n",
    "tree = DecisionTreeRegressor(random_state=42)\n",
    "\n",
    "# Inicjalizacja AdaBoostRegressor z DecisionTreeRegressor jako estymatorem bazowym\n",
    "ada_tree = AdaBoostRegressor(tree, random_state=42)\n",
    "\n",
    "# Przestrzeń parametrów do przeszukania\n",
    "param_grid = {\n",
    "    'n_estimators': [100, 150],\n",
    "    'learning_rate': [0.1, 1.0]\n",
    "}\n",
    "\n",
    "# Inicjalizacja obiektu GridSearchCV\n",
    "grid_search = GridSearchCV(estimator=ada_tree, param_grid=param_grid, cv=3, scoring='neg_mean_absolute_error', n_jobs=-1)\n",
    "\n",
    "# Dopasowanie modelu do danych treningowych\n",
    "grid_search.fit(X_train, y_train)\n",
    "\n",
    "# Wybór najlepszego modelu\n",
    "best_ada_tree = grid_search.best_estimator_\n",
    "\n",
    "# Predykcja na danych testowych\n",
    "y_pred_best_ada_tree = best_ada_tree.predict(X_test)\n",
    "\n",
    "# Obliczenie błędu na danych testowych\n",
    "mae_best_ada_tree = mean_absolute_error(y_test, y_pred_best_ada_tree)\n",
    "print(\"Najlepszy średni błąd bezwzględny (MAE) dla AdaBoostRegressor z DecisionTreeRegressor:\", mae_best_ada_tree)\n",
    "\n",
    "# Wyświetlenie najlepszych parametrów modelu\n",
    "print(\"Najlepsze parametry modelu:\", grid_search.best_params_)"
   ]
  },
  {
   "cell_type": "markdown",
   "id": "917cbf66",
   "metadata": {},
   "source": [
    "### MLP"
   ]
  },
  {
   "cell_type": "markdown",
   "id": "648b40ef",
   "metadata": {},
   "source": [
    "#### MLP1"
   ]
  },
  {
   "cell_type": "code",
   "execution_count": 22,
   "id": "f73b4bcd",
   "metadata": {},
   "outputs": [
    {
     "name": "stdout",
     "output_type": "stream",
     "text": [
      "Średni błąd bezwzględny (MAE) dla MLPRegressor: 30123.494533303343\n"
     ]
    }
   ],
   "source": [
    "from sklearn.neural_network import MLPRegressor\n",
    "from sklearn.metrics import mean_absolute_error\n",
    "\n",
    "# Inicjalizacja modelu MLPRegressor z wybranymi parametrami\n",
    "mlp = MLPRegressor(hidden_layer_sizes=(500, 200, 50), activation='relu', solver='adam', learning_rate='constant', max_iter=1000, random_state=42)\n",
    "\n",
    "# Dopasowanie modelu do danych treningowych\n",
    "mlp.fit(X_train, y_train)\n",
    "\n",
    "# Predykcja na danych testowych\n",
    "y_pred_mlp = mlp.predict(X_test)\n",
    "\n",
    "# Obliczenie błędu na danych testowych\n",
    "mae_mlp = mean_absolute_error(y_test, y_pred_mlp)\n",
    "print(\"Średni błąd bezwzględny (MAE) dla MLPRegressor:\", mae_mlp)\n"
   ]
  },
  {
   "cell_type": "markdown",
   "id": "a859965a",
   "metadata": {},
   "source": [
    "#### MLP2"
   ]
  },
  {
   "cell_type": "code",
   "execution_count": 23,
   "id": "83e1c93b",
   "metadata": {},
   "outputs": [
    {
     "name": "stdout",
     "output_type": "stream",
     "text": [
      "Średni błąd bezwzględny (MAE) dla MLPRegressor: 26156.447021950262\n"
     ]
    }
   ],
   "source": [
    "from sklearn.neural_network import MLPRegressor\n",
    "from sklearn.metrics import mean_absolute_error\n",
    "\n",
    "# Inicjalizacja modelu MLPRegressor z wybranymi parametrami\n",
    "mlp = MLPRegressor(hidden_layer_sizes=(1000, 500, 200, 50), activation='relu', solver='adam', learning_rate='adaptive', max_iter=1000, random_state=42, early_stopping=True)\n",
    "\n",
    "# Dopasowanie modelu do danych treningowych\n",
    "mlp.fit(X_train, y_train)\n",
    "\n",
    "# Predykcja na danych testowych\n",
    "y_pred_mlp = mlp.predict(X_test)\n",
    "\n",
    "# Obliczenie błędu na danych testowych\n",
    "mae_mlp = mean_absolute_error(y_test, y_pred_mlp)\n",
    "print(\"Średni błąd bezwzględny (MAE) dla MLPRegressor:\", mae_mlp)\n"
   ]
  },
  {
   "cell_type": "code",
   "execution_count": null,
   "id": "1f9775b7",
   "metadata": {},
   "outputs": [],
   "source": []
  },
  {
   "cell_type": "markdown",
   "id": "c2727fc7",
   "metadata": {},
   "source": [
    "## RandomForest Model to app"
   ]
  },
  {
   "cell_type": "code",
   "execution_count": 9,
   "id": "e9fa974a",
   "metadata": {},
   "outputs": [],
   "source": [
    "app_df = pd.read_csv(r'C:\\Users\\Kacper\\Desktop\\uczelnia\\sem6\\Praca\\data\\int_df2_df3_with_city_and_province.csv', index_col=0)"
   ]
  },
  {
   "cell_type": "code",
   "execution_count": 10,
   "id": "bf534c31",
   "metadata": {},
   "outputs": [],
   "source": [
    "app_columns = [\"Vehicle_brand\", \"Vehicle_model\", \"Vehicle_generation\", \"Production_year\", \"Mileage_km\", \"Power_HP\", \"Displacement_cm3\",\n",
    "                   \"Fuel_type\", \"Transmission\", \"Doors_number\", \"Colour\", \"First_owner\", \"Price\"]"
   ]
  },
  {
   "cell_type": "code",
   "execution_count": 11,
   "id": "2e557ab5",
   "metadata": {
    "scrolled": false
   },
   "outputs": [],
   "source": [
    "app_df = app_df[app_columns]"
   ]
  },
  {
   "cell_type": "code",
   "execution_count": 12,
   "id": "4fd63e89",
   "metadata": {},
   "outputs": [],
   "source": [
    "app_df_dum = pd.get_dummies(app_df,drop_first=True)"
   ]
  },
  {
   "cell_type": "code",
   "execution_count": 13,
   "id": "03997af2",
   "metadata": {},
   "outputs": [],
   "source": [
    "y = app_df_dum[\"Price\"]"
   ]
  },
  {
   "cell_type": "code",
   "execution_count": 14,
   "id": "a88ef8e1",
   "metadata": {},
   "outputs": [],
   "source": [
    "X = app_df_dum.drop(\"Price\", axis = 1)"
   ]
  },
  {
   "cell_type": "code",
   "execution_count": 15,
   "id": "e91a8c75",
   "metadata": {},
   "outputs": [],
   "source": [
    "X_train, X_test, y_train, y_test = train_test_split(X, y, test_size=0.2, random_state=110)"
   ]
  },
  {
   "cell_type": "code",
   "execution_count": 93,
   "id": "63bb7e6f",
   "metadata": {},
   "outputs": [
    {
     "name": "stdout",
     "output_type": "stream",
     "text": [
      "Średni błąd bezwzględny (MAE) dla lasu losowego: 9677.000726044538\n"
     ]
    }
   ],
   "source": [
    "from sklearn.ensemble import RandomForestRegressor\n",
    "from sklearn.model_selection import GridSearchCV\n",
    "from sklearn.metrics import mean_absolute_error\n",
    "\n",
    "rf = RandomForestRegressor(random_state=42, n_estimators = 25)\n",
    "rf .fit(X_train, y_train)\n",
    "y_pred_rf = rf.predict(X_test)\n",
    "mae_rf = mean_absolute_error(y_test, y_pred_rf)\n",
    "print(\"Średni błąd bezwzględny (MAE) dla lasu losowego:\", mae_rf)\n"
   ]
  },
  {
   "cell_type": "code",
   "execution_count": 16,
   "id": "ba0091d1",
   "metadata": {},
   "outputs": [
    {
     "name": "stdout",
     "output_type": "stream",
     "text": [
      "Średni błąd bezwzględny (MAE) dla lasu losowego: 9529.119601342694\n"
     ]
    }
   ],
   "source": [
    "from sklearn.ensemble import RandomForestRegressor\n",
    "from sklearn.model_selection import GridSearchCV\n",
    "from sklearn.metrics import mean_absolute_error\n",
    "\n",
    "rf = RandomForestRegressor(random_state=42, n_estimators = 100)\n",
    "rf .fit(X_train, y_train)\n",
    "y_pred_rf = rf.predict(X_test)\n",
    "mae_rf = mean_absolute_error(y_test, y_pred_rf)\n",
    "print(\"Średni błąd bezwzględny (MAE) dla lasu losowego:\", mae_rf)\n"
   ]
  },
  {
   "cell_type": "code",
   "execution_count": 17,
   "id": "a2c9eca3",
   "metadata": {},
   "outputs": [
    {
     "name": "stdout",
     "output_type": "stream",
     "text": [
      "Średni błąd bezwzględny (MAE) dla lasu losowego: 9505.774019937964\n"
     ]
    }
   ],
   "source": [
    "from sklearn.ensemble import RandomForestRegressor\n",
    "from sklearn.model_selection import GridSearchCV\n",
    "from sklearn.metrics import mean_absolute_error\n",
    "\n",
    "rf = RandomForestRegressor(random_state=42, n_estimators = 200)\n",
    "rf .fit(X_train, y_train)\n",
    "y_pred_rf = rf.predict(X_test)\n",
    "mae_rf = mean_absolute_error(y_test, y_pred_rf)\n",
    "print(\"Średni błąd bezwzględny (MAE) dla lasu losowego:\", mae_rf)\n"
   ]
  },
  {
   "cell_type": "markdown",
   "id": "d69a2e8e",
   "metadata": {},
   "source": [
    "## ANN"
   ]
  },
  {
   "cell_type": "code",
   "execution_count": 95,
   "id": "11457f04",
   "metadata": {},
   "outputs": [],
   "source": [
    "import pickle\n",
    "# Zapisanie modelu do pliku za pomocą pickle\n",
    "#with open(r'C:\\Users\\Kacper\\Desktop\\uczelnia\\sem6\\Praca\\models\\random_forest_to_app.pkl', 'wb') as file:\n",
    "#    pickle.dump(rf, file)\n"
   ]
  },
  {
   "cell_type": "code",
   "execution_count": 31,
   "id": "d1c93bfb",
   "metadata": {},
   "outputs": [],
   "source": [
    "from tensorflow.keras.models import Sequential\n",
    "from tensorflow.keras.layers import Dense, Activation\n",
    "from tensorflow.keras.optimizers import Adam\n",
    "from sklearn.metrics import mean_absolute_error\n",
    "from tensorflow.keras.layers import Dropout\n",
    "model = Sequential()\n",
    "model.add(Dense(1000, activation='relu'))\n",
    "model.add(Dropout(0.5))  # Dodanie dropout z współczynnikiem 0.5, co oznacza wyłączenie 50% neuronów podczas treningu\n",
    "model.add(Dense(500, activation='relu'))\n",
    "model.add(Dropout(0.5))\n",
    "model.add(Dense(400, activation='relu'))\n",
    "model.add(Dropout(0.5))\n",
    "model.add(Dense(300, activation='relu'))\n",
    "model.add(Dropout(0.5))\n",
    "model.add(Dense(200, activation='relu'))\n",
    "model.add(Dropout(0.5))\n",
    "model.add(Dense(100, activation='relu'))\n",
    "model.add(Dropout(0.5))\n",
    "model.add(Dense(50, activation='relu'))\n",
    "model.add(Dropout(0.5))\n",
    "\n",
    "model.add(Dense(1))\n",
    "\n",
    "model.compile(optimizer='adam', loss='mae')"
   ]
  },
  {
   "cell_type": "code",
   "execution_count": 32,
   "id": "49fb218e",
   "metadata": {},
   "outputs": [],
   "source": [
    "scaler = StandardScaler()\n",
    "X_train_s = scaler.fit_transform(X_train)\n",
    "X_test_s = scaler.transform(X_test)"
   ]
  },
  {
   "cell_type": "code",
   "execution_count": 33,
   "id": "356a27ac",
   "metadata": {},
   "outputs": [
    {
     "name": "stdout",
     "output_type": "stream",
     "text": [
      "Epoch 1/25\n",
      "\u001b[1m1160/1160\u001b[0m \u001b[32m━━━━━━━━━━━━━━━━━━━━\u001b[0m\u001b[37m\u001b[0m \u001b[1m56s\u001b[0m 41ms/step - loss: 34332.0781 - val_loss: 15238.9619\n",
      "Epoch 2/25\n",
      "\u001b[1m1160/1160\u001b[0m \u001b[32m━━━━━━━━━━━━━━━━━━━━\u001b[0m\u001b[37m\u001b[0m \u001b[1m44s\u001b[0m 38ms/step - loss: 23266.5332 - val_loss: 14379.0713\n",
      "Epoch 3/25\n",
      "\u001b[1m1160/1160\u001b[0m \u001b[32m━━━━━━━━━━━━━━━━━━━━\u001b[0m\u001b[37m\u001b[0m \u001b[1m44s\u001b[0m 38ms/step - loss: 22564.3672 - val_loss: 13731.8604\n",
      "Epoch 4/25\n",
      "\u001b[1m1160/1160\u001b[0m \u001b[32m━━━━━━━━━━━━━━━━━━━━\u001b[0m\u001b[37m\u001b[0m \u001b[1m43s\u001b[0m 37ms/step - loss: 21659.7812 - val_loss: 13563.5127\n",
      "Epoch 5/25\n",
      "\u001b[1m1160/1160\u001b[0m \u001b[32m━━━━━━━━━━━━━━━━━━━━\u001b[0m\u001b[37m\u001b[0m \u001b[1m43s\u001b[0m 37ms/step - loss: 21454.0410 - val_loss: 12780.0908\n",
      "Epoch 6/25\n",
      "\u001b[1m1160/1160\u001b[0m \u001b[32m━━━━━━━━━━━━━━━━━━━━\u001b[0m\u001b[37m\u001b[0m \u001b[1m44s\u001b[0m 38ms/step - loss: 21558.5449 - val_loss: 14707.1191\n",
      "Epoch 7/25\n",
      "\u001b[1m1160/1160\u001b[0m \u001b[32m━━━━━━━━━━━━━━━━━━━━\u001b[0m\u001b[37m\u001b[0m \u001b[1m43s\u001b[0m 37ms/step - loss: 21008.5234 - val_loss: 15560.9307\n",
      "Epoch 8/25\n",
      "\u001b[1m1160/1160\u001b[0m \u001b[32m━━━━━━━━━━━━━━━━━━━━\u001b[0m\u001b[37m\u001b[0m \u001b[1m43s\u001b[0m 37ms/step - loss: 20995.0156 - val_loss: 12161.8408\n",
      "Epoch 9/25\n",
      "\u001b[1m1160/1160\u001b[0m \u001b[32m━━━━━━━━━━━━━━━━━━━━\u001b[0m\u001b[37m\u001b[0m \u001b[1m43s\u001b[0m 37ms/step - loss: 21087.6191 - val_loss: 12144.9033\n",
      "Epoch 10/25\n",
      "\u001b[1m1160/1160\u001b[0m \u001b[32m━━━━━━━━━━━━━━━━━━━━\u001b[0m\u001b[37m\u001b[0m \u001b[1m43s\u001b[0m 37ms/step - loss: 20975.1875 - val_loss: 13426.6816\n",
      "Epoch 11/25\n",
      "\u001b[1m1160/1160\u001b[0m \u001b[32m━━━━━━━━━━━━━━━━━━━━\u001b[0m\u001b[37m\u001b[0m \u001b[1m43s\u001b[0m 37ms/step - loss: 20692.2773 - val_loss: 11787.9004\n",
      "Epoch 12/25\n",
      "\u001b[1m1160/1160\u001b[0m \u001b[32m━━━━━━━━━━━━━━━━━━━━\u001b[0m\u001b[37m\u001b[0m \u001b[1m43s\u001b[0m 37ms/step - loss: 20708.8301 - val_loss: 11901.3662\n",
      "Epoch 13/25\n",
      "\u001b[1m1160/1160\u001b[0m \u001b[32m━━━━━━━━━━━━━━━━━━━━\u001b[0m\u001b[37m\u001b[0m \u001b[1m44s\u001b[0m 38ms/step - loss: 20444.6348 - val_loss: 11709.9287\n",
      "Epoch 14/25\n",
      "\u001b[1m1160/1160\u001b[0m \u001b[32m━━━━━━━━━━━━━━━━━━━━\u001b[0m\u001b[37m\u001b[0m \u001b[1m43s\u001b[0m 37ms/step - loss: 20523.8809 - val_loss: 13711.8652\n",
      "Epoch 15/25\n",
      "\u001b[1m1160/1160\u001b[0m \u001b[32m━━━━━━━━━━━━━━━━━━━━\u001b[0m\u001b[37m\u001b[0m \u001b[1m43s\u001b[0m 37ms/step - loss: 20560.4902 - val_loss: 13392.5547\n",
      "Epoch 16/25\n",
      "\u001b[1m1160/1160\u001b[0m \u001b[32m━━━━━━━━━━━━━━━━━━━━\u001b[0m\u001b[37m\u001b[0m \u001b[1m43s\u001b[0m 37ms/step - loss: 20475.9570 - val_loss: 13067.0332\n",
      "Epoch 17/25\n",
      "\u001b[1m1160/1160\u001b[0m \u001b[32m━━━━━━━━━━━━━━━━━━━━\u001b[0m\u001b[37m\u001b[0m \u001b[1m43s\u001b[0m 37ms/step - loss: 20208.8301 - val_loss: 11934.9482\n",
      "Epoch 18/25\n",
      "\u001b[1m1160/1160\u001b[0m \u001b[32m━━━━━━━━━━━━━━━━━━━━\u001b[0m\u001b[37m\u001b[0m \u001b[1m42s\u001b[0m 36ms/step - loss: 20354.7988 - val_loss: 12106.3086\n",
      "Epoch 19/25\n",
      "\u001b[1m1160/1160\u001b[0m \u001b[32m━━━━━━━━━━━━━━━━━━━━\u001b[0m\u001b[37m\u001b[0m \u001b[1m39s\u001b[0m 34ms/step - loss: 20476.6602 - val_loss: 12805.7363\n",
      "Epoch 20/25\n",
      "\u001b[1m1160/1160\u001b[0m \u001b[32m━━━━━━━━━━━━━━━━━━━━\u001b[0m\u001b[37m\u001b[0m \u001b[1m41s\u001b[0m 35ms/step - loss: 20402.9551 - val_loss: 14184.9561\n",
      "Epoch 21/25\n",
      "\u001b[1m1160/1160\u001b[0m \u001b[32m━━━━━━━━━━━━━━━━━━━━\u001b[0m\u001b[37m\u001b[0m \u001b[1m41s\u001b[0m 35ms/step - loss: 20184.8867 - val_loss: 11664.1406\n",
      "Epoch 22/25\n",
      "\u001b[1m1160/1160\u001b[0m \u001b[32m━━━━━━━━━━━━━━━━━━━━\u001b[0m\u001b[37m\u001b[0m \u001b[1m43s\u001b[0m 37ms/step - loss: 20431.0684 - val_loss: 16737.1309\n",
      "Epoch 23/25\n",
      "\u001b[1m1160/1160\u001b[0m \u001b[32m━━━━━━━━━━━━━━━━━━━━\u001b[0m\u001b[37m\u001b[0m \u001b[1m46s\u001b[0m 39ms/step - loss: 20343.1445 - val_loss: 11367.9990\n",
      "Epoch 24/25\n",
      "\u001b[1m1160/1160\u001b[0m \u001b[32m━━━━━━━━━━━━━━━━━━━━\u001b[0m\u001b[37m\u001b[0m \u001b[1m41s\u001b[0m 35ms/step - loss: 20209.5508 - val_loss: 13984.2178\n",
      "Epoch 25/25\n",
      "\u001b[1m1160/1160\u001b[0m \u001b[32m━━━━━━━━━━━━━━━━━━━━\u001b[0m\u001b[37m\u001b[0m \u001b[1m41s\u001b[0m 35ms/step - loss: 20242.7168 - val_loss: 13462.0000\n"
     ]
    },
    {
     "data": {
      "text/plain": [
       "<keras.src.callbacks.history.History at 0x1dde2c7fd50>"
      ]
     },
     "execution_count": 33,
     "metadata": {},
     "output_type": "execute_result"
    }
   ],
   "source": [
    "model.fit(x=X_train_s, y=y_train.values,\n",
    "          validation_data=(X_test_s, y_test.values),\n",
    "          batch_size=256, epochs=25)"
   ]
  },
  {
   "cell_type": "markdown",
   "id": "805c7c84",
   "metadata": {},
   "source": [
    "## Thoughts"
   ]
  },
  {
   "cell_type": "markdown",
   "id": "da1e0b64",
   "metadata": {},
   "source": [
    "1. Based on the above results, we can conclude that in the case of a random forest, we don't get much by leaving the columns responsible with the province and city. For that, by leaving the column with vehicle generation, the obtained error was noticeably lower. "
   ]
  },
  {
   "cell_type": "markdown",
   "id": "f8648455",
   "metadata": {},
   "source": [
    "2. Since the given number of almost 400,000 rows is too large for my equipment, I started the test on a limited set of 25,000 rows."
   ]
  },
  {
   "cell_type": "markdown",
   "id": "69214742",
   "metadata": {},
   "source": [
    "3. MLPs have potential, but need more tuning"
   ]
  },
  {
   "cell_type": "markdown",
   "id": "551fe83a",
   "metadata": {},
   "source": [
    "4. Features columns should improve model predictions"
   ]
  },
  {
   "cell_type": "code",
   "execution_count": null,
   "id": "9d14a83b",
   "metadata": {},
   "outputs": [],
   "source": []
  },
  {
   "cell_type": "code",
   "execution_count": 4,
   "id": "107a35f4",
   "metadata": {},
   "outputs": [],
   "source": [
    "df_dum = pd.get_dummies(main_df, drop_first=True)"
   ]
  },
  {
   "cell_type": "code",
   "execution_count": 5,
   "id": "903bd5b1",
   "metadata": {
    "scrolled": false
   },
   "outputs": [],
   "source": [
    "df_dum = df_dum.iloc[:200000]"
   ]
  },
  {
   "cell_type": "code",
   "execution_count": 12,
   "id": "48ac2410",
   "metadata": {},
   "outputs": [],
   "source": [
    "X = df_dum.drop([\"Price\"], axis=1)"
   ]
  },
  {
   "cell_type": "code",
   "execution_count": 7,
   "id": "22c39312",
   "metadata": {},
   "outputs": [],
   "source": [
    "y = df_dum[\"Price\"]"
   ]
  },
  {
   "cell_type": "code",
   "execution_count": 8,
   "id": "1fdef172",
   "metadata": {},
   "outputs": [],
   "source": [
    "X_train, X_test, y_train, y_test = train_test_split(X, y, test_size=0.2, random_state=110)"
   ]
  },
  {
   "cell_type": "code",
   "execution_count": 9,
   "id": "c5ab1283",
   "metadata": {
    "collapsed": true
   },
   "outputs": [
    {
     "data": {
      "text/html": [
       "<div>\n",
       "<style scoped>\n",
       "    .dataframe tbody tr th:only-of-type {\n",
       "        vertical-align: middle;\n",
       "    }\n",
       "\n",
       "    .dataframe tbody tr th {\n",
       "        vertical-align: top;\n",
       "    }\n",
       "\n",
       "    .dataframe thead th {\n",
       "        text-align: right;\n",
       "    }\n",
       "</style>\n",
       "<table border=\"1\" class=\"dataframe\">\n",
       "  <thead>\n",
       "    <tr style=\"text-align: right;\">\n",
       "      <th></th>\n",
       "      <th>Production_year</th>\n",
       "      <th>Mileage_km</th>\n",
       "      <th>Power_HP</th>\n",
       "      <th>Displacement_cm3</th>\n",
       "      <th>Doors_number</th>\n",
       "      <th>Month</th>\n",
       "      <th>Day</th>\n",
       "      <th>Year</th>\n",
       "      <th>Vehicle_brand_Acura</th>\n",
       "      <th>Vehicle_brand_Aixam</th>\n",
       "      <th>...</th>\n",
       "      <th>City_Żelechów</th>\n",
       "      <th>City_Żerków</th>\n",
       "      <th>City_Żmigród</th>\n",
       "      <th>City_Żnin</th>\n",
       "      <th>City_Żory</th>\n",
       "      <th>City_Żukowo</th>\n",
       "      <th>City_Żuromin</th>\n",
       "      <th>City_Żychlin</th>\n",
       "      <th>City_Żyrardów</th>\n",
       "      <th>City_Żywiec</th>\n",
       "    </tr>\n",
       "  </thead>\n",
       "  <tbody>\n",
       "    <tr>\n",
       "      <th>98452</th>\n",
       "      <td>2019.0</td>\n",
       "      <td>54000.0</td>\n",
       "      <td>150.0</td>\n",
       "      <td>0.0</td>\n",
       "      <td>5.0</td>\n",
       "      <td>8</td>\n",
       "      <td>21</td>\n",
       "      <td>2023</td>\n",
       "      <td>0</td>\n",
       "      <td>0</td>\n",
       "      <td>...</td>\n",
       "      <td>0</td>\n",
       "      <td>0</td>\n",
       "      <td>0</td>\n",
       "      <td>0</td>\n",
       "      <td>0</td>\n",
       "      <td>0</td>\n",
       "      <td>0</td>\n",
       "      <td>0</td>\n",
       "      <td>0</td>\n",
       "      <td>0</td>\n",
       "    </tr>\n",
       "    <tr>\n",
       "      <th>67905</th>\n",
       "      <td>2006.0</td>\n",
       "      <td>275000.0</td>\n",
       "      <td>218.0</td>\n",
       "      <td>2987.0</td>\n",
       "      <td>5.0</td>\n",
       "      <td>8</td>\n",
       "      <td>23</td>\n",
       "      <td>2023</td>\n",
       "      <td>0</td>\n",
       "      <td>0</td>\n",
       "      <td>...</td>\n",
       "      <td>0</td>\n",
       "      <td>0</td>\n",
       "      <td>0</td>\n",
       "      <td>0</td>\n",
       "      <td>0</td>\n",
       "      <td>0</td>\n",
       "      <td>0</td>\n",
       "      <td>0</td>\n",
       "      <td>0</td>\n",
       "      <td>0</td>\n",
       "    </tr>\n",
       "    <tr>\n",
       "      <th>45663</th>\n",
       "      <td>2020.0</td>\n",
       "      <td>71000.0</td>\n",
       "      <td>125.0</td>\n",
       "      <td>999.0</td>\n",
       "      <td>5.0</td>\n",
       "      <td>8</td>\n",
       "      <td>25</td>\n",
       "      <td>2023</td>\n",
       "      <td>0</td>\n",
       "      <td>0</td>\n",
       "      <td>...</td>\n",
       "      <td>0</td>\n",
       "      <td>0</td>\n",
       "      <td>0</td>\n",
       "      <td>0</td>\n",
       "      <td>0</td>\n",
       "      <td>0</td>\n",
       "      <td>0</td>\n",
       "      <td>0</td>\n",
       "      <td>0</td>\n",
       "      <td>0</td>\n",
       "    </tr>\n",
       "    <tr>\n",
       "      <th>100721</th>\n",
       "      <td>2016.0</td>\n",
       "      <td>83000.0</td>\n",
       "      <td>150.0</td>\n",
       "      <td>1399.0</td>\n",
       "      <td>5.0</td>\n",
       "      <td>8</td>\n",
       "      <td>24</td>\n",
       "      <td>2023</td>\n",
       "      <td>0</td>\n",
       "      <td>0</td>\n",
       "      <td>...</td>\n",
       "      <td>0</td>\n",
       "      <td>0</td>\n",
       "      <td>0</td>\n",
       "      <td>0</td>\n",
       "      <td>0</td>\n",
       "      <td>0</td>\n",
       "      <td>0</td>\n",
       "      <td>0</td>\n",
       "      <td>0</td>\n",
       "      <td>0</td>\n",
       "    </tr>\n",
       "    <tr>\n",
       "      <th>27583</th>\n",
       "      <td>2014.0</td>\n",
       "      <td>215000.0</td>\n",
       "      <td>218.0</td>\n",
       "      <td>1995.0</td>\n",
       "      <td>5.0</td>\n",
       "      <td>4</td>\n",
       "      <td>29</td>\n",
       "      <td>2021</td>\n",
       "      <td>0</td>\n",
       "      <td>0</td>\n",
       "      <td>...</td>\n",
       "      <td>0</td>\n",
       "      <td>0</td>\n",
       "      <td>0</td>\n",
       "      <td>0</td>\n",
       "      <td>0</td>\n",
       "      <td>0</td>\n",
       "      <td>0</td>\n",
       "      <td>0</td>\n",
       "      <td>0</td>\n",
       "      <td>0</td>\n",
       "    </tr>\n",
       "    <tr>\n",
       "      <th>...</th>\n",
       "      <td>...</td>\n",
       "      <td>...</td>\n",
       "      <td>...</td>\n",
       "      <td>...</td>\n",
       "      <td>...</td>\n",
       "      <td>...</td>\n",
       "      <td>...</td>\n",
       "      <td>...</td>\n",
       "      <td>...</td>\n",
       "      <td>...</td>\n",
       "      <td>...</td>\n",
       "      <td>...</td>\n",
       "      <td>...</td>\n",
       "      <td>...</td>\n",
       "      <td>...</td>\n",
       "      <td>...</td>\n",
       "      <td>...</td>\n",
       "      <td>...</td>\n",
       "      <td>...</td>\n",
       "      <td>...</td>\n",
       "      <td>...</td>\n",
       "    </tr>\n",
       "    <tr>\n",
       "      <th>148142</th>\n",
       "      <td>2007.0</td>\n",
       "      <td>204658.0</td>\n",
       "      <td>136.0</td>\n",
       "      <td>2231.0</td>\n",
       "      <td>5.0</td>\n",
       "      <td>8</td>\n",
       "      <td>27</td>\n",
       "      <td>2023</td>\n",
       "      <td>0</td>\n",
       "      <td>0</td>\n",
       "      <td>...</td>\n",
       "      <td>0</td>\n",
       "      <td>0</td>\n",
       "      <td>0</td>\n",
       "      <td>0</td>\n",
       "      <td>0</td>\n",
       "      <td>0</td>\n",
       "      <td>0</td>\n",
       "      <td>0</td>\n",
       "      <td>0</td>\n",
       "      <td>0</td>\n",
       "    </tr>\n",
       "    <tr>\n",
       "      <th>3073</th>\n",
       "      <td>2006.0</td>\n",
       "      <td>196000.0</td>\n",
       "      <td>115.0</td>\n",
       "      <td>1598.0</td>\n",
       "      <td>5.0</td>\n",
       "      <td>5</td>\n",
       "      <td>1</td>\n",
       "      <td>2021</td>\n",
       "      <td>0</td>\n",
       "      <td>0</td>\n",
       "      <td>...</td>\n",
       "      <td>0</td>\n",
       "      <td>0</td>\n",
       "      <td>0</td>\n",
       "      <td>0</td>\n",
       "      <td>0</td>\n",
       "      <td>0</td>\n",
       "      <td>0</td>\n",
       "      <td>0</td>\n",
       "      <td>0</td>\n",
       "      <td>0</td>\n",
       "    </tr>\n",
       "    <tr>\n",
       "      <th>43446</th>\n",
       "      <td>2004.0</td>\n",
       "      <td>247050.0</td>\n",
       "      <td>60.0</td>\n",
       "      <td>1242.0</td>\n",
       "      <td>3.0</td>\n",
       "      <td>8</td>\n",
       "      <td>24</td>\n",
       "      <td>2023</td>\n",
       "      <td>0</td>\n",
       "      <td>0</td>\n",
       "      <td>...</td>\n",
       "      <td>0</td>\n",
       "      <td>0</td>\n",
       "      <td>0</td>\n",
       "      <td>0</td>\n",
       "      <td>0</td>\n",
       "      <td>0</td>\n",
       "      <td>0</td>\n",
       "      <td>0</td>\n",
       "      <td>0</td>\n",
       "      <td>0</td>\n",
       "    </tr>\n",
       "    <tr>\n",
       "      <th>35813</th>\n",
       "      <td>2005.0</td>\n",
       "      <td>166000.0</td>\n",
       "      <td>73.0</td>\n",
       "      <td>1360.0</td>\n",
       "      <td>3.0</td>\n",
       "      <td>8</td>\n",
       "      <td>24</td>\n",
       "      <td>2023</td>\n",
       "      <td>0</td>\n",
       "      <td>0</td>\n",
       "      <td>...</td>\n",
       "      <td>0</td>\n",
       "      <td>0</td>\n",
       "      <td>0</td>\n",
       "      <td>0</td>\n",
       "      <td>0</td>\n",
       "      <td>0</td>\n",
       "      <td>0</td>\n",
       "      <td>0</td>\n",
       "      <td>0</td>\n",
       "      <td>0</td>\n",
       "    </tr>\n",
       "    <tr>\n",
       "      <th>135996</th>\n",
       "      <td>2002.0</td>\n",
       "      <td>166913.0</td>\n",
       "      <td>60.0</td>\n",
       "      <td>1397.0</td>\n",
       "      <td>5.0</td>\n",
       "      <td>8</td>\n",
       "      <td>27</td>\n",
       "      <td>2023</td>\n",
       "      <td>0</td>\n",
       "      <td>0</td>\n",
       "      <td>...</td>\n",
       "      <td>0</td>\n",
       "      <td>0</td>\n",
       "      <td>0</td>\n",
       "      <td>0</td>\n",
       "      <td>0</td>\n",
       "      <td>0</td>\n",
       "      <td>0</td>\n",
       "      <td>0</td>\n",
       "      <td>0</td>\n",
       "      <td>0</td>\n",
       "    </tr>\n",
       "  </tbody>\n",
       "</table>\n",
       "<p>160000 rows × 3040 columns</p>\n",
       "</div>"
      ],
      "text/plain": [
       "        Production_year  Mileage_km  Power_HP  Displacement_cm3  Doors_number  \\\n",
       "98452            2019.0     54000.0     150.0               0.0           5.0   \n",
       "67905            2006.0    275000.0     218.0            2987.0           5.0   \n",
       "45663            2020.0     71000.0     125.0             999.0           5.0   \n",
       "100721           2016.0     83000.0     150.0            1399.0           5.0   \n",
       "27583            2014.0    215000.0     218.0            1995.0           5.0   \n",
       "...                 ...         ...       ...               ...           ...   \n",
       "148142           2007.0    204658.0     136.0            2231.0           5.0   \n",
       "3073             2006.0    196000.0     115.0            1598.0           5.0   \n",
       "43446            2004.0    247050.0      60.0            1242.0           3.0   \n",
       "35813            2005.0    166000.0      73.0            1360.0           3.0   \n",
       "135996           2002.0    166913.0      60.0            1397.0           5.0   \n",
       "\n",
       "        Month  Day  Year  Vehicle_brand_Acura  Vehicle_brand_Aixam  ...  \\\n",
       "98452       8   21  2023                    0                    0  ...   \n",
       "67905       8   23  2023                    0                    0  ...   \n",
       "45663       8   25  2023                    0                    0  ...   \n",
       "100721      8   24  2023                    0                    0  ...   \n",
       "27583       4   29  2021                    0                    0  ...   \n",
       "...       ...  ...   ...                  ...                  ...  ...   \n",
       "148142      8   27  2023                    0                    0  ...   \n",
       "3073        5    1  2021                    0                    0  ...   \n",
       "43446       8   24  2023                    0                    0  ...   \n",
       "35813       8   24  2023                    0                    0  ...   \n",
       "135996      8   27  2023                    0                    0  ...   \n",
       "\n",
       "        City_Żelechów  City_Żerków  City_Żmigród  City_Żnin  City_Żory  \\\n",
       "98452               0            0             0          0          0   \n",
       "67905               0            0             0          0          0   \n",
       "45663               0            0             0          0          0   \n",
       "100721              0            0             0          0          0   \n",
       "27583               0            0             0          0          0   \n",
       "...               ...          ...           ...        ...        ...   \n",
       "148142              0            0             0          0          0   \n",
       "3073                0            0             0          0          0   \n",
       "43446               0            0             0          0          0   \n",
       "35813               0            0             0          0          0   \n",
       "135996              0            0             0          0          0   \n",
       "\n",
       "        City_Żukowo  City_Żuromin  City_Żychlin  City_Żyrardów  City_Żywiec  \n",
       "98452             0             0             0              0            0  \n",
       "67905             0             0             0              0            0  \n",
       "45663             0             0             0              0            0  \n",
       "100721            0             0             0              0            0  \n",
       "27583             0             0             0              0            0  \n",
       "...             ...           ...           ...            ...          ...  \n",
       "148142            0             0             0              0            0  \n",
       "3073              0             0             0              0            0  \n",
       "43446             0             0             0              0            0  \n",
       "35813             0             0             0              0            0  \n",
       "135996            0             0             0              0            0  \n",
       "\n",
       "[160000 rows x 3040 columns]"
      ]
     },
     "execution_count": 9,
     "metadata": {},
     "output_type": "execute_result"
    }
   ],
   "source": [
    "X_train"
   ]
  },
  {
   "cell_type": "markdown",
   "id": "09cae62f",
   "metadata": {},
   "source": [
    "## Linnear Regression"
   ]
  },
  {
   "cell_type": "code",
   "execution_count": 16,
   "id": "a9e8d400",
   "metadata": {
    "scrolled": true
   },
   "outputs": [
    {
     "name": "stdout",
     "output_type": "stream",
     "text": [
      "Średni błąd bezwzględny: 45013.751343081734\n"
     ]
    }
   ],
   "source": [
    "from sklearn.linear_model import LinearRegression\n",
    "\n",
    "# Definiowanie rozmiaru partii\n",
    "batch_size = 100\n",
    "\n",
    "# Dzielenie danych treningowych na partie\n",
    "for i in range(0, len(X_train), batch_size):\n",
    "    X_batch = X_train[i:i+batch_size]\n",
    "    y_batch = y_train[i:i+batch_size]\n",
    "\n",
    "    # Utworzenie i dopasowanie modelu na partii danych\n",
    "    model = LinearRegression()\n",
    "    model.fit(X_batch, y_batch)\n",
    "    \n",
    "preds = model.predict(X_test)\n",
    "mae = mean_absolute_error(y_test, preds)\n",
    "print(\"Średni błąd bezwzględny:\", mae)\n"
   ]
  },
  {
   "cell_type": "markdown",
   "id": "e53eb2e3",
   "metadata": {},
   "source": [
    "## Random Forest"
   ]
  },
  {
   "cell_type": "code",
   "execution_count": 15,
   "id": "7f084e2b",
   "metadata": {},
   "outputs": [
    {
     "name": "stdout",
     "output_type": "stream",
     "text": [
      "Średni błąd bezwzględny (MAE) dla lasu losowego: 11259.755455369002\n"
     ]
    }
   ],
   "source": [
    "from sklearn.ensemble import RandomForestRegressor\n",
    "from sklearn.model_selection import GridSearchCV\n",
    "from sklearn.metrics import mean_absolute_error\n",
    "\n",
    "rf = RandomForestRegressor(random_state=42, n_estimators = 250)\n",
    "rf .fit(X_train, y_train)\n",
    "y_pred_rf = rf.predict(X_test)\n",
    "mae_rf = mean_absolute_error(y_test, y_pred_rf)\n",
    "print(\"Średni błąd bezwzględny (MAE) dla lasu losowego:\", mae_rf)\n"
   ]
  },
  {
   "cell_type": "code",
   "execution_count": null,
   "id": "21670af5",
   "metadata": {},
   "outputs": [],
   "source": [
    "mae_rf = mean_absolute_error(y_test, y_pred_rf)\n",
    "print(\"Średni błąd bezwzględny (MAE) dla lasu losowego:\", mae_rf/np.mean(y_test))"
   ]
  },
  {
   "cell_type": "code",
   "execution_count": 11,
   "id": "81395d93",
   "metadata": {},
   "outputs": [
    {
     "name": "stdout",
     "output_type": "stream",
     "text": [
      "Średni błąd bezwzględny (MAE) dla lasu losowego: 16423.99253249171\n"
     ]
    },
    {
     "ename": "NameError",
     "evalue": "name 'random_search' is not defined",
     "output_type": "error",
     "traceback": [
      "\u001b[1;31m---------------------------------------------------------------------------\u001b[0m",
      "\u001b[1;31mNameError\u001b[0m                                 Traceback (most recent call last)",
      "Cell \u001b[1;32mIn[11], line 30\u001b[0m\n\u001b[0;32m     27\u001b[0m \u001b[38;5;28mprint\u001b[39m(\u001b[38;5;124m\"\u001b[39m\u001b[38;5;124mŚredni błąd bezwzględny (MAE) dla lasu losowego:\u001b[39m\u001b[38;5;124m\"\u001b[39m, mae_rf)\n\u001b[0;32m     29\u001b[0m \u001b[38;5;66;03m# Wyświetlenie najlepszych parametrów\u001b[39;00m\n\u001b[1;32m---> 30\u001b[0m \u001b[38;5;28mprint\u001b[39m(\u001b[38;5;124m\"\u001b[39m\u001b[38;5;124mNajlepsze parametry modelu lasu losowego:\u001b[39m\u001b[38;5;124m\"\u001b[39m, random_search\u001b[38;5;241m.\u001b[39mbest_params_)\n",
      "\u001b[1;31mNameError\u001b[0m: name 'random_search' is not defined"
     ]
    }
   ],
   "source": [
    "from sklearn.ensemble import RandomForestRegressor\n",
    "from sklearn.model_selection import GridSearchCV\n",
    "from sklearn.metrics import mean_absolute_error\n",
    "\n",
    "# Definicja siatki parametrów do przeszukania\n",
    "param_grid = {\n",
    "    'n_estimators': [100,200],\n",
    "        'max_depth': [5,10],\n",
    "    'min_samples_split': [5,10],\n",
    "    'min_samples_leaf':[5,10]\n",
    "}\n",
    "# Inicjalizacja lasu losowego\n",
    "rf = RandomForestRegressor(random_state=42)\n",
    "\n",
    "# Utworzenie obiektu RandomizedSearchCV\n",
    "grid = GridSearchCV(rf, param_grid = param_grid, cv = 3)\n",
    "\n",
    "# Dopasowanie modelu na danych treningowych\n",
    "grid.fit(X_train, y_train)\n",
    "\n",
    "# Wybór najlepszego modelu\n",
    "best_rf_model = grid.best_estimator_\n",
    "\n",
    "# Ocena najlepszego modelu na danych testowych\n",
    "y_pred_rf = best_rf_model.predict(X_test)\n",
    "mae_rf = mean_absolute_error(y_test, y_pred_rf)\n",
    "print(\"Średni błąd bezwzględny (MAE) dla lasu losowego:\", mae_rf)\n"
   ]
  },
  {
   "cell_type": "code",
   "execution_count": 33,
   "id": "623450fb",
   "metadata": {},
   "outputs": [],
   "source": [
    "import json"
   ]
  },
  {
   "cell_type": "code",
   "execution_count": null,
   "id": "47a7929a",
   "metadata": {},
   "outputs": [],
   "source": []
  },
  {
   "cell_type": "code",
   "execution_count": 34,
   "id": "1e9f69a6",
   "metadata": {},
   "outputs": [],
   "source": [
    "nazwa_pliku = \"dictionary.json\"\n",
    "dictionary = {\"Abarth\":{\"124\":[\"Unknown\"],\"500\":[\"Unknown\"],\"595\":[\"Unknown\"],\"Grande Punto\":[\"Unknown\"],\"Inny\":[\"Unknown\"],\"Other\":[\"Unknown\"],\"Punto Evo\":[\"Unknown\"]},\"Acura\":{\"Legend\":[\"Unknown\"],\"MDX\":[\"Unknown\"],\"RDX\":[\"Unknown\"],\"RL\":[\"Unknown\"],\"TL\":[\"Unknown\"],\"TSX\":[\"Unknown\"]},\"Aixam\":{\"A751\":[\"Unknown\"],\"City\":[\"Unknown\"],\"Coupe\":[\"Unknown\"],\"Crossline\":[\"Unknown\"],\"Crossover\":[\"Unknown\"],\"GTO\":[\"Unknown\"],\"Inny\":[\"Unknown\"],\"Other\":[\"Unknown\"]},\"Alfa Romeo\":{\"145\":[\"Unknown\"],\"146\":[\"Unknown\"],\"147\":[\"Unknown\"],\"156\":[\"Unknown\"],\"159\":[\"Unknown\"],\"164\":[\"Unknown\"],\"166\":[\"Unknown\"],\"4C\":[\"Unknown\"],\"90\":[\"B2 (1984-1986)\"],\"Brera\":[\"Unknown\"],\"Crosswagon\":[\"Unknown\"],\"GT\":[\"Unknown\"],\"GTV\":[\"Unknown\"],\"Giulia\":[\"Unknown\"],\"Giulietta\":[\"Unknown\"],\"Inny\":[\"Unknown\"],\"Mito\":[\"Unknown\"],\"Other\":[\"Unknown\"],\"Spider\":[\"Unknown\"],\"Sportwagon\":[\"Unknown\"],\"Stelvio\":[\"Unknown\"],\"Tonale\":[\"Unknown\"]},\"Alpine\":{\"A110\":[\"Unknown\"]},\"Asia\":{\"Rocsta\":[\"Unknown\"]},\"Aston Martin\":{\"DB11\":[\"Unknown\"],\"DB7\":[\"Unknown\"],\"DB9\":[\"Unknown\"],\"DBS\":[\"Unknown\"],\"DBX\":[\"Unknown\"],\"DBX707\":[\"Unknown\"],\"Inny\":[\"Unknown\"],\"Rapide\":[\"Unknown\"],\"V12 Vantage\":[\"Unknown\"],\"V8 Vantage\":[\"Unknown\"],\"Vanquish\":[\"Unknown\"],\"Vantage\":[\"Unknown\"],\"Virage\":[\"Unknown\"]},\"Audi\":{\"100\":[\"C4 (1991-1994)\",\"C3 (1982-1991)\",\"Unknown\",\"C1 (1968-1976)\",\"C2 (1976-1982)\"],\"80\":[\"B3 (1986-1991)\",\"B2 (1978-1986)\",\"B4 (1991-1995)\",\"Unknown\"],\"90\":[\"B3 (1986-1991)\"],\"A1\":[\"Unknown\"],\"A2\":[\"Unknown\"],\"A3\":[\"8V (2012-)\",\"8P (2003-2012)\",\"8L (1996-2003)\",\"8Y (2020 - )\",\"Unknown\"],\"A4\":[\"B9 (2015-)\",\"B8 (2007-2015)\",\"B6 (2000-2004)\",\"B5 (1995-2001)\",\"B7 (2004-2007)\",\"Unknown\"],\"A4 Allroad\":[\"Unknown\"],\"A5\":[\"F5 (2016-)\",\"8T (2007-2016)\",\"Unknown\"],\"A6\":[\"C6 (2004-2011)\",\"C8 (2018-)\",\"C7 (2011-2018)\",\"C5 (1997-2004)\",\"C4 (1994-1997)\",\"Unknown\"],\"A6 Allroad\":[\"C7 (2012-)\",\"C8 (2019-)\",\"C6 (2006-2011)\",\"Unknown\",\"C5 (1999-2005)\"],\"A7\":[\"C8 (2018-)\",\"C7 (2011-2018)\",\"Unknown\"],\"A8\":[\"D4 (2010-)\",\"D3 (2002-2010)\",\"D5 (2017-)\",\"D2 (1994-2002)\",\"Unknown\"],\"Cabriolet\":[\"Unknown\"],\"Coupe\":[\"Unknown\"],\"Inny\":[\"Unknown\"],\"Other\":[\"Unknown\"],\"Q2\":[\"Unknown\"],\"Q3\":[\"Unknown\"],\"Q3 Sportback\":[\"Unknown\"],\"Q4\":[\"Unknown\"],\"Q4 Sportback\":[\"Unknown\"],\"Q5\":[\"8R (2008-2016)\",\"FY (2017-)\",\"Unknown\"],\"Q5 Sportback\":[\"Unknown\"],\"Q7\":[\"II (2015-)\",\"I (2005-2015)\",\"Unknown\"],\"Q8\":[\"Unknown\"],\"R8\":[\"Unknown\"],\"RS Q3\":[\"Unknown\"],\"RS Q8\":[\"Unknown\"],\"RS e-tron GT\":[\"Unknown\"],\"RS3\":[\"Unknown\"],\"RS4\":[\"Unknown\"],\"RS5\":[\"Unknown\"],\"RS6\":[\"Unknown\"],\"RS7\":[\"Unknown\"],\"S1\":[\"Unknown\"],\"S3\":[\"8P (2003-2012)\",\"8Y (2020-)\",\"8L (1996-2003)\",\"8V (2012-2020)\",\"Unknown\",\"8V (2012-)\"],\"S4\":[\"B7 (2004-2007)\",\"B6 (2000-2004)\",\"B8 (2007-2015)\",\"B9 (2015-)\",\"B5 (1995-2001)\",\"Unknown\"],\"S5\":[\"Unknown\"],\"S6\":[\"C7 (2011-2018)\",\"C5 (1997-2004)\",\"C6 (2004-2011)\",\"C8 (2018-)\",\"C4 (1994-1997)\",\"Unknown\"],\"S7\":[\"C7 (2011-2018)\",\"C8 (2018-)\",\"Unknown\"],\"S8\":[\"D5 (2017-)\",\"D4 (2010-2017)\",\"D3 (2002-2010)\",\"D2 (1994-2002)\",\"Unknown\",\"D4 (2010-)\"],\"SQ2\":[\"Unknown\"],\"SQ5\":[\"Unknown\"],\"SQ7\":[\"Unknown\"],\"SQ8\":[\"Unknown\"],\"TT\":[\"8J (2006-2013)\",\"8N (1998-2006)\",\"8S (2014-)\",\"Unknown\"],\"TT RS\":[\"Unknown\"],\"TT S\":[\"Unknown\"],\"e-tron\":[\"Unknown\"],\"e-tron GT\":[\"Unknown\"]},\"Austin\":{\"Inny\":[\"Unknown\"],\"Other\":[\"Unknown\"]},\"Autobianchi\":{\"Bianchina\":[\"Unknown\"]},\"BMW\":{\"1M\":[\"Unknown\"],\"3GT\":[\"F34 (2013-2021)\",\"Unknown\"],\"5GT\":[\"Unknown\"],\"6GT\":[\"Unknown\"],\"Inny\":[\"Unknown\"],\"M2\":[\"Unknown\"],\"M3\":[\"Unknown\"],\"M4\":[\"Unknown\"],\"M5\":[\"Unknown\"],\"M6\":[\"Unknown\"],\"M8\":[\"Unknown\"],\"Other\":[\"Unknown\"],\"Seria 1\":[\"E81/E82/E87/E88 (2004-2013)\",\"F40 (2019-)\",\"F20/F21 (2011-)\",\"114\",\"Unknown\"],\"Seria 2\":[\"Unknown\"],\"Seria 3\":[\"E90/E91/E92/E93 (2005-2012)\",\"G20/G21 (2019-)\",\"F30/F31 (2012-2020)\",\"E36 (1990-1999)\",\"E46 (1998-2007)\",\"E30 (1982-1994)\",\"Unknown\",\"E21 (1975-1982)\",\"G20 (2019-)\",\"F30/F31 (2012-)\"],\"Seria 4\":[\"Unknown\"],\"Seria 5\":[\"E60/E61 (2003-2010)\",\"G30/G31 (2017-2023)\",\"F10/F11 (2009-2017)\",\"E39 (1996-2003)\",\"Unknown\",\"E34 (1988-1996)\",\"E28 (1981-1987)\",\"G60 (2023-)\",\"G30/G31 (2017-)\",\"E12 (1972-1981)\"],\"Seria 6\":[\"F12/F13/F14 (2011-)\",\"E63/E64 (2002-2010)\",\"G32 (2017-)\",\"E24 (1976-1989)\",\"Unknown\"],\"Seria 7\":[\"F01 (2008-2015)\",\"E38 (1994-2001)\",\"E65/66 (2001-2008)\",\"G11/12 (2015-2022)\",\"G70 (2022-)\",\"Unknown\",\"E32 (1986-1994)\",\"G11/12 (2015-)\",\"E23 (1977-1986)\"],\"Seria 8\":[\"G14/G15/G16 (2018-)\",\"E31 (1989-1999)\",\"Unknown\"],\"X1\":[\"E84 (2009-2015)\",\"F48 (2015-2022)\",\"U11 (2022-)\",\"Unknown\",\"F48 (2015-)\"],\"X2\":[\"Unknown\"],\"X3\":[\"G01 (2017-)\",\"E83 (2003-2010)\",\"F25 (2010-)\",\"Unknown\"],\"X3 M\":[\"F97 (2019-)\",\"Unknown\"],\"X4\":[\"G02 (2018-)\",\"F26 (2014\\u20132018)\",\"G29 (2018-)\",\"Unknown\",\"E89 (2009\\u20132016)\",\"E85/E86 (2002-2008)\"],\"X4 M\":[\"F98 (2019-)\",\"Unknown\"],\"X5\":[\"E70 (2006-2013)\",\"G05 (2018-)\",\"F15 (2013-2018)\",\"Unknown\",\"E53 (1999-2006)\"],\"X5 M\":[\"Unknown\"],\"X6\":[\"G06 (2019-)\",\"F16 (2014-)\",\"E71 (2008-2014)\",\"Unknown\"],\"X6 M\":[\"Unknown\"],\"X6M\":[\"Unknown\"],\"X7\":[\"G07 (2019-)\",\"Unknown\"],\"XM\":[\"Unknown\"],\"Z3\":[\"Unknown\"],\"Z4\":[\"E89 (2009\\u20132016)\",\"G29 (2018-)\",\"E85/E86 (2002-2008)\",\"Unknown\"],\"Z4 M\":[\"Unknown\"],\"i3\":[\"Unknown\"],\"i4\":[\"Unknown\"],\"i5\":[\"Unknown\"],\"i7\":[\"Unknown\"],\"i8\":[\"Unknown\"],\"iX\":[\"Unknown\"],\"iX1\":[\"Unknown\"],\"iX3\":[\"Unknown\"]},\"Baic\":{\"Senova X25\":[\"Unknown\"],\"Senova X35\":[\"Unknown\"],\"Senova X55\":[\"Unknown\"]},\"Bentley\":{\"Arnage\":[\"Unknown\"],\"Bentayga\":[\"Unknown\"],\"Continental Flying Spur\":[\"Unknown\"],\"Continental GT\":[\"Unknown\"],\"Mulsanne\":[\"Unknown\"],\"Other\":[\"Unknown\"]},\"Brilliance\":{\"BS4\":[\"Unknown\"]},\"Buick\":{\"Century\":[\"Unknown\"],\"Enclave\":[\"Unknown\"],\"Encore\":[\"Unknown\"],\"Inny\":[\"Unknown\"],\"Lacrosse\":[\"Unknown\"],\"Le Sabre\":[\"Unknown\"],\"Other\":[\"Unknown\"],\"Park Avenue\":[\"Unknown\"],\"Reatta\":[\"Unknown\"],\"Regal\":[\"Unknown\"],\"Rendezvous\":[\"Unknown\"],\"Riviera\":[\"Unknown\"]},\"Cadillac\":{\"ATS\":[\"Unknown\"],\"BLS\":[\"Unknown\"],\"Brougham\":[\"Unknown\"],\"CT6\":[\"Unknown\"],\"CTS\":[\"Unknown\"],\"DTS\":[\"Unknown\"],\"Deville\":[\"Unknown\"],\"Eldorado\":[\"Unknown\"],\"Escalade\":[\"Unknown\"],\"Fleetwood\":[\"Unknown\"],\"Inny\":[\"Unknown\"],\"Other\":[\"Unknown\"],\"SRX\":[\"Unknown\"],\"STS\":[\"Unknown\"],\"Seville\":[\"Unknown\"],\"XLR\":[\"Unknown\"],\"XT4\":[\"Unknown\"],\"XT5\":[\"Unknown\"],\"XT6\":[\"Unknown\"],\"XTS\":[\"Unknown\"]},\"Casalini\":{\"M14\":[\"Unknown\"],\"Sulky\":[\"Unknown\"]},\"Chatenet\":{\"CH26\":[\"Unknown\"],\"CH32\":[\"Unknown\"],\"Media\":[\"Unknown\"]},\"Chevrolet\":{\"1500\":[\"Unknown\"],\"Alero\":[\"Unknown\"],\"Apache\":[\"Unknown\"],\"Astro\":[\"Unknown\"],\"Avalanche\":[\"Unknown\"],\"Aveo\":[\"Unknown\"],\"Bel Air\":[\"Unknown\"],\"Blazer\":[\"Unknown\"],\"Bolt\":[\"Unknown\"],\"C-10\":[\"Unknown\"],\"Camaro\":[\"Unknown\"],\"Caprice\":[\"Unknown\"],\"Captiva\":[\"Unknown\"],\"Chevy Van\":[\"Unknown\"],\"Colorado\":[\"Unknown\"],\"Corvette\":[\"Unknown\"],\"Cruze\":[\"Unknown\"],\"El Camino\":[\"Unknown\"],\"Epica\":[\"Unknown\"],\"Equinox\":[\"Unknown\"],\"Evanda\":[\"Unknown\"],\"Express\":[\"Unknown\"],\"HHR\":[\"Unknown\"],\"Impala\":[\"Unknown\"],\"Inny\":[\"Unknown\"],\"K1500\":[\"Unknown\"],\"Kalos\":[\"Unknown\"],\"Lacetti\":[\"Unknown\"],\"Malibu\":[\"Unknown\"],\"Matiz\":[\"Unknown\"],\"Monte Carlo\":[\"Unknown\"],\"Nova\":[\"Unknown\"],\"Nubira\":[\"Unknown\"],\"Orlando\":[\"Unknown\"],\"Other\":[\"Unknown\"],\"Rezzo\":[\"Unknown\"],\"S-10\":[\"Unknown\"],\"Silverado\":[\"Unknown\"],\"Spark\":[\"Unknown\"],\"Suburban\":[\"Unknown\"],\"Tacuma\":[\"Unknown\"],\"Tahoe\":[\"Unknown\"],\"Trailblazer\":[\"Unknown\"],\"Trans Sport\":[\"Unknown\"],\"Traverse\":[\"Unknown\"],\"Trax\":[\"Unknown\"],\"Venture\":[\"Unknown\"],\"Volt\":[\"Unknown\"]},\"Chrysler\":{\"200\":[\"Unknown\"],\"300\":[\"Unknown\"],\"300C\":[\"Unknown\"],\"300M\":[\"Unknown\"],\"300s\":[\"Unknown\"],\"Aspen\":[\"Unknown\"],\"Crossfire\":[\"Unknown\"],\"Grand Voyager\":[\"V (2008\\u20132015)\",\"IV (2007-2010)\",\"III (2001-2006)\",\"I (1990-1995)\",\"Unknown\",\"II (1995-2000)\"],\"Inny\":[\"Unknown\"],\"Le Baron\":[\"Unknown\"],\"Neon\":[\"Unknown\"],\"New Yorker\":[\"Unknown\"],\"Other\":[\"Unknown\"],\"PT Cruiser\":[\"Unknown\"],\"Pacifica\":[\"Unknown\"],\"Prowler\":[\"Unknown\"],\"Sebring\":[\"Unknown\"],\"Stratus\":[\"Unknown\"],\"Town & Country\":[\"V (2007-2016)\",\"II (1991-1995)\",\"I (1988-1990)\",\"IV (2001-2007)\",\"Unknown\",\"II (2001-)\",\"I (1995-2005)\"],\"Vision\":[\"Unknown\"],\"Voyager\":[\"III (2001-)\",\"II (1995-2000)\",\"Unknown\"]},\"Citro\\u00ebn\":{\"2 CV\":[\"Unknown\"],\"AX\":[\"Unknown\"],\"BX\":[\"Unknown\"],\"Berlingo\":[\"II (2008-2018)\",\"III (2018-)\",\"I (1996-2010)\",\"Unknown\"],\"C-Crosser\":[\"Unknown\"],\"C-Elys\\u00e9e\":[\"Unknown\"],\"C-Zero\":[\"Unknown\"],\"C1\":[\"I (2005-2014)\",\"II (2014-)\",\"Unknown\"],\"C2\":[\"Unknown\"],\"C3\":[\"III (2016-)\",\"I (2002-2009)\",\"II (2008-2018)\",\"Unknown\"],\"C3 Aircross\":[\"Unknown\"],\"C3 Picasso\":[\"Unknown\"],\"C3 Pluriel\":[\"Unknown\"],\"C4\":[\"II (2010-)\",\"I (2004-2010)\",\"III (2020-)\",\"Unknown\"],\"C4 Aircross\":[\"Unknown\"],\"C4 Cactus\":[\"Unknown\"],\"C4 Grand Picasso\":[\"I (2006-2013)\",\"II (2013-)\",\"Unknown\"],\"C4 Picasso\":[\"II (2013-)\",\"I (2006-2013)\",\"Unknown\"],\"C4 SpaceTourer\":[\"Unknown\"],\"C4X\":[\"Unknown\"],\"C5\":[\"III (2008-)\",\"I (2001-2004)\",\"II (2004-2008)\",\"Unknown\"],\"C5 Aircross\":[\"Unknown\"],\"C5X\":[\"Unknown\"],\"C6\":[\"Unknown\"],\"C8\":[\"Unknown\"],\"CX\":[\"Unknown\"],\"DS\":[\"Unknown\"],\"DS3\":[\"Unknown\"],\"DS4\":[\"Unknown\"],\"DS5\":[\"Unknown\"],\"Evasion\":[\"Unknown\"],\"GSA\":[\"Unknown\"],\"Inny\":[\"Unknown\"],\"Jumper\":[\"II (2006-)\",\"I (1994-2006)\"],\"Jumpy Combi\":[\"Unknown\"],\"Nemo\":[\"Unknown\"],\"Other\":[\"Unknown\"],\"Saxo\":[\"Unknown\"],\"SpaceTourer\":[\"Unknown\"],\"XM\":[\"Unknown\"],\"Xantia\":[\"I (1993-1998)\",\"II (1998-2001)\"],\"Xsara\":[\"I (1997-2001)\",\"II (2001-2004)\",\"Unknown\"],\"Xsara Picasso\":[\"Unknown\"],\"ZX\":[\"Unknown\"]},\"Cupra\":{\"Ateca\":[\"Unknown\"],\"Born\":[\"Unknown\"],\"Formentor\":[\"Unknown\"],\"Leon\":[\"Unknown\"],\"Leon Sportstourer\":[\"Unknown\"]},\"DFSK\":{\"Fengon 5\":[\"Unknown\"],\"Glory 580\":[\"Unknown\"],\"Seres 3\":[\"Unknown\"]},\"DKW\":{\"Other\":[\"Unknown\"]},\"DR MOTOR\":{\"DR5\":[\"Unknown\"]},\"DS Automobiles\":{\"DS 3\":[\"Unknown\"],\"DS 3 Crossback\":[\"Unknown\"],\"DS 4\":[\"II (2021-)\",\"I (2010-2018)\",\"Unknown\"],\"DS 4 Crossback\":[\"Unknown\"],\"DS 5\":[\"Unknown\"],\"DS 7 Crossback\":[\"Unknown\"],\"DS 9\":[\"Unknown\"],\"Inny\":[\"Unknown\"],\"Other\":[\"Unknown\"]},\"Dacia\":{\"1300\":[\"Unknown\"],\"Dokker\":[\"Unknown\"],\"Dokker Van\":[\"Unknown\"],\"Duster\":[\"I (2009-2017)\",\"II (2017-)\",\"Unknown\"],\"Inny\":[\"Unknown\"],\"Jogger\":[\"Unknown\"],\"Lodgy\":[\"Unknown\"],\"Logan\":[\"II (2012-2020)\",\"I (2004-2012)\",\"Unknown\",\"III (2020-)\",\"II (2012-)\"],\"Logan Van\":[\"Unknown\"],\"Sandero\":[\"II (2012-2020)\",\"III (2020-)\",\"I (2008-2012)\",\"Unknown\",\"II (2012-)\"],\"Sandero Stepway\":[\"II (2012-2020)\",\"III (2020-)\",\"Unknown\",\"I (2008-2012)\"],\"Spring\":[\"Unknown\"]},\"Daewoo\":{\"Chairman\":[\"Unknown\"],\"Espero\":[\"Unknown\"],\"Evanda\":[\"Unknown\"],\"Kalos\":[\"Unknown\"],\"Lacetti\":[\"Unknown\"],\"Lanos\":[\"Unknown\"],\"Leganza\":[\"Unknown\"],\"MUSSO\":[\"Unknown\"],\"Matiz\":[\"Unknown\"],\"Nexia\":[\"Unknown\"],\"Nubira\":[\"Unknown\"],\"Other\":[\"Unknown\"],\"Rezzo\":[\"Unknown\"],\"Tacuma\":[\"Unknown\"],\"Tico\":[\"Unknown\"]},\"Daihatsu\":{\"Charade\":[\"Unknown\"],\"Cuore\":[\"Unknown\"],\"Feroza\":[\"Unknown\"],\"Materia\":[\"Unknown\"],\"Rocky\":[\"Unknown\"],\"Sirion\":[\"Unknown\"],\"Terios\":[\"Unknown\"],\"Trevis\":[\"Unknown\"],\"YRV\":[\"Unknown\"]},\"DeLorean\":{\"DMC-12\":[\"Unknown\"]},\"Dodge\":{\"Avenger\":[\"Unknown\"],\"Caliber\":[\"Unknown\"],\"Caravan\":[\"III (2001-)\",\"II (1995-2001)\"],\"Challenger\":[\"Unknown\"],\"Charger\":[\"Unknown\"],\"Dakota\":[\"Unknown\"],\"Dart\":[\"Unknown\"],\"Durango\":[\"Unknown\"],\"Grand Caravan\":[\"Unknown\"],\"Hornet\":[\"Unknown\"],\"Intrepid\":[\"Unknown\"],\"Journey\":[\"Unknown\"],\"Magnum\":[\"Unknown\"],\"Neon\":[\"Unknown\"],\"Nitro\":[\"Unknown\"],\"Other\":[\"Unknown\"],\"RAM\":[\"Unknown\"],\"Stealth\":[\"Unknown\"],\"Viper\":[\"Unknown\"]},\"Ferrari\":{\"208\":[\"Unknown\"],\"308\":[\"T7 (2008-2013)\"],\"348\":[\"Unknown\"],\"360\":[\"Unknown\"],\"400\":[\"Unknown\"],\"458 Italia\":[\"Unknown\"],\"488\":[\"Unknown\"],\"575\":[\"Unknown\"],\"599GTB\":[\"Unknown\"],\"612\":[\"Unknown\"],\"812 Superfast\":[\"Unknown\"],\"California\":[\"Unknown\"],\"Dino GT4\":[\"Unknown\"],\"F12berlinetta\":[\"Unknown\"],\"F355\":[\"Unknown\"],\"F430\":[\"Unknown\"],\"F8 Tributo\":[\"Unknown\"],\"FF\":[\"Unknown\"],\"GTC4Lusso\":[\"Unknown\"],\"Inny\":[\"Unknown\"],\"Mondial\":[\"Unknown\"],\"Portofino\":[\"Unknown\"],\"Portofino M\":[\"Unknown\"],\"Roma\":[\"Unknown\"],\"SF90 Stradale\":[\"Unknown\"],\"Testarossa\":[\"Unknown\"]},\"Fiat\":{\"124\":[\"Unknown\"],\"124 Spider\":[\"Unknown\"],\"125p\":[\"Unknown\"],\"126\":[\"Unknown\"],\"127\":[\"Unknown\"],\"131\":[\"Unknown\"],\"132\":[\"Unknown\"],\"500\":[\"Unknown\"],\"500L\":[\"Unknown\"],\"500X\":[\"Unknown\"],\"600\":[\"Unknown\"],\"Albea\":[\"Unknown\"],\"Barchetta\":[\"Unknown\"],\"Brava\":[\"Unknown\"],\"Bravo\":[\"II (2007-)\",\"Unknown\",\"I (1995-2001)\"],\"Cinquecento\":[\"Unknown\"],\"Coupe\":[\"Unknown\"],\"Croma\":[\"II (2005-)\",\"Unknown\",\"I (1985-1994)\"],\"Doblo\":[\"II (2009-)\",\"I (2000-2010)\",\"Unknown\"],\"Ducato\":[\"III (2007-)\",\"II (1994-2006)\",\"I (1981-1993)\",\"Unknown\"],\"Fiorino\":[\"Unknown\"],\"Freemont\":[\"Unknown\"],\"Fullback\":[\"Unknown\"],\"Grande Punto\":[\"Unknown\"],\"Idea\":[\"Unknown\"],\"Linea\":[\"Unknown\"],\"Marea\":[\"Unknown\"],\"Multipla\":[\"Unknown\"],\"Other\":[\"Unknown\"],\"Palio\":[\"Unknown\"],\"Panda\":[\"III (2011-)\",\"II (2003-2012)\",\"I (1980-2003)\",\"Unknown\"],\"Punto\":[\"II FL (2003-)\",\"II (1999-2003)\",\"Unknown\",\"I (1994-1999)\"],\"Punto 2012\":[\"Unknown\"],\"Punto Evo\":[\"Unknown\"],\"Qubo\":[\"Unknown\"],\"Scudo\":[\"Unknown\"],\"Sedici\":[\"Unknown\"],\"Seicento\":[\"Unknown\"],\"Siena\":[\"Unknown\"],\"Stilo\":[\"Unknown\"],\"Strada\":[\"Unknown\"],\"Talento\":[\"Unknown\"],\"Tempra\":[\"Unknown\"],\"Tipo\":[\"II (2016-)\",\"Unknown\",\"I (1988-1995)\"],\"Ulysse\":[\"Unknown\"],\"Uno\":[\"II (1989-)\",\"Unknown\"],\"X 1\":[\"9\"]},\"Ford\":{\"Aerostar\":[\"Unknown\"],\"B-MAX\":[\"Unknown\"],\"Bronco\":[\"Unknown\"],\"C-MAX\":[\"II (2010-)\",\"I (2003-2010)\",\"Unknown\"],\"Capri\":[\"Unknown\"],\"Cougar\":[\"Unknown\"],\"Courier\":[\"Unknown\"],\"Crown\":[\"Unknown\"],\"EDGE\":[\"Unknown\"],\"EcoSport\":[\"Unknown\"],\"Econoline\":[\"Unknown\"],\"Escape\":[\"Unknown\"],\"Escort\":[\"Mk7 (1995-1999)\",\"Mk6 (1992-1995)\",\"Mk4 (1986-1990)\",\"Mk3 (1980-1986)\",\"Mk5 (1990-1992)\"],\"Excursion\":[\"Unknown\"],\"Expedition\":[\"Unknown\"],\"Explorer\":[\"Unknown\"],\"F150\":[\"Unknown\"],\"F250\":[\"Unknown\"],\"F350\":[\"Unknown\"],\"Fairlane\":[\"Unknown\"],\"Fiesta\":[\"Mk7 (2008-)\",\"Mk8 (2017-)\",\"Mk6 (2002-2008)\",\"Mk5 (1999-2002)\",\"Unknown\",\"Mk3 (1989-1996)\",\"Mk4 (1996-1999)\",\"Mk1 (1977-1983)\"],\"Flex\":[\"Unknown\"],\"Focus\":[\"Mk3 (2010-2018)\",\"Mk4 (2018-)\",\"Mk2 (2004-2011)\",\"Mk1 (1998-2004)\",\"Unknown\",\"Mk3 (2010-)\"],\"Focus C-Max\":[\"Unknown\"],\"Freestar\":[\"Unknown\"],\"Fusion\":[\"Unknown\"],\"Galaxy\":[\"Mk3 (2006-2015)\",\"Mk4 (2015-2022)\",\"Mk2 (2000-2006)\",\"Mk1 (1995-2000)\",\"Unknown\",\"Mk2 (2006-2015)\",\"Mk2 (2000-2005)\",\"Mk3 (2015-)\",\"Mk1 (1995-2005)\"],\"Granada\":[\"Unknown\"],\"Grand C-MAX\":[\"Unknown\"],\"Inny\":[\"Unknown\"],\"KA\":[\"II (2008-2018)\",\"I (1996-2008)\",\"Unknown\"],\"Ka+\":[\"Unknown\"],\"Kuga\":[\"II (2012-)\",\"I (2008-2012)\",\"III (2019 - )\",\"Unknown\"],\"Maverick\":[\"Unknown\"],\"Mercury\":[\"Unknown\"],\"Mondeo\":[\"Mk5 (2014-)\",\"Mk4 (2007-2014)\",\"Mk3 (2000-2006)\",\"Unknown\",\"Mk2 (1996-2000)\",\"Mk1 (1993-1996)\"],\"Mustang\":[\"Unknown\"],\"Mustang Mach-E\":[\"Unknown\"],\"Orion\":[\"Unknown\"],\"Other\":[\"Unknown\"],\"Probe\":[\"II (1993-1997)\",\"I (1989-1992)\"],\"Puma\":[\"Unknown\"],\"Ranchero\":[\"Unknown\"],\"Ranger\":[\"Unknown\"],\"Ranger Raptor\":[\"Unknown\"],\"S-Max\":[\"II (2015-)\",\"I (2006-2015)\",\"Unknown\"],\"Scorpio\":[\"Mk1 (1985-1994)\",\"Mk2 (1994-1998)\"],\"Sierra\":[\"Mk2 (1987-1993)\",\"Unknown\",\"Mk1 (1982-1986)\"],\"Streetka\":[\"Unknown\"],\"Taunus\":[\"Unknown\"],\"Taurus\":[\"Unknown\"],\"Thunderbird\":[\"Unknown\"],\"Tourneo Connect\":[\"II (2013-)\",\"Unknown\",\"I (2002-2013)\"],\"Tourneo Connect Grand\":[\"Unknown\"],\"Tourneo Courier\":[\"Unknown\"],\"Tourneo Custom\":[\"Unknown\"],\"Transit\":[\"VI (2006-)\",\"VII (2013-)\",\"V (2000-2006)\",\"Unknown\",\"III (1986-1994)\",\"IV (1994-2000)\",\"II (1978-1986)\"],\"Transit Connect\":[\"I (2002-2013)\",\"II (2013-)\",\"Unknown\"],\"Transit Courier\":[\"Unknown\"],\"Transit Custom\":[\"Unknown\"],\"Windstar\":[\"Unknown\"]},\"GMC\":{\"Acadia\":[\"Unknown\"],\"Envoy\":[\"Unknown\"],\"Inny\":[\"Unknown\"],\"Savana\":[\"Unknown\"],\"Sierra\":[\"Unknown\",\"Mk2 (1987-1993)\",\"Mk1 (1982-1986)\"],\"Terrain\":[\"Unknown\"],\"Yukon\":[\"Unknown\"]},\"GWM\":{\"Hover\":[\"Unknown\"]},\"Gaz\":{\"69\":[\"Unknown\"],\"Inny\":[\"Unknown\"],\"Other\":[\"Unknown\"]},\"Geely\":{\"Ck\":[\"Unknown\"],\"Emgrand\":[\"Unknown\"]},\"Genesis\":{\"G70\":[\"Unknown\"],\"G80\":[\"II (2020-)\"],\"GV70\":[\"Unknown\"]},\"Grecav\":{\"Other\":[\"Unknown\"]},\"Honda\":{\"Accord\":[\"VIII (2008-2015)\",\"VII (2002-2008)\",\"IX (2012-2018)\",\"VI (1998-2002)\",\"X (2018-)\",\"Unknown\",\"V (1993-1998)\",\"III (1985-1989)\",\"II (1983-1985)\",\"IV (1990-1993)\"],\"CR-V\":[\"IV (2012-2018)\",\"I (1995-2001)\",\"III (2006-2012)\",\"V (2018-2023)\",\"II (2001-2006)\",\"VI (2023-)\",\"Unknown\",\"V (2018-)\"],\"CR-Z\":[\"Unknown\"],\"CRX\":[\"Unknown\"],\"City\":[\"Unknown\"],\"Civic\":[\"VIII (2006-2011)\",\"XI (2021-)\",\"X (2017-2021)\",\"IX (2011-2017)\",\"VI (1995-2001)\",\"Unknown\",\"VII (2001-2006)\",\"V (1991-1996)\",\"IV (1987-1991)\",\"II (1979-1983)\",\"X (2017-)\",\"IX (2011-)\",\"III (1983-1987)\"],\"Concerto\":[\"Unknown\"],\"Element\":[\"Unknown\"],\"FR-V\":[\"Unknown\"],\"HR-V\":[\"III (2021-)\",\"I (1998-2006)\",\"II (2015-2021)\",\"Unknown\",\"II (2015-)\"],\"Inny\":[\"Unknown\"],\"Insight\":[\"Unknown\"],\"Integra\":[\"Unknown\"],\"Jazz\":[\"II (2002-2008)\",\"IV (2015-2020)\",\"III (2008-2014)\",\"V (2020-)\",\"Unknown\"],\"Legend\":[\"Unknown\"],\"NSX\":[\"Unknown\"],\"Odyssey\":[\"Unknown\"],\"Other\":[\"Unknown\"],\"Pilot\":[\"Unknown\"],\"Prelude\":[\"Unknown\"],\"Ridgeline\":[\"Unknown\"],\"S 2000\":[\"Unknown\"],\"Stream\":[\"Unknown\"],\"ZR-V\":[\"Unknown\"],\"e\":[\"Unknown\"]},\"Hummer\":{\"H1\":[\"Unknown\"],\"H2\":[\"Unknown\"],\"H3\":[\"Unknown\"]},\"Hyundai\":{\"Accent\":[\"Unknown\"],\"Atos\":[\"Unknown\"],\"Bayon\":[\"Unknown\"],\"Coupe\":[\"Unknown\"],\"Elantra\":[\"V (2010-2015)\",\"VII (2021-)\",\"VI (2016-2020)\",\"IV (2006-2010)\",\"Unknown\",\"III (2000-2006)\",\"IV (2016-)\",\"III (2010-2015)\",\"I (2000-2006)\"],\"Galloper\":[\"Unknown\"],\"Genesis\":[\"Unknown\"],\"Genesis Coupe\":[\"Unknown\"],\"Getz\":[\"Unknown\"],\"Grand Santa Fe\":[\"Unknown\"],\"Grandeur\":[\"Unknown\"],\"H-1\":[\"Unknown\"],\"H-1 Starex\":[\"Unknown\"],\"I30\":[\"II (2012-)\",\"III (2017-)\",\"I (2007-2012)\",\"Unknown\"],\"IONIQ\":[\"Unknown\"],\"IONIQ 5\":[\"I (2021-)\"],\"IONIQ 6\":[\"I (2022-)\"],\"Inny\":[\"Unknown\"],\"Kona\":[\"I (2017-2023)\",\"II (2023-)\",\"Unknown\"],\"Matrix\":[\"Unknown\"],\"Other\":[\"Unknown\"],\"Palisade\":[\"Unknown\"],\"Pony\":[\"Unknown\"],\"Santa Fe\":[\"IV (2018-)\",\"III (2012-)\",\"Unknown\",\"II (2006-2012)\",\"I (2000-2006)\"],\"Sonata\":[\"Unknown\"],\"Terracan\":[\"Unknown\"],\"Trajet\":[\"Unknown\"],\"Tucson\":[\"III (2015-2020)\",\"I (2004-2010)\",\"IV (2020-)\",\"II (2010-2015)\",\"Unknown\",\"II (2015-)\"],\"Veloster\":[\"Unknown\"],\"XG 30\":[\"Unknown\"],\"XG 350\":[\"Unknown\"],\"i10\":[\"II (2013-)\",\"I (2008-2013)\",\"Unknown\"],\"i20\":[\"I (2008-2014)\",\"III (2020-)\",\"II (2014-2020)\",\"Unknown\",\"II (2014-)\"],\"i25\":[\"Unknown\"],\"i30 N\":[\"Unknown\"],\"i40\":[\"Unknown\"],\"ix20\":[\"Unknown\"],\"ix35\":[\"Unknown\"],\"ix55\":[\"Unknown\"]},\"Infiniti\":{\"EX\":[\"Unknown\"],\"FX\":[\"II (2009-2013)\",\"I (2003-2009)\"],\"G\":[\"Unknown\"],\"M\":[\"Unknown\"],\"Other\":[\"Unknown\"],\"Q30\":[\"Unknown\"],\"Q50\":[\"Unknown\"],\"Q60\":[\"Unknown\"],\"Q70\":[\"Unknown\"],\"QX\":[\"Unknown\"],\"QX30\":[\"Unknown\"],\"QX50\":[\"Unknown\"],\"QX60\":[\"Unknown\"],\"QX70\":[\"Unknown\"],\"QX80\":[\"Unknown\"]},\"Inny\":{\"Inny\":[\"Unknown\"],\"Other\":[\"Unknown\"]},\"Isuzu\":{\"D-Max\":[\"Unknown\"],\"Other\":[\"Unknown\"],\"Trooper\":[\"Unknown\"]},\"Iveco\":{\"Daily\":[\"Unknown\"],\"Massif\":[\"Unknown\"]},\"Jaguar\":{\"Daimler\":[\"Unknown\"],\"E-Pace\":[\"Unknown\"],\"E-Type\":[\"Unknown\"],\"F-Pace\":[\"Unknown\"],\"F-Type\":[\"Unknown\"],\"I-Pace\":[\"Unknown\"],\"Inny\":[\"Unknown\"],\"MK II\":[\"Unknown\"],\"Other\":[\"Unknown\"],\"S-Type\":[\"Unknown\"],\"S-Type R\":[\"Unknown\"],\"X-Type\":[\"Unknown\"],\"XE\":[\"Unknown\"],\"XF\":[\"X250 (2007-2015)\",\"X260 (2015-)\",\"Unknown\"],\"XJ\":[\"X351 (2009-)\",\"X308 (1997-2003)\",\"XJ40 (1986-1994)\",\"Mark I (1968-1992)\",\"X350 (2004-2007)\",\"X358 (2007-2009)\",\"Unknown\",\"X300 (1994-1997)\"],\"XJR\":[\"Unknown\"],\"XJS\":[\"Unknown\"],\"XJSC\":[\"Unknown\"],\"XK\":[\"II (2006-)\",\"I (1997-2006)\",\"Unknown\"],\"XK8\":[\"Unknown\"]},\"Jeep\":{\"Avenger\":[\"Unknown\"],\"CJ\":[\"Unknown\"],\"Cherokee\":[\"V (2014-)\",\"III (2001-2008)\",\"Unknown\",\"II (1987-2001)\",\"IV (2008-2013)\"],\"Comanche\":[\"Unknown\"],\"Commander\":[\"Unknown\"],\"Compass\":[\"Unknown\"],\"Gladiator\":[\"Unknown\"],\"Grand Cherokee\":[\"IV (2010-2021)\",\"III (2005-2010)\",\"V (2021-)\",\"Unknown\",\"II (1999-2004)\",\"I (1991-1999)\",\"IV (2010-)\"],\"Inny\":[\"Unknown\"],\"Liberty\":[\"Unknown\"],\"Patriot\":[\"Unknown\"],\"Renegade\":[\"Unknown\"],\"Wagoneer\":[\"Unknown\"],\"Willys\":[\"Unknown\"],\"Wrangler\":[\"II (1997-2006)\",\"III (2006-2018)\",\"IV (2017-)\",\"I (1987-1995)\",\"Unknown\",\"III (2006-)\"]},\"Kia\":{\"Carens\":[\"II (2002-2006)\",\"IV (2013-)\",\"III (2006-2012)\",\"I (2000-2002)\",\"Unknown\"],\"Carnival\":[\"Unknown\"],\"Ceed\":[\"II (2012-)\",\"I (2006-2012)\",\"III (2018-)\",\"Unknown\"],\"Cerato\":[\"Unknown\"],\"Clarus\":[\"Unknown\"],\"EV6\":[\"Unknown\"],\"Inny\":[\"Unknown\"],\"Joice\":[\"Unknown\"],\"Magentis\":[\"Unknown\"],\"Niro\":[\"Unknown\"],\"Opirus\":[\"Unknown\"],\"Optima\":[\"Unknown\"],\"Other\":[\"Unknown\"],\"Picanto\":[\"III (2017-)\",\"II (2011-)\",\"I (2004-2010)\",\"Unknown\"],\"Pro_cee'd\":[\"Unknown\"],\"Rio\":[\"III (2011-)\",\"IV (2017-)\",\"I (2000-2005)\",\"II (2005-2011)\",\"Unknown\"],\"Sedona\":[\"Unknown\"],\"Sephia\":[\"Unknown\"],\"Shuma\":[\"Unknown\"],\"Sorento\":[\"IV (2020-)\",\"III (2015-2020)\",\"I (2002-2009)\",\"II (2009-2015)\",\"Unknown\",\"III (2015-)\"],\"Soul\":[\"II (2014-2019)\",\"I (2009-2014)\",\"III (2019-)\",\"Unknown\",\"II (2014-)\"],\"Sportage\":[\"IV (2016-2021)\",\"II (2004-2010)\",\"III (2010-2015)\",\"V (2021-)\",\"Unknown\",\"I (1994-2002)\",\"IV (2016-)\"],\"Stinger\":[\"Unknown\"],\"Stonic\":[\"Unknown\"],\"Venga\":[\"Unknown\"],\"XCeed\":[\"Unknown\"]},\"LTI\":{\"TX2\":[\"Unknown\"]},\"Lada\":{\"1117\":[\"Unknown\"],\"1118\":[\"Unknown\"],\"2101\":[\"Unknown\"],\"2106\":[\"Unknown\"],\"2107\":[\"Unknown\"],\"Kalina\":[\"Unknown\"],\"Niva\":[\"Unknown\"],\"Other\":[\"Unknown\"],\"Samara\":[\"Unknown\"]},\"Lamborghini\":{\"Aventador\":[\"Unknown\"],\"Countach\":[\"Unknown\"],\"Diablo\":[\"Unknown\"],\"Gallardo\":[\"Unknown\"],\"Huracan\":[\"Unknown\"],\"Murcielago\":[\"Unknown\"],\"Urus\":[\"Unknown\"]},\"Lancia\":{\"Beta\":[\"Unknown\"],\"Delta\":[\"Unknown\"],\"Fulvia\":[\"Unknown\"],\"Gamma\":[\"Unknown\"],\"Kappa\":[\"Unknown\"],\"Lybra\":[\"Unknown\"],\"Musa\":[\"Unknown\"],\"Other\":[\"Unknown\"],\"Phedra\":[\"Unknown\"],\"Thema\":[\"Unknown\"],\"Thesis\":[\"Unknown\"],\"Voyager\":[\"Unknown\",\"III (2001-)\"],\"Ypsilon\":[\"Unknown\"]},\"Land Rover\":{\"Defender\":[\"Unknown\"],\"Discovery\":[\"V (2017-)\",\"IV (2010-)\",\"III (2004-2009)\",\"II (1998-2004)\",\"I (1989-1998)\",\"Unknown\"],\"Discovery Sport\":[\"Unknown\"],\"Freelander\":[\"II (2006-)\",\"I (1996-2006)\",\"Unknown\"],\"Other\":[\"Unknown\"],\"Range Rover\":[\"V (2022-)\",\"IV (2012-2021)\",\"III (2001-2012)\",\"II (1994-2001)\",\"I (1970-1994)\",\"Unknown\",\"IV (2012-2018)\"],\"Range Rover Evoque\":[\"I (2011-2018)\",\"II (2019-)\",\"Unknown\"],\"Range Rover Sport\":[\"II (2013-)\",\"I (2005-2013)\",\"Unknown\"],\"Range Rover Velar\":[\"Unknown\"]},\"Lexus\":{\"CT\":[\"Unknown\"],\"ES\":[\"Unknown\"],\"GS\":[\"III (2004-2011)\",\"IV (2012-2018)\",\"II (1997-2004)\",\"I (1991-1996)\"],\"GX\":[\"Unknown\"],\"HS 250h\":[\"Unknown\"],\"IS\":[\"II (2005-2012)\",\"III (2013-)\",\"I (1999-2005)\",\"Unknown\"],\"Inny\":[\"Unknown\"],\"LBX\":[\"Unknown\"],\"LC\":[\"Unknown\"],\"LM\":[\"Unknown\"],\"LS\":[\"II (1995-2000)\",\"V (2018-)\",\"III (2000-2006)\",\"I (1989-1994)\",\"IV (2006-2017)\",\"V (2017-)\",\"IV (2006-)\",\"I (1989-1996)\",\"II (1996-2000)\",\"Unknown\"],\"LX\":[\"Unknown\"],\"NX\":[\"Unknown\"],\"Other\":[\"Unknown\"],\"RC\":[\"Unknown\"],\"RX\":[\"IV (2015-2022)\",\"V (2022-)\",\"II (2003-2009)\",\"Unknown\",\"III (2009-2015)\",\"I (1997-2003)\",\"IV (2015-2020)\"],\"RZ\":[\"Unknown\"],\"SC\":[\"Unknown\"],\"UX\":[\"Unknown\"]},\"Ligier\":{\"Ambra\":[\"Unknown\"],\"IXO\":[\"Unknown\"],\"Inny\":[\"Unknown\"],\"JS RC\":[\"Unknown\"],\"JS50\":[\"Unknown\"],\"JS50L\":[\"Unknown\"],\"JS60\":[\"Unknown\"],\"Other\":[\"Unknown\"],\"X-Too\":[\"Unknown\"],\"X-Too Max\":[\"Unknown\"]},\"Lincoln\":{\"Aviator\":[\"Unknown\"],\"Continental\":[\"Unknown\"],\"Inny\":[\"Unknown\"],\"MKX\":[\"Unknown\"],\"MKZ\":[\"Unknown\"],\"Mark\":[\"Unknown\"],\"Mark LT\":[\"Unknown\"],\"Navigator\":[\"Unknown\"],\"Other\":[\"Unknown\"],\"Town Car\":[\"Unknown\"]},\"Lotus\":{\"Elise\":[\"Unknown\"],\"Evora\":[\"Unknown\"]},\"MG\":{\"Inny\":[\"Unknown\"],\"MGA\":[\"Unknown\"],\"MGB\":[\"Unknown\"],\"MGF\":[\"Unknown\"],\"TD\":[\"Unknown\"],\"ZR\":[\"Unknown\"],\"ZS\":[\"Unknown\"],\"ZT\":[\"Unknown\"]},\"MINI\":{\"1300\":[\"Unknown\"],\"Clubman\":[\"Unknown\"],\"Cooper\":[\"Unknown\"],\"Cooper S\":[\"Unknown\"],\"Countryman\":[\"Unknown\"],\"Inny\":[\"Unknown\"],\"John Cooper Works\":[\"Unknown\"],\"ONE\":[\"Unknown\"],\"Other\":[\"Unknown\"],\"Paceman\":[\"Unknown\"]},\"Maserati\":{\"224\":[\"Unknown\"],\"4200\":[\"Unknown\"],\"Biturbo\":[\"Unknown\"],\"Ghibli\":[\"Unknown\"],\"GranCabrio\":[\"Unknown\"],\"GranTurismo\":[\"Unknown\"],\"Grecale\":[\"Unknown\"],\"Levante\":[\"Unknown\"],\"MC20\":[\"Unknown\"],\"Quattroporte\":[\"Unknown\"]},\"Maxus\":{\"Euniq 5\":[\"Unknown\"],\"Euniq 6\":[\"Unknown\"],\"MIFA 9\":[\"Unknown\"],\"eT90\":[\"Unknown\"]},\"Maybach\":{\"57\":[\"Unknown\"],\"62\":[\"Unknown\"],\"Inny\":[\"Unknown\"],\"Other\":[\"Unknown\"]},\"Mazda\":{\"121\":[\"Unknown\"],\"2\":[\"III (2015-)\",\"II (2007-2014)\",\"I (2003-2007)\",\"Unknown\"],\"3\":[\"II (2009-2013)\",\"IV (2019-)\",\"I (2003-2009)\",\"III (2013-)\",\"Unknown\"],\"323\":[\"Unknown\",\"III (1986-1989)\",\"V (1994-1998)\",\"VI (1998-2003)\",\"IV (1989-1994)\",\"II (1980-1986)\"],\"323F\":[\"III (1998-2003)\",\"II (1994-1998)\",\"Unknown\"],\"5\":[\"II (2010-)\",\"I (2005-2010)\",\"Unknown\"],\"6\":[\"II (2007-2013)\",\"III (2012-)\",\"I (2002-2008)\",\"Unknown\"],\"626\":[\"II (1983-1987)\",\"V (1997-2001)\",\"IV (1992-1997)\"],\"929\":[\"Unknown\"],\"BT-50\":[\"Unknown\"],\"CX-3\":[\"Unknown\"],\"CX-30\":[\"Unknown\"],\"CX-5\":[\"Unknown\"],\"CX-60\":[\"Unknown\"],\"CX-7\":[\"Unknown\"],\"CX-9\":[\"Unknown\"],\"Demio\":[\"Unknown\"],\"Inny\":[\"Unknown\"],\"MPV\":[\"Unknown\"],\"MX-3\":[\"Unknown\"],\"MX-30\":[\"Unknown\"],\"MX-5\":[\"Unknown\"],\"Premacy\":[\"Unknown\"],\"Protege\":[\"Unknown\"],\"RX-7\":[\"Unknown\"],\"RX-8\":[\"Unknown\"],\"Seria B\":[\"Unknown\"],\"Tribute\":[\"Unknown\"],\"Xedos\":[\"Unknown\"]},\"McLaren\":{\"570 GT\":[\"Unknown\"],\"570S Coupe\":[\"Unknown\"],\"570S Spider\":[\"Unknown\"],\"600LT Coupe\":[\"Unknown\"],\"600LT Spider\":[\"Unknown\"],\"650S\":[\"Unknown\"],\"675Lt\":[\"Unknown\"],\"720S Coupe\":[\"Unknown\"],\"720S Spider\":[\"Unknown\"],\"765LT Spider\":[\"Unknown\"],\"Artura\":[\"Unknown\"],\"GT\":[\"Unknown\"],\"Inny\":[\"Unknown\"],\"MP4-12C\":[\"Unknown\"],\"altul\":[\"Unknown\"]},\"Mercedes-Benz\":{\"280\":[\"Unknown\"],\"AMG GT\":[\"Unknown\"],\"CL\":[\"C216 (2006-2013)\",\"C140 (1992-1998)\",\"C215 (1999-2006)\",\"Unknown\"],\"CLA\":[\"Unknown\"],\"CLC\":[\"Unknown\"],\"CLK\":[\"W208 (1997-2002)\",\"W209 (2002-)\",\"Unknown\"],\"CLS\":[\"C257 (2018-)\",\"C218 (2011-)\",\"C219 (2004-2010)\",\"Unknown\"],\"Citan\":[\"Unknown\"],\"EQA\":[\"Unknown\"],\"EQB\":[\"Unknown\"],\"EQC\":[\"Unknown\"],\"EQE\":[\"Unknown\"],\"EQS\":[\"Unknown\"],\"EQV\":[\"Unknown\"],\"GL\":[\"X164 (2006-2012)\",\"X166 (2012-)\",\"Unknown\"],\"GLA\":[\"Unknown\"],\"GLB\":[\"Unknown\"],\"GLC\":[\"Unknown\"],\"GLE\":[\"W167 (2019-)\",\"W166 (2015-2019)\",\"Unknown\"],\"GLK\":[\"GLK 350\",\"GLK 220\",\"GLK 250\",\"GLK 320\",\"Unknown\",\"GLK 200\",\"GLK 280\"],\"GLS\":[\"Unknown\"],\"Inny\":[\"Unknown\"],\"Klasa A\":[\"W177 (2018-)\",\"W176 (2012-)\",\"W168 (1997-2004)\",\"W169 (2004-2012)\",\"Unknown\"],\"Klasa B\":[\"W245 (2005-2011)\",\"W247 (2018-)\",\"W246 (2011-2018)\",\"Unknown\"],\"Klasa C\":[\"W205 (2014-2021)\",\"W206 (2021-)\",\"W203 (2000-2007)\",\"W204 (2007-2014)\",\"Unknown\",\"W202 (1993-2001)\",\"W205 (2014-)\"],\"Klasa E\":[\"W213 (2016-2023)\",\"W210 (1995-2002)\",\"W212 (2009-2016)\",\"Unknown\",\"W214 (2023-)\",\"W211 (2002-2009)\",\"W124 (1993-1997)\",\"W213 (2016-)\"],\"Klasa G\":[\"W463 (1989-2017)\",\"W464 (2018-)\",\"Unknown\",\"W460 (1979-1993)\",\"W460 (1979-1992)\",\"W463 (1992-2018)\",\"W483 (2018-)\"],\"Klasa R\":[\"Unknown\"],\"Klasa S\":[\"W221 (2005-2013)\",\"W222 (2013-2020)\",\"W223 (2020-)\",\"W140 (1992-1998)\",\"Unknown\",\"W126 (1980-1993)\",\"W220 (1998-2005)\",\"W116 (1972-1980)\",\"W108 (1965-1972)\",\"W222 (2013-)\",\"W221 (2005-)\"],\"Klasa T\":[\"Unknown\"],\"Klasa V\":[\"II (2014-)\",\"I (1996-2003)\",\"Unknown\"],\"Klasa X\":[\"Unknown\"],\"ML\":[\"W166 (2011-2015)\",\"W164 (2005-2011)\",\"W163 (1998-2005)\",\"Unknown\"],\"Other\":[\"Unknown\"],\"SL\":[\"R129 (1989-2002)\",\"R232 (2022-)\",\"R231 (2012-2020)\",\"R230 (2001-2013)\",\"R107 (1971-1989)\",\"Unknown\",\"R129 (1989-2000)\",\"R231 (2012-)\",\"R107 (1972-1989)\"],\"SLC\":[\"Unknown\"],\"SLK\":[\"Unknown\",\"R170 (1996-2004)\",\"R171 (2004-2011)\",\"R172 (2011-)\"],\"SLS\":[\"Unknown\"],\"Sprinter\":[\"III (2006-)\",\"II (2000-2006)\",\"I (1995-2000)\",\"Unknown\"],\"Vaneo\":[\"Unknown\"],\"Viano\":[\"Unknown\"],\"Vito\":[\"W447 (2014-)\",\"W639 (2003-2014)\",\"Unknown\",\"W638 (1996-2003)\"],\"W123\":[\"Unknown\"],\"W124 (1984-1993)\":[\"Unknown\"],\"W201 (190)\":[\"Unknown\"]},\"Mercury\":{\"Cougar\":[\"Unknown\"],\"Mariner\":[\"Unknown\"],\"Marquis\":[\"Unknown\"],\"Other\":[\"Unknown\"]},\"Microcar\":{\"DUE\":[\"Unknown\"],\"DUE First\":[\"Unknown\"],\"Flex\":[\"Unknown\"],\"Highland X\":[\"Unknown\"],\"Ligier\":[\"Unknown\"],\"M.GO\":[\"Unknown\"],\"MC\":[\"Unknown\"],\"Other\":[\"Unknown\"],\"Virgo\":[\"Unknown\"]},\"Mitsubishi\":{\"3000GT\":[\"Unknown\"],\"ASX\":[\"Unknown\"],\"Carisma\":[\"II (1999-2004)\",\"I (1995-1999)\",\"Unknown\"],\"Colt\":[\"Z30 (2004-2012)\",\"CA0 (1992-1995)\",\"C50 (1988-1992)\",\"Unknown\",\"CJ0 (1995-2003)\",\"C10 (1984-1988)\"],\"Eclipse\":[\"IV (2006-)\",\"I (1990-1995)\",\"II (1995-1999)\",\"III (1999-2006)\"],\"Eclipse Cross\":[\"Unknown\"],\"Endeavor\":[\"Unknown\"],\"Galant\":[\"VIII (1996-2006)\",\"VI (1987-1992)\",\"VII (1992-1997)\",\"Unknown\"],\"Grandis\":[\"Unknown\"],\"Inny\":[\"Unknown\"],\"L200\":[\"Unknown\"],\"L400\":[\"Unknown\"],\"Lancer\":[\"VIII (2003-2008)\",\"IX (2007-2016)\",\"Unknown\",\"V (1988-1994)\",\"IV (1985-1992)\",\"VIII (2007-)\",\"VII (2003-2008)\",\"VI (1996-2003)\",\"IX (2005-2008)\"],\"Lancer Evolution\":[\"Unknown\"],\"Montero\":[\"Unknown\"],\"Outlander\":[\"II (2006-2013)\",\"III (2012-)\",\"I (2001-2006)\",\"Unknown\"],\"Pajero\":[\"III (2000-2006)\",\"II (1990-2000)\",\"IV (2007-)\",\"I (1982-1990)\",\"Unknown\"],\"Pajero Pinin\":[\"Unknown\"],\"Sigma\":[\"Unknown\"],\"Space Gear\":[\"Unknown\"],\"Space Runner\":[\"Unknown\"],\"Space Star\":[\"II (2012-)\",\"I (1998-2005)\",\"Unknown\"],\"Space Wagon\":[\"Unknown\"],\"i-MiEV\":[\"Unknown\"]},\"Moskwicz\":{\"402\":[\"Unknown\"],\"407\":[\"Unknown\"],\"408\":[\"Unknown\"]},\"NSU\":{\"1000\":[\"Unknown\"]},\"Nissan\":{\"100 NX\":[\"Unknown\"],\"200 SX\":[\"Unknown\"],\"240 SX\":[\"Unknown\"],\"280 ZX\":[\"Unknown\"],\"300 ZX\":[\"Unknown\"],\"350 Z\":[\"Unknown\"],\"370 Z\":[\"Unknown\"],\"Almera\":[\"N16 (2000-2006)\",\"Unknown\",\"N15 (1995-2000)\"],\"Almera Tino\":[\"Unknown\"],\"Altima\":[\"Unknown\"],\"Ariya\":[\"Unknown\"],\"Bluebird\":[\"Unknown\"],\"Cube\":[\"Unknown\"],\"Frontier\":[\"Unknown\"],\"GT-R\":[\"Unknown\"],\"Inny\":[\"Unknown\"],\"Interstar\":[\"Unknown\"],\"Juke\":[\"I (2010-2019)\",\"II (2019-)\",\"Unknown\"],\"King Cab\":[\"Unknown\"],\"Kubistar\":[\"Unknown\"],\"Laurel\":[\"Unknown\"],\"Leaf\":[\"Unknown\"],\"Maxima\":[\"Unknown\"],\"Micra\":[\"K14 (2017-)\",\"K13 (2010-2016)\",\"K12 (2003-2010)\",\"K11 (1992-2003)\",\"Unknown\",\"K10 (1982-1992)\"],\"Murano\":[\"Z50 (2003-2008)\",\"Z51 (2008-2014)\",\"Unknown\",\"Z52 (2015-)\",\"Z51 (2008-)\"],\"NP300 Pickup\":[\"Unknown\"],\"NV200\":[\"Unknown\"],\"NV300\":[\"Unknown\"],\"NV400\":[\"Unknown\"],\"Navara\":[\"Unknown\"],\"Note\":[\"I (2005-2013)\",\"II (2013-)\",\"Unknown\"],\"Other\":[\"Unknown\"],\"Pathfinder\":[\"Unknown\"],\"Patrol\":[\"GR I Y60 (1987-1997)\",\"GR II Y61 (1997-)\",\"Inny\",\"Unknown\"],\"Pickup\":[\"Unknown\"],\"Pixo\":[\"Unknown\"],\"Primastar\":[\"Unknown\"],\"Primera\":[\"P12 (2001-2007)\",\"P11 (1996-2002)\",\"P10/W10 (1990-1998)\",\"Unknown\"],\"Pulsar\":[\"Unknown\"],\"Qashqai\":[\"II (2013-2021)\",\"I (2007-2013)\",\"III (2021-)\",\"Unknown\",\"II (2013-)\"],\"Qashqai+2\":[\"Unknown\"],\"Quest\":[\"Unknown\"],\"Rogue\":[\"Unknown\"],\"Sentra\":[\"Unknown\"],\"Serena\":[\"Unknown\"],\"Silvia\":[\"Unknown\"],\"Skyline\":[\"Unknown\"],\"Sunny\":[\"Unknown\",\"B12/N13 (1986-1991)\",\"B13/N14 (1990-1995)\"],\"Terrano\":[\"Unknown\",\"II (1995-)\",\"I (1987-1995)\"],\"Tiida\":[\"Unknown\"],\"Titan\":[\"Unknown\"],\"Townstar\":[\"Unknown\"],\"X-Trail\":[\"III (2014-)\",\"II (2007-2014)\",\"I (2001-2007)\",\"Unknown\"],\"Xterra\":[\"Unknown\"]},\"Nysa\":{\"Other\":[\"Unknown\"],\"Seria 500\":[\"Unknown\"]},\"Oldsmobile\":{\"Aurora\":[\"Unknown\"],\"Cutlass\":[\"Unknown\"],\"Delta 88\":[\"Unknown\"],\"Eighty - Eight\":[\"Unknown\"],\"Other\":[\"Unknown\"],\"Toronado\":[\"Unknown\"]},\"Opel\":{\"Adam\":[\"Unknown\"],\"Agila\":[\"B (2008-2014)\",\"A (2000-2007)\",\"Unknown\"],\"Ampera\":[\"Unknown\"],\"Antara\":[\"Unknown\"],\"Ascona\":[\"Unknown\"],\"Astra\":[\"J (2009-2019)\",\"L (2021-)\",\"H (2004-2014)\",\"K (2015-2021)\",\"G (1998-2009)\",\"Unknown\",\"F (1991-2002)\",\"K (2015-)\",\"J (2009-2015)\"],\"Calibra\":[\"Unknown\"],\"Campo\":[\"Unknown\"],\"Cascada\":[\"Unknown\"],\"Combo\":[\"E (2018-)\",\"D (2011-2018)\",\"C (2001-2011)\",\"B (1994-2000)\",\"Unknown\"],\"Commodore\":[\"Unknown\"],\"Corsa\":[\"E (2014-2019)\",\"D (2006-2014)\",\"C (2000-2006)\",\"F (2019-)\",\"B (1993-2000)\",\"Unknown\",\"A (1982-1993)\"],\"Crossland\":[\"Unknown\"],\"Crossland X\":[\"Unknown\"],\"Frontera\":[\"A (1992-1998)\",\"B (1998-2004)\"],\"GT\":[\"Unknown\"],\"Grandland\":[\"Unknown\"],\"Grandland X\":[\"Unknown\"],\"Inny\":[\"Unknown\"],\"Insignia\":[\"B (2017-)\",\"A (2008-2017)\",\"Unknown\"],\"Kadett\":[\"E (1984-1994)\",\"C (1973-1979)\",\"Unknown\"],\"Karl\":[\"Unknown\"],\"Meriva\":[\"II (2010-)\",\"I (2002-2010)\",\"Unknown\"],\"Mokka\":[\"Unknown\"],\"Monterey\":[\"Unknown\"],\"Monza\":[\"Unknown\"],\"Movano\":[\"II (2003-2010)\",\"III (2010-)\",\"I (1999-2003)\"],\"Omega\":[\"B (1994-1999)\",\"B FL (1999-2003)\",\"A (1986-1994)\",\"Unknown\"],\"Other\":[\"Unknown\"],\"Rekord\":[\"Unknown\"],\"Signum\":[\"Unknown\"],\"Sintra\":[\"Unknown\"],\"Speedster\":[\"Unknown\"],\"Tigra\":[\"II (2004-2009)\",\"Unknown\",\"I (1994-2001)\"],\"Vectra\":[\"B (1995-2002)\",\"C (2002-2008)\",\"Unknown\",\"A (1988-1995)\"],\"Vivaro\":[\"II (2014-2019)\",\"I (2001-2014)\",\"III (2019-)\",\"Unknown\",\"II (2014-)\"],\"Zafira\":[\"C (2011-2019)\",\"A (1999-2005)\",\"B (2005-2014)\",\"Unknown\",\"D (2019-)\"]},\"Peugeot\":{\"1007\":[\"Unknown\"],\"104\":[\"Unknown\"],\"106\":[\"II (1996-2006)\",\"I (1991-1996)\"],\"107\":[\"Unknown\"],\"108\":[\"Unknown\"],\"2008\":[\"I (2013-2019)\",\"II (2019-)\",\"Unknown\"],\"205\":[\"Unknown\"],\"206\":[\"Unknown\"],\"206 CC\":[\"Unknown\"],\"206 plus\":[\"Unknown\"],\"207\":[\"Unknown\"],\"207 CC\":[\"Unknown\"],\"208\":[\"II (2019-)\",\"I (2012-2019)\",\"Unknown\"],\"3008\":[\"II (2016-)\",\"I (2009-2016)\",\"Unknown\"],\"301\":[\"Unknown\"],\"306\":[\"Unknown\"],\"307\":[\"II (2005-)\",\"I (2001-2005)\",\"Unknown\"],\"307 CC\":[\"Unknown\"],\"308\":[\"T9 (2014-2021)\",\"T7 (2008-2013)\",\"Unknown\",\"P5 (2021-)\",\"T9 (2014-)\"],\"308 CC\":[\"Unknown\"],\"309\":[\"Unknown\"],\"4007\":[\"Unknown\"],\"4008\":[\"Unknown\"],\"405\":[\"Unknown\"],\"406\":[\"Unknown\"],\"407\":[\"Unknown\"],\"408\":[\"Unknown\"],\"5008\":[\"I (2009-2017)\",\"II (2017-)\",\"Unknown\"],\"504\":[\"Unknown\"],\"508\":[\"Unknown\"],\"605\":[\"Unknown\"],\"607\":[\"Unknown\"],\"807\":[\"Unknown\"],\"Bipper\":[\"Unknown\"],\"Boxer\":[\"Unknown\"],\"Expert\":[\"Unknown\"],\"Inny\":[\"Unknown\"],\"Other\":[\"Unknown\"],\"Partner\":[\"II (2008-2019)\",\"I (1996-2011)\",\"III (2019-)\",\"Unknown\",\"II (2008-2018)\",\"I (1996-2007)\"],\"RCZ\":[\"Unknown\"],\"Rifter\":[\"Unknown\"],\"Traveller\":[\"Unknown\"],\"iOn\":[\"Unknown\"]},\"Piaggio\":{\"Inny\":[\"Unknown\"]},\"Plymouth\":{\"Fury\":[\"Unknown\"],\"Other\":[\"Unknown\"],\"Prowler\":[\"Unknown\"],\"Road Runner\":[\"Unknown\"],\"Voyager\":[\"Unknown\",\"I (1984-1995)\"]},\"Polestar\":{\"2\":[\"Unknown\"]},\"Polonez\":{\"1.5\":[\"Unknown\"],\"1.6\":[\"Unknown\"],\"Atu\":[\"Unknown\"],\"Caro\":[\"Unknown\"],\"Inny\":[\"Unknown\"]},\"Pontiac\":{\"Bonneville\":[\"Unknown\"],\"Catalina\":[\"Unknown\"],\"Chieftain\":[\"Unknown\"],\"Fiero\":[\"Unknown\"],\"Firebird\":[\"Unknown\"],\"G6\":[\"Unknown\"],\"Grand-Prix\":[\"Unknown\"],\"Inny\":[\"Unknown\"],\"Solstice\":[\"Unknown\"],\"Trans Am\":[\"Unknown\"],\"Vibe\":[\"Unknown\"]},\"Porsche\":{\"356\":[\"Unknown\"],\"718 Boxster\":[\"Unknown\"],\"718 Cayman\":[\"Unknown\"],\"718 Spyder\":[\"Unknown\"],\"911\":[\"996 (1997-2004)\",\"991 (2011-2018)\",\"992 (2019-)\",\"997 (2005-2011)\",\"930 (1983-1990)\",\"993 (1993-1997)\",\"Unknown\",\"964 (1989-1994)\"],\"912\":[\"Unknown\"],\"914\":[\"Unknown\"],\"924\":[\"Unknown\"],\"928\":[\"Unknown\"],\"944\":[\"Unknown\"],\"Boxster\":[\"Unknown\"],\"Carrera GT\":[\"Unknown\"],\"Cayenne\":[\"II (2010-)\",\"III (2017-)\",\"I (2002-2010)\",\"Unknown\"],\"Cayman\":[\"Unknown\"],\"Inny\":[\"Unknown\"],\"Macan\":[\"Unknown\"],\"Panamera\":[\"Unknown\"],\"Taycan\":[\"Unknown\"]},\"RAM\":{\"1500\":[\"Unknown\"],\"2500\":[\"Unknown\"],\"Inny\":[\"Unknown\"],\"Other\":[\"Unknown\"]},\"Renault\":{\"18\":[\"Unknown\"],\"19\":[\"I (1988-1992)\",\"II (1992-1997)\",\"Unknown\"],\"4\":[\"Unknown\"],\"5\":[\"I (2005-2010)\",\"Unknown\"],\"Alaskan\":[\"Unknown\"],\"Arkana\":[\"Unknown\"],\"Austral\":[\"Unknown\"],\"Avantime\":[\"Unknown\"],\"Captur\":[\"I (2013-2019)\",\"II (2019-)\",\"Unknown\"],\"Clio\":[\"IV (2012-2018)\",\"III (2005-2012)\",\"V (2019-)\",\"Unknown\",\"II (1998-2012)\",\"I (1990-1998)\"],\"Coupe\":[\"Unknown\"],\"Espace\":[\"IV (2003-2014)\",\"V (2015-)\",\"III (1997-2003)\",\"Unknown\"],\"Express\":[\"Unknown\"],\"Fluence\":[\"Unknown\"],\"Fuego\":[\"Unknown\"],\"Grand Espace\":[\"Unknown\"],\"Grand Scenic\":[\"II (2009-2016)\",\"III (2016-2021)\",\"I (2003-2009)\",\"Unknown\",\"II (2003-2009)\",\"III (2009-2013)\",\"IV (2013-)\"],\"Inny\":[\"Unknown\"],\"Kadjar\":[\"Unknown\"],\"Kangoo\":[\"IV (2013-)\",\"I (1998-2008)\",\"II (2008-)\",\"Unknown\"],\"Koleos\":[\"I (2006-2016)\",\"II (2016-)\",\"Unknown\"],\"Laguna\":[\"III (2007-)\",\"II (2001-2007)\",\"Unknown\",\"I (1993-2001)\"],\"Latitude\":[\"Unknown\"],\"Master\":[\"III (2003-2010)\",\"IV (2010-)\",\"Unknown\",\"II (1998-2003)\"],\"Megane\":[\"III (2008-2016)\",\"II (2002-2008)\",\"IV (2016-)\",\"Unknown\",\"I (1996-2002)\"],\"Modus\":[\"Unknown\"],\"Other\":[\"Unknown\"],\"Safrane\":[\"Unknown\"],\"Scenic\":[\"III (2009-2016)\",\"II (2003-2009)\",\"Unknown\",\"IV (2016-)\",\"I (1997-2003)\",\"III (2009-2013)\",\"IV (2013-)\"],\"Scenic Conquest\":[\"Unknown\"],\"Scenic RX4\":[\"Unknown\"],\"Talisman\":[\"Unknown\"],\"Thalia\":[\"Unknown\"],\"Trafic\":[\"III (2014-)\",\"II (2001-2014)\",\"Unknown\",\"I (1981-2000)\"],\"Twingo\":[\"II (2007-2014)\",\"III (2014-)\",\"I (1993-2007)\",\"Unknown\"],\"Twizy\":[\"Unknown\"],\"Vel Satis\":[\"Unknown\"],\"Wind\":[\"Unknown\"],\"Zoe\":[\"Unknown\"]},\"Rolls-Royce\":{\"Cullinan\":[\"Unknown\"],\"Dawn\":[\"Unknown\"],\"Ghost\":[\"Unknown\"],\"Other\":[\"Unknown\"],\"Silver Shadow\":[\"Unknown\"],\"Silver Spur\":[\"Unknown\"],\"Wraith\":[\"Unknown\"]},\"Rover\":{\"200\":[\"Unknown\"],\"214\":[\"Unknown\"],\"216\":[\"Unknown\"],\"220\":[\"Unknown\"],\"25\":[\"Unknown\"],\"400\":[\"Unknown\"],\"416\":[\"Unknown\"],\"45\":[\"Unknown\"],\"75\":[\"Unknown\"],\"827\":[\"Unknown\"],\"Inny\":[\"Unknown\"],\"Other\":[\"Unknown\"],\"Streetwise\":[\"Unknown\"]},\"Saab\":{\"9-2X\":[\"Unknown\"],\"9-3\":[\"II (2003-2011)\",\"I (1998-2002)\",\"Unknown\"],\"9-3X\":[\"Unknown\"],\"9-5\":[\"Unknown\"],\"9-7X\":[\"Unknown\"],\"90\":[\"B2 (1984-1986)\"],\"900\":[\"Unknown\"],\"9000\":[\"Unknown\"],\"96\":[\"Unknown\"],\"Inny\":[\"Unknown\"],\"Other\":[\"Unknown\"]},\"Santana\":{\"PS-10\":[\"Unknown\"]},\"Saturn\":{\"Outlook\":[\"Unknown\"]},\"Scion\":{\"xA\":[\"Unknown\"]},\"Seat\":{\"Alhambra\":[\"I (1996-2010)\",\"II (2010-)\",\"Unknown\"],\"Altea\":[\"Unknown\"],\"Altea XL\":[\"Unknown\"],\"Arona\":[\"Unknown\"],\"Arosa\":[\"Unknown\"],\"Ateca\":[\"Unknown\"],\"Cordoba\":[\"II (2002-2010)\",\"I FL (1999-2002)\",\"I (1993-1999)\",\"Unknown\"],\"Exeo\":[\"Unknown\"],\"Ibiza\":[\"III (2002-2008)\",\"IV (2008-2017)\",\"V (2017-)\",\"II FL (1999-2002)\",\"II (1993-1999)\",\"Unknown\"],\"Leon\":[\"IV (2020 - )\",\"III (2012-)\",\"II (2005-2012)\",\"I (1999-2005)\",\"Unknown\"],\"Marbella\":[\"Unknown\"],\"Mii\":[\"Unknown\"],\"Ronda\":[\"Unknown\"],\"Tarraco\":[\"Unknown\"],\"Toledo\":[\"II (1999-2004)\",\"III (2004-2009)\",\"IV (2012-2018)\",\"Unknown\",\"I (1991-1999)\"]},\"Seres\":{\"3\":[\"Unknown\"]},\"Skoda\":{\"130\":[\"Unknown\"],\"Citigo\":[\"Unknown\"],\"Enyaq\":[\"Unknown\"],\"Fabia\":[\"I (1999-2008)\",\"II (2007-2014)\",\"III (2014-2021)\",\"Unknown\",\"IV (2021-)\"],\"Favorit\":[\"Unknown\"],\"Felicia\":[\"Unknown\"],\"Kamiq\":[\"Unknown\"],\"Karoq\":[\"Unknown\"],\"Kodiaq\":[\"Unknown\"],\"Octavia\":[\"II (2004-2013)\",\"III (2013-)\",\"IV (2020-)\",\"I (1996-2011)\",\"Unknown\"],\"Praktik\":[\"Unknown\"],\"RAPID\":[\"Unknown\"],\"Roomster\":[\"Unknown\"],\"Scala\":[\"Unknown\"],\"Superb\":[\"II (2008-2018)\",\"I (2001-2008)\",\"III (2015-)\",\"Unknown\"],\"Yeti\":[\"Unknown\"]},\"Smart\":{\"Forfour\":[\"II (2014-)\",\"I (2004-2006)\",\"Unknown\"],\"Fortwo\":[\"Unknown\",\"I (1998-2007)\",\"II (2007-2013)\",\"III (2014-)\"],\"Inny\":[\"Unknown\"],\"Roadster\":[\"Unknown\"]},\"SsangYong\":{\"Actyon\":[\"Unknown\"],\"Inny\":[\"Unknown\"],\"Korando\":[\"Unknown\"],\"Kyron\":[\"Unknown\"],\"MUSSO\":[\"Unknown\"],\"Musso\":[\"Unknown\"],\"Other\":[\"Unknown\"],\"REXTON\":[\"Unknown\"],\"Rodius\":[\"Unknown\"],\"Tivoli\":[\"Unknown\"],\"Tivoli Grand\":[\"Unknown\"],\"Torres\":[\"Unknown\"],\"XLV\":[\"Unknown\"]},\"Subaru\":{\"Ascent\":[\"Unknown\"],\"B9 Tribeca\":[\"Unknown\"],\"BRZ\":[\"Unknown\"],\"Baja\":[\"Unknown\"],\"Forester\":[\"V (2019 - )\",\"II (2002-2008)\",\"IV (2013-)\",\"III (2008-2012)\",\"I (1997-2002)\",\"Unknown\"],\"G3X Justy\":[\"Unknown\"],\"Impreza\":[\"GD (2001-2007)\",\"GH (2007-)\",\"GC (1992-2001)\",\"Unknown\"],\"Inny\":[\"Unknown\"],\"Justy\":[\"Unknown\"],\"Legacy\":[\"IV (2003-2009)\",\"VI (2014-)\",\"V (2009-2014)\",\"III (1998-2003)\",\"I (1989-1994)\",\"Unknown\",\"II (1994-1999)\"],\"Levorg\":[\"Unknown\"],\"OUTBACK\":[\"III (2005-2009)\",\"IV (2009-2015)\",\"Unknown\",\"V (2015-)\",\"VI (2020 - )\",\"II (2000-2004)\",\"I (1995-1999)\",\"VI (2020-)\"],\"Other\":[\"Unknown\"],\"Outback\":[\"III (2005-2009)\",\"IV (2009-2015)\",\"V (2015-)\",\"VI (2020-)\",\"Unknown\",\"II (2000-2004)\"],\"SVX\":[\"Unknown\"],\"Solterra\":[\"Unknown\"],\"Trezia\":[\"Unknown\"],\"Tribeca\":[\"Unknown\"],\"WRX\":[\"Unknown\"],\"XV\":[\"Unknown\"]},\"Suzuki\":{\"Across\":[\"Unknown\"],\"Alto\":[\"Unknown\"],\"Baleno\":[\"Unknown\"],\"Carry\":[\"Unknown\"],\"Celerio\":[\"Unknown\"],\"Grand Vitara\":[\"II (2005-2014)\",\"I (1998-2005)\",\"Unknown\"],\"Ignis\":[\"Unknown\"],\"Inny\":[\"Unknown\"],\"Jimny\":[\"Unknown\"],\"Kizashi\":[\"Unknown\"],\"LJ\":[\"Unknown\"],\"Liana\":[\"Unknown\"],\"Other\":[\"Unknown\"],\"SJ\":[\"Unknown\"],\"SX4\":[\"I (2006-2013)\",\"II (2013-)\",\"Unknown\"],\"SX4 S-Cross\":[\"Unknown\"],\"Samurai\":[\"Unknown\"],\"Splash\":[\"Unknown\"],\"Swace\":[\"Unknown\"],\"Swift\":[\"IV (2004-2010)\",\"VI (2017-)\",\"V (2010-2017)\",\"I (1983-1989)\",\"Unknown\",\"III (1996-2004)\"],\"Vitara\":[\"Unknown\",\"II (2015-2019)\",\"III (2019-)\",\"I (1988-1999)\",\"II (1998-2005)\"],\"Wagon R+\":[\"Unknown\"],\"X-90\":[\"Unknown\"],\"XL7\":[\"Unknown\"]},\"Syrena\":{\"105\":[\"Unknown\"],\"R-20\":[\"Unknown\"]},\"Tarpan\":{\"Honker\":[\"Unknown\"],\"Other\":[\"Unknown\"]},\"Tata\":{\"Indica\":[\"Unknown\"],\"Inny\":[\"Unknown\"],\"Other\":[\"Unknown\"],\"Xenon\":[\"Unknown\"]},\"Tavria\":{\"ZAZ 1102\":[\"Unknown\"]},\"Tesla\":{\"Model 3\":[\"Unknown\"],\"Model S\":[\"Unknown\"],\"Model X\":[\"Unknown\"],\"Y\":[\"Unknown\"]},\"Toyota\":{\"4-Runner\":[\"Unknown\"],\"Auris\":[\"I (2006-2012)\",\"II (2012-)\",\"Unknown\"],\"Avalon\":[\"Unknown\"],\"Avensis\":[\"III (2009-)\",\"II (2003-2009)\",\"Unknown\",\"I (1997-2002)\"],\"Avensis Verso\":[\"Unknown\"],\"Aygo\":[\"I (2005-2014)\",\"II (2014-)\",\"Unknown\"],\"Aygo X\":[\"Unknown\"],\"C-HR\":[\"Unknown\"],\"Camry\":[\"Unknown\"],\"Camry Solara\":[\"Unknown\"],\"Carina\":[\"E (1992-1997)\"],\"Celica\":[\"Unknown\"],\"Corolla\":[\"Seria E21 (2019-)\",\"Seria E11 (1997-2002)\",\"Seria E12 (2001-2007)\",\"Seria E15 (2007-2013)\",\"Seria E16 (2012-2019)\",\"Unknown\",\"Seria E10 (1992-1997)\",\"Seria E9 (1987-1992)\",\"E8 i starsze (-1987)\"],\"Corolla Cross\":[\"Unknown\"],\"Corolla Verso\":[\"Unknown\"],\"Crown\":[\"Unknown\"],\"FJ\":[\"Unknown\"],\"GR86\":[\"Unknown\"],\"GT86\":[\"Unknown\"],\"Hiace\":[\"Unknown\"],\"Highlander\":[\"Unknown\"],\"Hilux\":[\"Unknown\"],\"Inny\":[\"Unknown\"],\"Land Cruiser\":[\"III (1996-2002)\",\"VII (2017-)\",\"IV (2002-2010)\",\"VI (2010-2017)\",\"II (1989-1997)\",\"V (2007-2010)\",\"I (1981-1990)\",\"Unknown\",\"IV (2002-2009)\",\"V (2008-2010)\",\"VI (2010-)\"],\"MR2\":[\"Unknown\"],\"Matrix\":[\"Unknown\"],\"Other\":[\"Unknown\"],\"Paseo\":[\"Unknown\"],\"Previa\":[\"Unknown\"],\"Prius\":[\"III (2009-2015)\",\"IV (2015-2020)\",\"II (2003-2009)\",\"Unknown\",\"I (1997-2003)\",\"II (2000 - 2003)\"],\"Prius+\":[\"Unknown\"],\"ProAce\":[\"Unknown\"],\"Proace City\":[\"Unknown\"],\"Proace City Verso\":[\"Unknown\"],\"Proace Verso\":[\"Unknown\"],\"RAV4\":[\"V (2018-)\",\"III (2006-2012)\",\"II (2000-2005)\",\"IV (2012-2018)\",\"I (1994-2000)\",\"Unknown\"],\"Sequoia\":[\"Unknown\"],\"Sienna\":[\"Unknown\"],\"Starlet\":[\"Unknown\"],\"Supra\":[\"Unknown\"],\"Tacoma\":[\"Unknown\"],\"Tundra\":[\"Unknown\"],\"Urban Cruiser\":[\"Unknown\"],\"Venza\":[\"Unknown\"],\"Verso\":[\"Unknown\"],\"Verso S\":[\"Unknown\"],\"Yaris\":[\"III (2011-2019)\",\"I (1999-2005)\",\"II (2005-2011)\",\"Unknown\",\"IV (2020-)\",\"III (2011-)\"],\"Yaris Cross\":[\"Unknown\"],\"Yaris Verso\":[\"Unknown\"],\"bZ4X\":[\"Unknown\"],\"iQ\":[\"Unknown\"]},\"Trabant\":{\"601\":[\"Unknown\"],\"Inny\":[\"Unknown\"],\"Other\":[\"Unknown\"]},\"Triumph\":{\"Inny\":[\"Unknown\"],\"Other\":[\"Unknown\"],\"Spitfire\":[\"Unknown\"],\"TR3\":[\"Unknown\"],\"TR4\":[\"Unknown\"],\"TR6\":[\"Unknown\"]},\"Uaz\":{\"452\":[\"Unknown\"],\"Other\":[\"Unknown\"]},\"VELEX\":{\"Inny\":[\"Unknown\"]},\"Vanderhall\":{\"Speedster\":[\"Unknown\"]},\"Vauxhall\":{\"Vectra\":[\"A (1988-1995)\"],\"Vivaro\":[\"Unknown\"]},\"Volkswagen\":{\"Amarok\":[\"Unknown\"],\"Arteon\":[\"Unknown\"],\"Atlas\":[\"Unknown\"],\"Beetle\":[\"Unknown\"],\"Bora\":[\"Unknown\"],\"Buggy\":[\"Unknown\"],\"CC\":[\"Unknown\"],\"Caddy\":[\"IV (2015-2020)\",\"III (2004-2015)\",\"V (2020-)\",\"Unknown\",\"II (1995-2003)\",\"III (2004-)\",\"I (1983-1993)\"],\"California\":[\"Unknown\"],\"Caravelle\":[\"Unknown\"],\"Corrado\":[\"Unknown\"],\"Crafter\":[\"Unknown\"],\"Eos\":[\"Unknown\"],\"Fox\":[\"Unknown\"],\"Garbus\":[\"Unknown\"],\"Golf\":[\"VII (2012-2020)\",\"VI (2008-2013)\",\"Unknown\",\"V (2003-2009)\",\"IV (1997-2006)\",\"VIII (2020-)\",\"II (1983-1992)\",\"III (1991-1998)\",\"I (1974-1983)\"],\"Golf Plus\":[\"II (2008-2012)\",\"I (2004-2008)\",\"Unknown\"],\"Golf Sportsvan\":[\"Unknown\"],\"ID.3\":[\"Unknown\"],\"ID.4\":[\"Unknown\"],\"ID.5\":[\"Unknown\"],\"ID.6\":[\"Unknown\"],\"ID.Buzz\":[\"Unknown\"],\"Inny\":[\"Unknown\"],\"Jetta\":[\"A6 (2010-2018)\",\"A5 (2005-2010)\",\"A7 (2018-)\",\"A2 (1984-1992)\",\"A6 (2010-)\",\"Unknown\",\"A1 (1980-1984)\"],\"Kafer\":[\"Unknown\"],\"Karmann Ghia\":[\"Unknown\"],\"LT\":[\"Unknown\"],\"Lupo\":[\"Unknown\"],\"Multivan\":[\"Unknown\"],\"New Beetle\":[\"Unknown\"],\"Other\":[\"Unknown\"],\"Passat\":[\"B8 (2014-)\",\"B5 FL (2000-2005)\",\"B6 (2005-2010)\",\"B7 (2010-2014)\",\"B5 (1996-2000)\",\"Unknown\",\"B4 (1993-1997)\",\"B2 (1981-1987)\",\"B3 (1988-1993)\",\"B1 (1973-1981)\"],\"Passat CC\":[\"Unknown\"],\"Phaeton\":[\"Unknown\"],\"Polo\":[\"VI (2017-)\",\"IV (2001-2009)\",\"V (2009-2017)\",\"III (1994-2001)\",\"Unknown\",\"II (1981-1994)\",\"V (2009-2014)\",\"I (1975-1981)\"],\"Routan\":[\"Unknown\"],\"Santana\":[\"Unknown\"],\"Scirocco\":[\"Unknown\"],\"Sharan\":[\"I (1995-2010)\",\"II (2010-)\",\"Unknown\"],\"T-Cross\":[\"Unknown\"],\"T-Roc\":[\"Unknown\"],\"Taigo\":[\"Unknown\"],\"Teramont\":[\"Unknown\"],\"Tiguan\":[\"II (2016-)\",\"I (2007-2016)\",\"Unknown\"],\"Tiguan Allspace\":[\"Unknown\"],\"Touareg\":[\"II (2010-)\",\"III (2018-)\",\"Unknown\",\"I (2002-2010)\"],\"Touran\":[\"II (2010-2015)\",\"I (2003-2010)\",\"Unknown\",\"III (2015-)\"],\"Transporter\":[\"T4\",\"T2\",\"T6\",\"T5\",\"Unknown\",\"T3\",\"T1\"],\"Vento\":[\"Unknown\"],\"up!\":[\"Unknown\"]},\"Volvo\":{\"245\":[\"Unknown\"],\"262\":[\"Unknown\"],\"340\":[\"Unknown\"],\"744\":[\"Unknown\"],\"850\":[\"Unknown\"],\"945\":[\"Unknown\"],\"965\":[\"Unknown\"],\"C30\":[\"Unknown\"],\"C40\":[\"Unknown\"],\"C70\":[\"Unknown\"],\"EX30\":[\"Unknown\"],\"EX90\":[\"Unknown\"],\"Inny\":[\"Unknown\"],\"Other\":[\"Unknown\"],\"P1800\":[\"Unknown\"],\"S40\":[\"II (2004-2012)\",\"Unknown\",\"I (1995-2004)\"],\"S60\":[\"III (2018-)\",\"I (2000-2010)\",\"II (2010-)\",\"Unknown\"],\"S70\":[\"Unknown\"],\"S80\":[\"II (2006-)\",\"I (1998-2006)\",\"Unknown\"],\"S90\":[\"Unknown\"],\"Seria 200\":[\"Unknown\"],\"Seria 400\":[\"Unknown\"],\"Seria 700\":[\"Unknown\"],\"Seria 900\":[\"Unknown\"],\"V40\":[\"II (2012-)\",\"I (1995-2004)\",\"Unknown\"],\"V50\":[\"Unknown\"],\"V60\":[\"I (2011-2018)\",\"II (2018- )\",\"Unknown\"],\"V60 Cross Country\":[\"Unknown\"],\"V70\":[\"III (2007-)\",\"II (1999-2007)\",\"I (1997-2000)\",\"Unknown\"],\"V90\":[\"Unknown\"],\"V90 Cross Country\":[\"Unknown\"],\"XC 40\":[\"Unknown\"],\"XC 60\":[\"II (2017-)\",\"I (2008-2017)\",\"Unknown\"],\"XC 70\":[\"Unknown\"],\"XC 90\":[\"II (2014-)\",\"I (2002-2014)\",\"Unknown\"]},\"Warszawa\":{\"203\":[\"Unknown\"],\"224\":[\"Unknown\"],\"M-20\":[\"Unknown\"]},\"Wartburg\":{\"1.3\":[\"Unknown\"],\"311.0\":[\"Unknown\"],\"353\":[\"Unknown\"],\"353.0\":[\"Unknown\"],\"Inny\":[\"Unknown\"]},\"Wo\\u0142ga\":{\"GAZ-21\":[\"Unknown\"],\"GAZ-24\":[\"Unknown\"],\"Other\":[\"Unknown\"]},\"Zaporo\\u017cec\":{\"Other\":[\"Unknown\"]},\"Zastava\":{\"1100\":[\"Unknown\"],\"Other\":[\"Unknown\"]},\"\\u0160koda\":{\"105\":[\"Unknown\"],\"Citigo\":[\"Unknown\"],\"Fabia\":[\"III (2014-)\",\"II (2007-)\",\"I (1999-2008)\",\"Unknown\"],\"Favorit\":[\"Unknown\"],\"Felicia\":[\"Unknown\"],\"Forman\":[\"Unknown\"],\"Kamiq\":[\"Unknown\"],\"Karoq\":[\"Unknown\"],\"Kodiaq\":[\"Unknown\"],\"Octavia\":[\"II (2004-2013)\",\"I (1996-2011)\",\"III (2013-)\",\"IV (2020-)\",\"Unknown\"],\"Praktik\":[\"Unknown\"],\"RAPID\":[\"Unknown\"],\"Roomster\":[\"Unknown\"],\"Scala\":[\"Unknown\"],\"Superb\":[\"II (2008-2018)\",\"I (2001-2008)\",\"III (2015-)\",\"Unknown\"],\"Yeti\":[\"Unknown\"]},\"\\u017buk\":{\"Inny\":[\"Unknown\"],\"Other\":[\"Unknown\"]}}\n",
    "\n",
    "# Zapisywanie słownika do pliku JSON\n",
    "with open(nazwa_pliku, 'w') as plik:\n",
    "    json.dump(dictionary, plik, indent=4)"
   ]
  },
  {
   "cell_type": "code",
   "execution_count": null,
   "id": "da31ad5a",
   "metadata": {},
   "outputs": [],
   "source": []
  }
 ],
 "metadata": {
  "kernelspec": {
   "display_name": "Python 3 (ipykernel)",
   "language": "python",
   "name": "python3"
  },
  "language_info": {
   "codemirror_mode": {
    "name": "ipython",
    "version": 3
   },
   "file_extension": ".py",
   "mimetype": "text/x-python",
   "name": "python",
   "nbconvert_exporter": "python",
   "pygments_lexer": "ipython3",
   "version": "3.11.3"
  }
 },
 "nbformat": 4,
 "nbformat_minor": 5
}
